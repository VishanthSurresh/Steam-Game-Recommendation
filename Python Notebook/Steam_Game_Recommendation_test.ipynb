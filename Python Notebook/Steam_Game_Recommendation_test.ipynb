{
  "cells": [
    {
      "cell_type": "code",
      "execution_count": 1,
      "metadata": {
        "colab": {
          "base_uri": "https://localhost:8080/"
        },
        "id": "I5yPmJERFUq8",
        "outputId": "d73bfc8e-e811-4ca3-897f-9438a2490e7e"
      },
      "outputs": [
        {
          "output_type": "stream",
          "name": "stdout",
          "text": [
            "Looking in indexes: https://pypi.org/simple, https://us-python.pkg.dev/colab-wheels/public/simple/\n",
            "Collecting pyspark\n",
            "  Downloading pyspark-3.3.2.tar.gz (281.4 MB)\n",
            "\u001b[2K     \u001b[90m━━━━━━━━━━━━━━━━━━━━━━━━━━━━━━━━━━━━━━━\u001b[0m \u001b[32m281.4/281.4 MB\u001b[0m \u001b[31m4.2 MB/s\u001b[0m eta \u001b[36m0:00:00\u001b[0m\n",
            "\u001b[?25h  Preparing metadata (setup.py) ... \u001b[?25l\u001b[?25hdone\n",
            "Collecting py4j==0.10.9.5\n",
            "  Downloading py4j-0.10.9.5-py2.py3-none-any.whl (199 kB)\n",
            "\u001b[2K     \u001b[90m━━━━━━━━━━━━━━━━━━━━━━━━━━━━━━━━━━━━━━\u001b[0m \u001b[32m199.7/199.7 KB\u001b[0m \u001b[31m18.9 MB/s\u001b[0m eta \u001b[36m0:00:00\u001b[0m\n",
            "\u001b[?25hBuilding wheels for collected packages: pyspark\n",
            "  Building wheel for pyspark (setup.py) ... \u001b[?25l\u001b[?25hdone\n",
            "  Created wheel for pyspark: filename=pyspark-3.3.2-py2.py3-none-any.whl size=281824028 sha256=87c1278481310b94261c749b966b28fd657cc411bb6672d8ebfa414393f9aa52\n",
            "  Stored in directory: /root/.cache/pip/wheels/6c/e3/9b/0525ce8a69478916513509d43693511463c6468db0de237c86\n",
            "Successfully built pyspark\n",
            "Installing collected packages: py4j, pyspark\n",
            "  Attempting uninstall: py4j\n",
            "    Found existing installation: py4j 0.10.9.7\n",
            "    Uninstalling py4j-0.10.9.7:\n",
            "      Successfully uninstalled py4j-0.10.9.7\n",
            "Successfully installed py4j-0.10.9.5 pyspark-3.3.2\n"
          ]
        }
      ],
      "source": [
        "pip install pyspark"
      ]
    },
    {
      "cell_type": "code",
      "execution_count": 2,
      "metadata": {
        "colab": {
          "base_uri": "https://localhost:8080/"
        },
        "id": "4VKIpRqrTeRh",
        "outputId": "388cef12-3d21-48ec-dbd7-5e67dc87b693"
      },
      "outputs": [
        {
          "output_type": "stream",
          "name": "stdout",
          "text": [
            "Mounted at /content/drive\n"
          ]
        }
      ],
      "source": [
        "from google.colab import drive\n",
        "drive.mount('/content/drive')"
      ]
    },
    {
      "cell_type": "markdown",
      "metadata": {
        "id": "VnTQEmsWSDlR"
      },
      "source": [
        "# Import Libraries and Spark Session\n"
      ]
    },
    {
      "cell_type": "code",
      "execution_count": 3,
      "metadata": {
        "id": "x9QExASLHUfg"
      },
      "outputs": [],
      "source": [
        "import pandas as pd\n",
        "import io\n",
        "import matplotlib.pyplot as plt\n",
        "from pyspark.rdd import RDD\n",
        "from pyspark.sql import Row\n",
        "from pyspark.sql import DataFrame\n",
        "from pyspark.sql import SparkSession\n",
        "from pyspark.sql.functions import lit\n",
        "from pyspark.sql.functions import desc\n",
        "from pyspark.ml.evaluation import RegressionEvaluator\n",
        "from pyspark.ml.recommendation import ALS\n",
        "from pyspark.sql.functions import sum,avg,max,min,mean,count,sqrt\n",
        "from pyspark.sql.functions import col,when\n",
        "from pyspark.sql import functions as F \n",
        "from pyspark.sql.functions import col,isnan, when, count\n",
        "from pyspark.ml.evaluation import RegressionEvaluator\n",
        "import seaborn as sns"
      ]
    },
    {
      "cell_type": "code",
      "execution_count": 4,
      "metadata": {
        "id": "5N4VD6nLFvS8"
      },
      "outputs": [],
      "source": [
        "#Initialize a spark session.\n",
        "def spark_intialization():\n",
        "    spark = SparkSession \\\n",
        "        .builder \\\n",
        "        .appName(\"Pyspark Project\") \\\n",
        "        .config(\"spark.sql.pivotMaxValues\", \"200000\") \\\n",
        "        .config(\"spark.driver.memory\", \"4g\") \\\n",
        "        .config(\"spark.executor.memory\", \"8g\") \\\n",
        "        .getOrCreate()\n",
        "    return spark"
      ]
    },
    {
      "cell_type": "code",
      "execution_count": 5,
      "metadata": {
        "colab": {
          "base_uri": "https://localhost:8080/",
          "height": 221
        },
        "id": "zLSQuPcCGSFU",
        "outputId": "31fcfbd7-d792-4612-ffd7-28a350ca10af"
      },
      "outputs": [
        {
          "output_type": "execute_result",
          "data": {
            "text/plain": [
              "<pyspark.sql.session.SparkSession at 0x7f81c3cc4610>"
            ],
            "text/html": [
              "\n",
              "            <div>\n",
              "                <p><b>SparkSession - in-memory</b></p>\n",
              "                \n",
              "        <div>\n",
              "            <p><b>SparkContext</b></p>\n",
              "\n",
              "            <p><a href=\"http://19ee518c3677:4040\">Spark UI</a></p>\n",
              "\n",
              "            <dl>\n",
              "              <dt>Version</dt>\n",
              "                <dd><code>v3.3.2</code></dd>\n",
              "              <dt>Master</dt>\n",
              "                <dd><code>local[*]</code></dd>\n",
              "              <dt>AppName</dt>\n",
              "                <dd><code>Pyspark Project</code></dd>\n",
              "            </dl>\n",
              "        </div>\n",
              "        \n",
              "            </div>\n",
              "        "
            ]
          },
          "metadata": {},
          "execution_count": 5
        }
      ],
      "source": [
        "# Initialise spark object\n",
        "spark = spark_intialization()\n",
        "spark"
      ]
    },
    {
      "cell_type": "markdown",
      "metadata": {
        "id": "UC080uvRq5ms"
      },
      "source": [
        "# DATA PREPROCESSING"
      ]
    },
    {
      "cell_type": "code",
      "execution_count": 39,
      "metadata": {
        "colab": {
          "base_uri": "https://localhost:8080/"
        },
        "id": "WPfylbNUGzMD",
        "outputId": "548c6b45-75d8-40c8-b0f4-48a0b389c342"
      },
      "outputs": [
        {
          "output_type": "stream",
          "name": "stdout",
          "text": [
            "+---------+--------------------+--------------+------------+\n",
            "|  USER_ID|          Steam_Game|Behaviour_Name|Hours_played|\n",
            "+---------+--------------------+--------------+------------+\n",
            "|151603712|The Elder Scrolls...|      purchase|         1.0|\n",
            "|151603712|The Elder Scrolls...|          play|       273.0|\n",
            "|151603712|           Fallout 4|      purchase|         1.0|\n",
            "|151603712|           Fallout 4|          play|        87.0|\n",
            "|151603712|               Spore|      purchase|         1.0|\n",
            "|151603712|               Spore|          play|        14.9|\n",
            "|151603712|   Fallout New Vegas|      purchase|         1.0|\n",
            "|151603712|   Fallout New Vegas|          play|        12.1|\n",
            "|151603712|       Left 4 Dead 2|      purchase|         1.0|\n",
            "|151603712|       Left 4 Dead 2|          play|         8.9|\n",
            "+---------+--------------------+--------------+------------+\n",
            "only showing top 10 rows\n",
            "\n"
          ]
        }
      ],
      "source": [
        "from pyspark.sql import functions as pyspark_functions\n",
        "from pyspark.sql.types import *\n",
        "schema = StructType([ \\\n",
        "                     StructField(\"USER_ID\", IntegerType(), True), \\\n",
        "                     StructField(\"Steam_Game\", StringType(), True),\\\n",
        "                     StructField(\"Behaviour_Name\", StringType(), True),\\\n",
        "                    StructField(\"Hours_played\", FloatType(), True)])\n",
        "dataframes = spark.read.schema(schema).csv(\"/content/drive/MyDrive/GOOGLE_COLAB/BigData/steam-200k.csv\", header=False)\n",
        "dataframes.show(10)"
      ]
    },
    {
      "cell_type": "code",
      "execution_count": 40,
      "metadata": {
        "colab": {
          "base_uri": "https://localhost:8080/"
        },
        "id": "jtemtFTjJtDy",
        "outputId": "421e8685-7cb0-4809-dda4-e989c318424c"
      },
      "outputs": [
        {
          "output_type": "stream",
          "name": "stdout",
          "text": [
            "+---------+--------------------+--------------+------------+\n",
            "|  USER_ID|          Steam_Game|Behaviour_Name|Hours_played|\n",
            "+---------+--------------------+--------------+------------+\n",
            "|151603712|The Elder Scrolls...|      purchase|         1.0|\n",
            "|151603712|The Elder Scrolls...|          play|       273.0|\n",
            "|151603712|           Fallout 4|      purchase|         1.0|\n",
            "|151603712|           Fallout 4|          play|        87.0|\n",
            "|151603712|               Spore|      purchase|         1.0|\n",
            "|151603712|               Spore|          play|        14.9|\n",
            "|151603712|   Fallout New Vegas|      purchase|         1.0|\n",
            "|151603712|   Fallout New Vegas|          play|        12.1|\n",
            "|151603712|       Left 4 Dead 2|      purchase|         1.0|\n",
            "|151603712|       Left 4 Dead 2|          play|         8.9|\n",
            "+---------+--------------------+--------------+------------+\n",
            "only showing top 10 rows\n",
            "\n"
          ]
        }
      ],
      "source": [
        "dataframes = dataframes.withColumnRenamed(\"_c0\",\"USER_ID\").withColumnRenamed(\"_c1\",\"Steam_Game\").withColumnRenamed(\"_c2\",\"Behaviour_Name\").withColumnRenamed(\"_c3\",\"Hours_played\")\n",
        "dataframes = dataframes.drop(\"_c4\")\n",
        "dataframes.show(10)"
      ]
    },
    {
      "cell_type": "markdown",
      "source": [
        "**Exploratory Data Analysis**"
      ],
      "metadata": {
        "id": "-IjBkFQjUdLX"
      }
    },
    {
      "cell_type": "code",
      "source": [
        "total_records = dataframes.count()\n",
        "print(\"Total records in dataframe\", total_records)\n",
        "# Find Count of Null, None, NaN of All DataFrame Columns\n",
        "from pyspark.sql.functions import col,isnan, when, count\n",
        "dataframes.select([count(when(isnan(c) | col(c).isNull(), c)).alias(c) for c in dataframes.columns]\n",
        "   ).show(truncate=False)"
      ],
      "metadata": {
        "colab": {
          "base_uri": "https://localhost:8080/"
        },
        "id": "ViAYKABTUP6b",
        "outputId": "bbefd764-88f7-406a-d044-e3a656ca6b29"
      },
      "execution_count": 41,
      "outputs": [
        {
          "output_type": "stream",
          "name": "stdout",
          "text": [
            "Total records in dataframe 200000\n",
            "+-------+----------+--------------+------------+\n",
            "|USER_ID|Steam_Game|Behaviour_Name|Hours_played|\n",
            "+-------+----------+--------------+------------+\n",
            "|0      |0         |0             |0           |\n",
            "+-------+----------+--------------+------------+\n",
            "\n"
          ]
        }
      ]
    },
    {
      "cell_type": "code",
      "source": [
        "#checking for duplicate values\n",
        "#Hours if behavior is play, 1.0 if behavior is purchase\n",
        "dataframes.groupBy(\"USER_ID\",\"Steam_Game\",\"Behaviour_Name\", \"Hours_played\").count().filter(\"count > 1\").show(5)\n",
        "#no of duplicate rows \n",
        "print(\"Duplicate Values Count\",dataframes.groupBy(\"USER_ID\",\"Steam_Game\",\"Behaviour_Name\", \"Hours_played\").count().filter(\"count > 1\").count())\n",
        "#storing distinct datapoints of our dataset in distinctDF\n",
        "df = dataframes.distinct()\n",
        "print(\"Distinct count: \"+str(df.count()))"
      ],
      "metadata": {
        "colab": {
          "base_uri": "https://localhost:8080/"
        },
        "id": "Wd3834rPUloV",
        "outputId": "c8fe800a-31bb-4313-ff67-0a3183497fa2"
      },
      "execution_count": 42,
      "outputs": [
        {
          "output_type": "stream",
          "name": "stdout",
          "text": [
            "+---------+--------------------+--------------+------------+-----+\n",
            "|  USER_ID|          Steam_Game|Behaviour_Name|Hours_played|count|\n",
            "+---------+--------------------+--------------+------------+-----+\n",
            "| 71411882|Grand Theft Auto ...|      purchase|         1.0|    2|\n",
            "| 53091150|Grand Theft Auto III|      purchase|         1.0|    2|\n",
            "| 65152385|Sid Meier's Civil...|      purchase|         1.0|    2|\n",
            "|101695880|Grand Theft Auto ...|      purchase|         1.0|    2|\n",
            "| 73721802|Sid Meier's Civil...|      purchase|         1.0|    2|\n",
            "+---------+--------------------+--------------+------------+-----+\n",
            "only showing top 5 rows\n",
            "\n",
            "Duplicate Values Count 707\n",
            "Distinct count: 199293\n"
          ]
        }
      ]
    },
    {
      "cell_type": "code",
      "source": [
        "#counting distinct users and games on the platform.\n",
        "total_users = df.select(['USER_ID']).distinct().count()\n",
        "total_games = df.select(['Steam_Game']).distinct().count()\n",
        "total_hours = df.select(['Hours_played']).distinct().count()\n",
        "print(\"Total No of Users  :\", total_users)\n",
        "print(\"Total No of Games :\", total_games)\n",
        "print(\"Total No of hours played by user :\", total_hours)"
      ],
      "metadata": {
        "colab": {
          "base_uri": "https://localhost:8080/"
        },
        "id": "FfoX3GbsVszd",
        "outputId": "e7514e12-2397-4714-cac0-5573e8a1795c"
      },
      "execution_count": 43,
      "outputs": [
        {
          "output_type": "stream",
          "name": "stdout",
          "text": [
            "Total No of Users  : 12393\n",
            "Total No of Games : 5155\n",
            "Total No of hours played by user : 1593\n"
          ]
        }
      ]
    },
    {
      "cell_type": "code",
      "source": [
        "def sparsity(df):\n",
        "    # Count the number of ratings in the rating dataframe\n",
        "    hours_played = df.select(\"Hours_played\").count()\n",
        "    \n",
        "    # Total Number of distinct users and animes\n",
        "    total_element = total_users*total_games\n",
        "    #print(total_element)\n",
        "    # Calculate  % Sparsity of Matrix Fomrula (1-(rating_count)/(total_element))*100\n",
        "    sparsity = (1-(hours_played)/total_element)*100\n",
        "    print(\" The dataframe is \", \"%.2f\" % sparsity +\"% sparse\")\n",
        "sparsity(df)"
      ],
      "metadata": {
        "colab": {
          "base_uri": "https://localhost:8080/"
        },
        "id": "KBZuX4EDV9Bv",
        "outputId": "f7f940d5-8132-4b8b-c2d3-101800c4f978"
      },
      "execution_count": 44,
      "outputs": [
        {
          "output_type": "stream",
          "name": "stdout",
          "text": [
            " The dataframe is  99.69% sparse\n"
          ]
        }
      ]
    },
    {
      "cell_type": "code",
      "source": [
        "#Most number of hours played Games\n",
        "topGames=df.groupBy(\"Steam_Game\") \\\n",
        "    .agg(count(\"Hours_played\").alias(\"Hours\")) \\\n",
        "    .sort(desc(\"Hours\"))\n",
        "topGames.show(10)\n",
        "topGames_pdf = topGames.toPandas()\n",
        "topGames_pdf = topGames_pdf.head(10)\n",
        "# plot a bar graph using pandas\n",
        "ax = topGames_pdf.plot(kind='barh',x='Steam_Game', y='Hours', title=\"Most Hours Played Game\", color=['orange'],rot=0, fontsize=12,figsize=(12, 6))\n",
        "\n",
        "# Show the chart\n",
        "plt.show()\n"
      ],
      "metadata": {
        "colab": {
          "base_uri": "https://localhost:8080/",
          "height": 682
        },
        "id": "fLV7h307WCuJ",
        "outputId": "e46af843-ff2d-48c6-e2f4-86b71b2d0f08"
      },
      "execution_count": 75,
      "outputs": [
        {
          "output_type": "stream",
          "name": "stdout",
          "text": [
            "+--------------------+-----+\n",
            "|          Steam_Game|Hours|\n",
            "+--------------------+-----+\n",
            "|              Dota 2| 9682|\n",
            "|     Team Fortress 2| 4646|\n",
            "|Counter-Strike Gl...| 2789|\n",
            "|            Unturned| 2632|\n",
            "|       Left 4 Dead 2| 1752|\n",
            "|Counter-Strike So...| 1693|\n",
            "|      Counter-Strike| 1424|\n",
            "|         Garry's Mod| 1397|\n",
            "|The Elder Scrolls...| 1394|\n",
            "|            Warframe| 1271|\n",
            "+--------------------+-----+\n",
            "only showing top 10 rows\n",
            "\n"
          ]
        },
        {
          "output_type": "display_data",
          "data": {
            "text/plain": [
              "<Figure size 864x432 with 1 Axes>"
            ],
            "image/png": "[encoded data removed]"
          },
          "metadata": {}
        }
      ]
    },
    {
      "cell_type": "code",
      "source": [
        "#Top paid Games \n",
        "topPurchaseGames = df.filter(\"Behaviour_Name == 'purchase'\").groupBy(\"Steam_Game\",\"Behaviour_Name\").count().sort(desc(\"count\"))\n",
        "topPurchaseGames.show(10)\n",
        "topPurchaseGames_pdf = topPurchaseGames.toPandas()\n",
        "\n",
        "topPurchaseGames_pdf = topPurchaseGames_pdf.head(10)\n",
        "# plot a bar graph using pandas\n",
        "ax = topPurchaseGames_pdf.plot(kind='barh',x='Steam_Game', y='count', title=\"Top 10 Paid Games\",color=['purple'],rot=0, fontsize=12,figsize=(12, 6))\n",
        "\n",
        "# Show the chart\n",
        "plt.show()\n"
      ],
      "metadata": {
        "colab": {
          "base_uri": "https://localhost:8080/",
          "height": 682
        },
        "id": "j_AeI4c5WIFe",
        "outputId": "2f7cd010-ea9d-4b0a-b71a-51437235418a"
      },
      "execution_count": 65,
      "outputs": [
        {
          "output_type": "stream",
          "name": "stdout",
          "text": [
            "+--------------------+--------------+-----+\n",
            "|          Steam_Game|Behaviour_Name|count|\n",
            "+--------------------+--------------+-----+\n",
            "|              Dota 2|      purchase| 4841|\n",
            "|     Team Fortress 2|      purchase| 2323|\n",
            "|            Unturned|      purchase| 1563|\n",
            "|Counter-Strike Gl...|      purchase| 1412|\n",
            "|Half-Life 2 Lost ...|      purchase|  981|\n",
            "|Counter-Strike So...|      purchase|  978|\n",
            "|       Left 4 Dead 2|      purchase|  951|\n",
            "|      Counter-Strike|      purchase|  856|\n",
            "|            Warframe|      purchase|  847|\n",
            "|Half-Life 2 Death...|      purchase|  823|\n",
            "+--------------------+--------------+-----+\n",
            "only showing top 10 rows\n",
            "\n"
          ]
        },
        {
          "output_type": "display_data",
          "data": {
            "text/plain": [
              "<Figure size 864x432 with 1 Axes>"
            ],
            "image/png": "[encoded data removed]"
          },
          "metadata": {}
        }
      ]
    },
    {
      "cell_type": "code",
      "source": [
        "#Top played Games \n",
        "topPlayedGames = df.filter(\"Behaviour_Name == 'play'\").groupBy(\"Steam_Game\",\"Behaviour_Name\").count().sort(desc(\"count\"))\n",
        "topPlayedGames.show(10)\n",
        "topPlayedGames_pdf = topPlayedGames.toPandas()\n",
        "\n",
        "topPlayedGames_pdf = topPlayedGames_pdf.head(10)\n",
        "# plot a bar graph using pandas\n",
        "ax = topPlayedGames_pdf.plot(kind='barh',x='Steam_Game', y='count', title=\"Top 10 Played Games\",color=['pink'],rot=0, fontsize=12,figsize=(12, 6))\n",
        "\n",
        "# Show the chart\n",
        "plt.show()\n"
      ],
      "metadata": {
        "colab": {
          "base_uri": "https://localhost:8080/",
          "height": 682
        },
        "id": "U1Ib4r8CWRda",
        "outputId": "50080674-5cf5-4280-dd7b-178f85543fc7"
      },
      "execution_count": 67,
      "outputs": [
        {
          "output_type": "stream",
          "name": "stdout",
          "text": [
            "+--------------------+--------------+-----+\n",
            "|          Steam_Game|Behaviour_Name|count|\n",
            "+--------------------+--------------+-----+\n",
            "|              Dota 2|          play| 4841|\n",
            "|     Team Fortress 2|          play| 2323|\n",
            "|Counter-Strike Gl...|          play| 1377|\n",
            "|            Unturned|          play| 1069|\n",
            "|       Left 4 Dead 2|          play|  801|\n",
            "|Counter-Strike So...|          play|  715|\n",
            "|The Elder Scrolls...|          play|  677|\n",
            "|         Garry's Mod|          play|  666|\n",
            "|      Counter-Strike|          play|  568|\n",
            "|Sid Meier's Civil...|          play|  554|\n",
            "+--------------------+--------------+-----+\n",
            "only showing top 10 rows\n",
            "\n"
          ]
        },
        {
          "output_type": "display_data",
          "data": {
            "text/plain": [
              "<Figure size 864x432 with 1 Axes>"
            ],
            "image/png": "[encoded data removed]"
          },
          "metadata": {}
        }
      ]
    },
    {
      "cell_type": "code",
      "source": [
        "dataframes.select(\"Hours_played\").describe().show()"
      ],
      "metadata": {
        "colab": {
          "base_uri": "https://localhost:8080/"
        },
        "id": "E_QvTQOEWjSy",
        "outputId": "812943cf-f6b0-40e4-b52b-729df7778979"
      },
      "execution_count": 15,
      "outputs": [
        {
          "output_type": "stream",
          "name": "stdout",
          "text": [
            "+-------+------------------+\n",
            "|summary|      Hours_played|\n",
            "+-------+------------------+\n",
            "|  count|            200000|\n",
            "|   mean|17.874384000420385|\n",
            "| stddev| 138.0569516508248|\n",
            "|    min|               0.1|\n",
            "|    max|           11754.0|\n",
            "+-------+------------------+\n",
            "\n"
          ]
        }
      ]
    },
    {
      "cell_type": "markdown",
      "source": [
        "**Outlier Analysis**"
      ],
      "metadata": {
        "id": "kuN65V5SXtWm"
      }
    },
    {
      "cell_type": "code",
      "source": [
        "#Calculate Upper, Lower and InterQuartlie Range\n",
        "def calculate_bounds(df):\n",
        "  c = \"Hours_played\"\n",
        "  bounds = {\n",
        "        c: dict(\n",
        "            zip([\"q1\", \"q3\"], df.approxQuantile(c, [0.25, 0.75], 0))\n",
        "        )\n",
        "      \n",
        "    }\n",
        "  iqr = bounds[c]['q3'] - bounds[c]['q1']\n",
        "  bounds[c]['min'] = bounds[c]['q1'] - (iqr * 1.5)\n",
        "  bounds[c]['max'] = bounds[c]['q3'] + (iqr * 1.5)\n",
        "  return bounds\n",
        "#Indicate the presence of Outlier in the specic Column\n",
        "def flag_outliers(df, id_col):\n",
        "  bounds = calculate_bounds(df)\n",
        "  outliers = {}\n",
        "  c = \"Hours_played\"\n",
        "  return df.select(c, id_col,\n",
        "        *[\n",
        "            F.when(\n",
        "                ~F.col(c).between(bounds[c]['min'], bounds[c]['max']),\n",
        "                \"yes\"\n",
        "            ).otherwise(\"no\").alias(c+'_outlier')\n",
        "        ]\n",
        "  )\n",
        "#Columns Containing Outliers\n",
        "outlier_data = flag_outliers(df,'USER_ID')\n",
        "outlier_data.show(10)"
      ],
      "metadata": {
        "colab": {
          "base_uri": "https://localhost:8080/"
        },
        "id": "hOizSyl7Xs6_",
        "outputId": "ea937b5e-58be-476f-9cda-821496402e6f"
      },
      "execution_count": 16,
      "outputs": [
        {
          "output_type": "stream",
          "name": "stdout",
          "text": [
            "+------------+---------+--------------------+\n",
            "|Hours_played|  USER_ID|Hours_played_outlier|\n",
            "+------------+---------+--------------------+\n",
            "|        11.2| 53875128|                 yes|\n",
            "|         1.0| 53875128|                  no|\n",
            "|         1.9| 53875128|                  no|\n",
            "|         1.4| 53875128|                  no|\n",
            "|         0.4| 53875128|                 yes|\n",
            "|         1.0|126340495|                  no|\n",
            "|         9.2| 97298878|                 yes|\n",
            "|         0.9| 97298878|                  no|\n",
            "|       211.0| 48845802|                 yes|\n",
            "|         1.0| 62923086|                  no|\n",
            "+------------+---------+--------------------+\n",
            "only showing top 10 rows\n",
            "\n"
          ]
        }
      ]
    },
    {
      "cell_type": "code",
      "source": [
        "panda_df= df.toPandas()\n",
        "sns.set()\n",
        "ax = sns.boxplot(x=panda_df['Hours_played'])"
      ],
      "metadata": {
        "colab": {
          "base_uri": "https://localhost:8080/",
          "height": 285
        },
        "id": "EJNarhsFYp7t",
        "outputId": "36fa3135-15b7-4079-de26-6f79da3c9800"
      },
      "execution_count": 17,
      "outputs": [
        {
          "output_type": "display_data",
          "data": {
            "text/plain": [
              "<Figure size 432x288 with 1 Axes>"
            ],
            "image/png": "[encoded data removed]"
          },
          "metadata": {}
        }
      ]
    },
    {
      "cell_type": "markdown",
      "metadata": {
        "id": "vxkTgK7zvZ4Y"
      },
      "source": [
        "# FEATURE ADDITION"
      ]
    },
    {
      "cell_type": "code",
      "source": [
        "from pyspark.sql.window import Window\n",
        "from pyspark.sql.functions import col, when, lag, sum\n",
        "window_spec = Window.orderBy('USER_ID')\n",
        "data_with_prev_value = dataframes.withColumn('prev_value', lag(col('Behaviour_Name')).over(window_spec))\n",
        "combined_data = data_with_prev_value.withColumn('new_feature', when((col('prev_value') == 'purchase') & (col('Behaviour_Name') == 'play'), 2).otherwise(1))\n",
        "grouped1 = combined_data.filter(((col('prev_value') == 'purchase') & (col('Behaviour_Name') == 'play')) | \\\n",
        "                                        ((col('prev_value') == 'purchase') & (col('Behaviour_Name') == 'purchase')) |\\\n",
        "                                        ((col('prev_value') == 'null') & (col('Behaviour_Name') == 'purchase')) |\\\n",
        "                                        ((col('prev_value') == 'play') & (col('Behaviour_Name') == 'purchase')));\n",
        "grouped1.show(10)\n",
        "grouped1.count()"
      ],
      "metadata": {
        "colab": {
          "base_uri": "https://localhost:8080/"
        },
        "id": "gOQGOBGel5AD",
        "outputId": "e567a783-5930-4a3d-a9c6-f76f24702fe9"
      },
      "execution_count": 18,
      "outputs": [
        {
          "output_type": "stream",
          "name": "stdout",
          "text": [
            "+-------+--------------------+--------------+------------+----------+-----------+\n",
            "|USER_ID|          Steam_Game|Behaviour_Name|Hours_played|prev_value|new_feature|\n",
            "+-------+--------------------+--------------+------------+----------+-----------+\n",
            "|   5250|     Cities Skylines|          play|       144.0|  purchase|          2|\n",
            "|   5250|Deus Ex Human Rev...|      purchase|         1.0|      play|          1|\n",
            "|   5250|Deus Ex Human Rev...|          play|        62.0|  purchase|          2|\n",
            "|   5250|            Portal 2|      purchase|         1.0|      play|          1|\n",
            "|   5250|            Portal 2|          play|        13.6|  purchase|          2|\n",
            "|   5250|         Alien Swarm|      purchase|         1.0|      play|          1|\n",
            "|   5250|         Alien Swarm|          play|         4.9|  purchase|          2|\n",
            "|   5250|     Team Fortress 2|      purchase|         1.0|      play|          1|\n",
            "|   5250|     Team Fortress 2|          play|         0.8|  purchase|          2|\n",
            "|   5250|              Dota 2|      purchase|         1.0|      play|          1|\n",
            "+-------+--------------------+--------------+------------+----------+-----------+\n",
            "only showing top 10 rows\n",
            "\n"
          ]
        },
        {
          "output_type": "execute_result",
          "data": {
            "text/plain": [
              "199999"
            ]
          },
          "metadata": {},
          "execution_count": 18
        }
      ]
    },
    {
      "cell_type": "code",
      "source": [
        "average = grouped1.groupBy(\"Steam_Game\") \\\n",
        "            .agg(mean(\"Hours_played\").alias(\"mean_Hourplayed\")) \\\n",
        "             .select(\"Steam_Game\", \"mean_Hourplayed\")\n",
        "grouped = grouped1.join(average, on=\"Steam_Game\", how=\"inner\")\n",
        "grouped.show(10)"
      ],
      "metadata": {
        "colab": {
          "base_uri": "https://localhost:8080/"
        },
        "id": "lLITqv19mDX5",
        "outputId": "5ceacd03-1cf8-4e75-88f4-b66d66a38bb0"
      },
      "execution_count": 19,
      "outputs": [
        {
          "output_type": "stream",
          "name": "stdout",
          "text": [
            "+--------------------+-------+--------------+------------+----------+-----------+------------------+\n",
            "|          Steam_Game|USER_ID|Behaviour_Name|Hours_played|prev_value|new_feature|   mean_Hourplayed|\n",
            "+--------------------+-------+--------------+------------+----------+-----------+------------------+\n",
            "|     Cities Skylines|   5250|          play|       144.0|  purchase|          2| 14.07711864850026|\n",
            "|Deus Ex Human Rev...|   5250|      purchase|         1.0|      play|          1|12.459800666699378|\n",
            "|Deus Ex Human Rev...|   5250|          play|        62.0|  purchase|          2|12.459800666699378|\n",
            "|            Portal 2|   5250|      purchase|         1.0|      play|          1| 9.690170510265688|\n",
            "|            Portal 2|   5250|          play|        13.6|  purchase|          2| 9.690170510265688|\n",
            "|         Alien Swarm|   5250|      purchase|         1.0|      play|          1| 3.103806225292926|\n",
            "|         Alien Swarm|   5250|          play|         4.9|  purchase|          2| 3.103806225292926|\n",
            "|     Team Fortress 2|   5250|      purchase|         1.0|      play|          1| 37.88125269163722|\n",
            "|     Team Fortress 2|   5250|          play|         0.8|  purchase|          2| 37.88125269163722|\n",
            "|              Dota 2|   5250|      purchase|         1.0|      play|          1|101.89274943241897|\n",
            "+--------------------+-------+--------------+------------+----------+-----------+------------------+\n",
            "only showing top 10 rows\n",
            "\n"
          ]
        }
      ]
    },
    {
      "cell_type": "code",
      "source": [
        "from pyspark.sql.functions import when\n",
        "newfeature = grouped.withColumn(\"rating\", \n",
        "                  when(grouped[\"Hours_played\"] == 1.0 * grouped[\"mean_Hourplayed\"] * grouped[\"new_feature\"], 1)\n",
        "                  .when(grouped[\"Hours_played\"] >= 0.9 * grouped[\"mean_Hourplayed\"] * grouped[\"new_feature\"], 5)\n",
        "                   .when((grouped[\"Hours_played\"] >= 0.7 * grouped[\"mean_Hourplayed\"] * grouped[\"new_feature\"]) & (grouped[\"Hours_played\"] < 0.9 * grouped[\"mean_Hourplayed\"]*grouped[\"new_feature\"]), 4)\n",
        "                   .when((grouped[\"Hours_played\"] >= 0.4 * grouped[\"mean_Hourplayed\"] * grouped[\"new_feature\"]) & (grouped[\"Hours_played\"] < 0.7 * grouped[\"mean_Hourplayed\"]*grouped[\"new_feature\"]), 3)\n",
        "                   .when((grouped[\"Hours_played\"] >= 0.1 * grouped[\"mean_Hourplayed\"] * grouped[\"new_feature\"]) & (grouped[\"Hours_played\"] < 0.4 * grouped[\"mean_Hourplayed\"]*grouped[\"new_feature\"]), 2)\n",
        "                   .otherwise(0))\n",
        "newfeature.show(10)"
      ],
      "metadata": {
        "colab": {
          "base_uri": "https://localhost:8080/"
        },
        "id": "HuPcxyGqmJUp",
        "outputId": "d48f8541-9589-45f4-adaa-b8b1233bde2d"
      },
      "execution_count": 20,
      "outputs": [
        {
          "output_type": "stream",
          "name": "stdout",
          "text": [
            "+--------------------+-------+--------------+------------+----------+-----------+------------------+------+\n",
            "|          Steam_Game|USER_ID|Behaviour_Name|Hours_played|prev_value|new_feature|   mean_Hourplayed|rating|\n",
            "+--------------------+-------+--------------+------------+----------+-----------+------------------+------+\n",
            "|     Cities Skylines|   5250|          play|       144.0|  purchase|          2| 14.07711864850026|     5|\n",
            "|Deus Ex Human Rev...|   5250|      purchase|         1.0|      play|          1|12.459800666699378|     0|\n",
            "|Deus Ex Human Rev...|   5250|          play|        62.0|  purchase|          2|12.459800666699378|     5|\n",
            "|            Portal 2|   5250|      purchase|         1.0|      play|          1| 9.690170510265688|     2|\n",
            "|            Portal 2|   5250|          play|        13.6|  purchase|          2| 9.690170510265688|     4|\n",
            "|         Alien Swarm|   5250|      purchase|         1.0|      play|          1| 3.103806225292926|     2|\n",
            "|         Alien Swarm|   5250|          play|         4.9|  purchase|          2| 3.103806225292926|     4|\n",
            "|     Team Fortress 2|   5250|      purchase|         1.0|      play|          1| 37.88125269163722|     0|\n",
            "|     Team Fortress 2|   5250|          play|         0.8|  purchase|          2| 37.88125269163722|     0|\n",
            "|              Dota 2|   5250|      purchase|         1.0|      play|          1|101.89274943241897|     0|\n",
            "+--------------------+-------+--------------+------------+----------+-----------+------------------+------+\n",
            "only showing top 10 rows\n",
            "\n"
          ]
        }
      ]
    },
    {
      "cell_type": "code",
      "source": [
        "# datapoints with less than 1 hour played games. We wont consider 16792 datapoints \n",
        "new_feature1 =dataframes.filter(\"Hours_played < 1\")\n",
        "new_feature1.count()"
      ],
      "metadata": {
        "colab": {
          "base_uri": "https://localhost:8080/"
        },
        "id": "xKM6Dago4002",
        "outputId": "f574e90a-a25a-4a95-abc4-34bb74d7ef72"
      },
      "execution_count": 21,
      "outputs": [
        {
          "output_type": "execute_result",
          "data": {
            "text/plain": [
              "16792"
            ]
          },
          "metadata": {},
          "execution_count": 21
        }
      ]
    },
    {
      "cell_type": "code",
      "execution_count": 22,
      "metadata": {
        "id": "BAjp4n-3-aDy",
        "colab": {
          "base_uri": "https://localhost:8080/"
        },
        "outputId": "a6e6fe3a-f35d-45e9-f311-77861764ce4a"
      },
      "outputs": [
        {
          "output_type": "stream",
          "name": "stdout",
          "text": [
            "+------+-----+\n",
            "|rating|count|\n",
            "+------+-----+\n",
            "|     5|31820|\n",
            "|     0|56679|\n",
            "|     2|61431|\n",
            "|     4|13310|\n",
            "|     3|25399|\n",
            "|     1|11360|\n",
            "+------+-----+\n",
            "\n"
          ]
        }
      ],
      "source": [
        "newfeature.groupBy(\"rating\").count().show()"
      ]
    },
    {
      "cell_type": "markdown",
      "metadata": {
        "id": "9Qnof28E9qsP"
      },
      "source": [
        "## VISUALIZATION"
      ]
    },
    {
      "cell_type": "code",
      "source": [
        "heatmap = newfeature.toPandas()\n",
        "corr = heatmap.corr(method='pearson')\n",
        "#Heatmap\n",
        "sns.set(rc={'figure.figsize':(10,5)})\n",
        "sns.heatmap(corr, square=True, annot=True, cmap='viridis')"
      ],
      "metadata": {
        "colab": {
          "base_uri": "https://localhost:8080/",
          "height": 435
        },
        "id": "KBbDD8oAZCtl",
        "outputId": "0c7feb76-17ab-42c3-85be-aa05f2fbce3e"
      },
      "execution_count": 23,
      "outputs": [
        {
          "output_type": "execute_result",
          "data": {
            "text/plain": [
              "<Axes: >"
            ]
          },
          "metadata": {},
          "execution_count": 23
        },
        {
          "output_type": "display_data",
          "data": {
            "text/plain": [
              "<Figure size 720x360 with 2 Axes>"
            ],
            "image/png": "[encoded data removed]"
          },
          "metadata": {}
        }
      ]
    },
    {
      "cell_type": "code",
      "source": [
        "trainpd = newfeature.toPandas()\n",
        "no_of_ratings_per_game = trainpd.groupby(by='USER_ID')['rating'].count().sort_values(ascending=False)\n",
        "\n",
        "fig = plt.figure(figsize = (12, 6))\n",
        "ax = plt.gca()\n",
        "plt.plot(no_of_ratings_per_game.values)\n",
        "plt.title('# Ratings/Game')\n",
        "plt.xlabel('Games')\n",
        "plt.ylabel('No of Users who rated Games')\n",
        "ax.set_xticklabels([])\n",
        "plt.show()\n",
        "\n",
        "# It is very skewed, just like the number of ratings given per user.\n",
        "# There are some Games (which are very popular) which are rated by huge number of users.\n",
        "# But most of the Games(like 90%) got some 0-100 of user ratings only."
      ],
      "metadata": {
        "colab": {
          "base_uri": "https://localhost:8080/",
          "height": 400
        },
        "id": "FSA_5UcaZhCT",
        "outputId": "da015b26-f9b0-4c6f-94e2-975993119a1b"
      },
      "execution_count": 24,
      "outputs": [
        {
          "output_type": "display_data",
          "data": {
            "text/plain": [
              "<Figure size 864x432 with 1 Axes>"
            ],
            "image/png": "[encoded data removed]"
          },
          "metadata": {}
        }
      ]
    },
    {
      "cell_type": "markdown",
      "source": [
        "Vishanth Model Implementation"
      ],
      "metadata": {
        "id": "RTAB9tBS5Xr2"
      }
    },
    {
      "cell_type": "code",
      "source": [
        "newfeature.count()"
      ],
      "metadata": {
        "id": "7OL-Zwfs5XOv",
        "colab": {
          "base_uri": "https://localhost:8080/"
        },
        "outputId": "20405439-9b3c-4fb1-bea4-5c730267def9"
      },
      "execution_count": 25,
      "outputs": [
        {
          "output_type": "execute_result",
          "data": {
            "text/plain": [
              "199999"
            ]
          },
          "metadata": {},
          "execution_count": 25
        }
      ]
    },
    {
      "cell_type": "markdown",
      "source": [
        "**ALS IMPLEMENTATION**"
      ],
      "metadata": {
        "id": "tizCxhmbASJm"
      }
    },
    {
      "cell_type": "code",
      "source": [
        "from pyspark.ml.feature import VectorAssembler\n",
        "from pyspark.ml.feature import Normalizer\n",
        "from pyspark.ml.feature import MinMaxScaler\n",
        "from pyspark.ml.feature import StringIndexer\n",
        "from pyspark.ml.recommendation import ALS\n",
        "from pyspark.ml.evaluation import RegressionEvaluator\n"
      ],
      "metadata": {
        "id": "Rrhz4gZA6PhS"
      },
      "execution_count": 26,
      "outputs": []
    },
    {
      "cell_type": "code",
      "source": [
        "newfeature.printSchema()\n",
        "pandasdf = newfeature.toPandas()\n",
        "pandasdf['Steam_Game'] = pandasdf['Steam_Game'].astype('category')\n",
        "d = dict(enumerate(pandasdf['Steam_Game'].cat.categories))\n",
        "pandasdf['GAME_ID'] = pandasdf['Steam_Game'].cat.codes\n",
        "pandasdf.head(10)"
      ],
      "metadata": {
        "id": "W8vFEJoJ6Q8z",
        "colab": {
          "base_uri": "https://localhost:8080/",
          "height": 620
        },
        "outputId": "9293c4fb-a6a8-4ad9-c5c8-ca6747b4401b"
      },
      "execution_count": 27,
      "outputs": [
        {
          "output_type": "stream",
          "name": "stdout",
          "text": [
            "root\n",
            " |-- Steam_Game: string (nullable = true)\n",
            " |-- USER_ID: integer (nullable = true)\n",
            " |-- Behaviour_Name: string (nullable = true)\n",
            " |-- Hours_played: float (nullable = true)\n",
            " |-- prev_value: string (nullable = true)\n",
            " |-- new_feature: integer (nullable = false)\n",
            " |-- mean_Hourplayed: double (nullable = true)\n",
            " |-- rating: integer (nullable = false)\n",
            "\n"
          ]
        },
        {
          "output_type": "execute_result",
          "data": {
            "text/plain": [
              "                 Steam_Game  USER_ID Behaviour_Name  Hours_played prev_value  \\\n",
              "0           Cities Skylines     5250           play         144.0   purchase   \n",
              "1  Deus Ex Human Revolution     5250       purchase           1.0       play   \n",
              "2  Deus Ex Human Revolution     5250           play          62.0   purchase   \n",
              "3                  Portal 2     5250       purchase           1.0       play   \n",
              "4                  Portal 2     5250           play          13.6   purchase   \n",
              "5               Alien Swarm     5250       purchase           1.0       play   \n",
              "6               Alien Swarm     5250           play           4.9   purchase   \n",
              "7           Team Fortress 2     5250       purchase           1.0       play   \n",
              "8           Team Fortress 2     5250           play           0.8   purchase   \n",
              "9                    Dota 2     5250       purchase           1.0       play   \n",
              "\n",
              "   new_feature  mean_Hourplayed  rating  GAME_ID  \n",
              "0            2        14.077119       5      852  \n",
              "1            1        12.459801       0     1248  \n",
              "2            2        12.459801       5     1248  \n",
              "3            1         9.690171       2     3223  \n",
              "4            2         9.690171       4     3223  \n",
              "5            1         3.103806       2      227  \n",
              "6            2         3.103806       4      227  \n",
              "7            1        37.881253       0     4257  \n",
              "8            2        37.881253       0     4257  \n",
              "9            1       101.892749       0     1336  "
            ],
            "text/html": [
              "\n",
              "  <div id=\"df-30ed51a7-15f0-4f67-8f88-848a513c4e73\">\n",
              "    <div class=\"colab-df-container\">\n",
              "      <div>\n",
              "<style scoped>\n",
              "    .dataframe tbody tr th:only-of-type {\n",
              "        vertical-align: middle;\n",
              "    }\n",
              "\n",
              "    .dataframe tbody tr th {\n",
              "        vertical-align: top;\n",
              "    }\n",
              "\n",
              "    .dataframe thead th {\n",
              "        text-align: right;\n",
              "    }\n",
              "</style>\n",
              "<table border=\"1\" class=\"dataframe\">\n",
              "  <thead>\n",
              "    <tr style=\"text-align: right;\">\n",
              "      <th></th>\n",
              "      <th>Steam_Game</th>\n",
              "      <th>USER_ID</th>\n",
              "      <th>Behaviour_Name</th>\n",
              "      <th>Hours_played</th>\n",
              "      <th>prev_value</th>\n",
              "      <th>new_feature</th>\n",
              "      <th>mean_Hourplayed</th>\n",
              "      <th>rating</th>\n",
              "      <th>GAME_ID</th>\n",
              "    </tr>\n",
              "  </thead>\n",
              "  <tbody>\n",
              "    <tr>\n",
              "      <th>0</th>\n",
              "      <td>Cities Skylines</td>\n",
              "      <td>5250</td>\n",
              "      <td>play</td>\n",
              "      <td>144.0</td>\n",
              "      <td>purchase</td>\n",
              "      <td>2</td>\n",
              "      <td>14.077119</td>\n",
              "      <td>5</td>\n",
              "      <td>852</td>\n",
              "    </tr>\n",
              "    <tr>\n",
              "      <th>1</th>\n",
              "      <td>Deus Ex Human Revolution</td>\n",
              "      <td>5250</td>\n",
              "      <td>purchase</td>\n",
              "      <td>1.0</td>\n",
              "      <td>play</td>\n",
              "      <td>1</td>\n",
              "      <td>12.459801</td>\n",
              "      <td>0</td>\n",
              "      <td>1248</td>\n",
              "    </tr>\n",
              "    <tr>\n",
              "      <th>2</th>\n",
              "      <td>Deus Ex Human Revolution</td>\n",
              "      <td>5250</td>\n",
              "      <td>play</td>\n",
              "      <td>62.0</td>\n",
              "      <td>purchase</td>\n",
              "      <td>2</td>\n",
              "      <td>12.459801</td>\n",
              "      <td>5</td>\n",
              "      <td>1248</td>\n",
              "    </tr>\n",
              "    <tr>\n",
              "      <th>3</th>\n",
              "      <td>Portal 2</td>\n",
              "      <td>5250</td>\n",
              "      <td>purchase</td>\n",
              "      <td>1.0</td>\n",
              "      <td>play</td>\n",
              "      <td>1</td>\n",
              "      <td>9.690171</td>\n",
              "      <td>2</td>\n",
              "      <td>3223</td>\n",
              "    </tr>\n",
              "    <tr>\n",
              "      <th>4</th>\n",
              "      <td>Portal 2</td>\n",
              "      <td>5250</td>\n",
              "      <td>play</td>\n",
              "      <td>13.6</td>\n",
              "      <td>purchase</td>\n",
              "      <td>2</td>\n",
              "      <td>9.690171</td>\n",
              "      <td>4</td>\n",
              "      <td>3223</td>\n",
              "    </tr>\n",
              "    <tr>\n",
              "      <th>5</th>\n",
              "      <td>Alien Swarm</td>\n",
              "      <td>5250</td>\n",
              "      <td>purchase</td>\n",
              "      <td>1.0</td>\n",
              "      <td>play</td>\n",
              "      <td>1</td>\n",
              "      <td>3.103806</td>\n",
              "      <td>2</td>\n",
              "      <td>227</td>\n",
              "    </tr>\n",
              "    <tr>\n",
              "      <th>6</th>\n",
              "      <td>Alien Swarm</td>\n",
              "      <td>5250</td>\n",
              "      <td>play</td>\n",
              "      <td>4.9</td>\n",
              "      <td>purchase</td>\n",
              "      <td>2</td>\n",
              "      <td>3.103806</td>\n",
              "      <td>4</td>\n",
              "      <td>227</td>\n",
              "    </tr>\n",
              "    <tr>\n",
              "      <th>7</th>\n",
              "      <td>Team Fortress 2</td>\n",
              "      <td>5250</td>\n",
              "      <td>purchase</td>\n",
              "      <td>1.0</td>\n",
              "      <td>play</td>\n",
              "      <td>1</td>\n",
              "      <td>37.881253</td>\n",
              "      <td>0</td>\n",
              "      <td>4257</td>\n",
              "    </tr>\n",
              "    <tr>\n",
              "      <th>8</th>\n",
              "      <td>Team Fortress 2</td>\n",
              "      <td>5250</td>\n",
              "      <td>play</td>\n",
              "      <td>0.8</td>\n",
              "      <td>purchase</td>\n",
              "      <td>2</td>\n",
              "      <td>37.881253</td>\n",
              "      <td>0</td>\n",
              "      <td>4257</td>\n",
              "    </tr>\n",
              "    <tr>\n",
              "      <th>9</th>\n",
              "      <td>Dota 2</td>\n",
              "      <td>5250</td>\n",
              "      <td>purchase</td>\n",
              "      <td>1.0</td>\n",
              "      <td>play</td>\n",
              "      <td>1</td>\n",
              "      <td>101.892749</td>\n",
              "      <td>0</td>\n",
              "      <td>1336</td>\n",
              "    </tr>\n",
              "  </tbody>\n",
              "</table>\n",
              "</div>\n",
              "      <button class=\"colab-df-convert\" onclick=\"convertToInteractive('df-30ed51a7-15f0-4f67-8f88-848a513c4e73')\"\n",
              "              title=\"Convert this dataframe to an interactive table.\"\n",
              "              style=\"display:none;\">\n",
              "        \n",
              "  <svg xmlns=\"http://www.w3.org/2000/svg\" height=\"24px\"viewBox=\"0 0 24 24\"\n",
              "       width=\"24px\">\n",
              "    <path d=\"M0 0h24v24H0V0z\" fill=\"none\"/>\n",
              "    <path d=\"M18.56 5.44l.94 2.06.94-2.06 2.06-.94-2.06-.94-.94-2.06-.94 2.06-2.06.94zm-11 1L8.5 8.5l.94-2.06 2.06-.94-2.06-.94L8.5 2.5l-.94 2.06-2.06.94zm10 10l.94 2.06.94-2.06 2.06-.94-2.06-.94-.94-2.06-.94 2.06-2.06.94z\"/><path d=\"M17.41 7.96l-1.37-1.37c-.4-.4-.92-.59-1.43-.59-.52 0-1.04.2-1.43.59L10.3 9.45l-7.72 7.72c-.78.78-.78 2.05 0 2.83L4 21.41c.39.39.9.59 1.41.59.51 0 1.02-.2 1.41-.59l7.78-7.78 2.81-2.81c.8-.78.8-2.07 0-2.86zM5.41 20L4 18.59l7.72-7.72 1.47 1.35L5.41 20z\"/>\n",
              "  </svg>\n",
              "      </button>\n",
              "      \n",
              "  <style>\n",
              "    .colab-df-container {\n",
              "      display:flex;\n",
              "      flex-wrap:wrap;\n",
              "      gap: 12px;\n",
              "    }\n",
              "\n",
              "    .colab-df-convert {\n",
              "      background-color: #E8F0FE;\n",
              "      border: none;\n",
              "      border-radius: 50%;\n",
              "      cursor: pointer;\n",
              "      display: none;\n",
              "      fill: #1967D2;\n",
              "      height: 32px;\n",
              "      padding: 0 0 0 0;\n",
              "      width: 32px;\n",
              "    }\n",
              "\n",
              "    .colab-df-convert:hover {\n",
              "      background-color: #E2EBFA;\n",
              "      box-shadow: 0px 1px 2px rgba(60, 64, 67, 0.3), 0px 1px 3px 1px rgba(60, 64, 67, 0.15);\n",
              "      fill: #174EA6;\n",
              "    }\n",
              "\n",
              "    [theme=dark] .colab-df-convert {\n",
              "      background-color: #3B4455;\n",
              "      fill: #D2E3FC;\n",
              "    }\n",
              "\n",
              "    [theme=dark] .colab-df-convert:hover {\n",
              "      background-color: #434B5C;\n",
              "      box-shadow: 0px 1px 3px 1px rgba(0, 0, 0, 0.15);\n",
              "      filter: drop-shadow(0px 1px 2px rgba(0, 0, 0, 0.3));\n",
              "      fill: #FFFFFF;\n",
              "    }\n",
              "  </style>\n",
              "\n",
              "      <script>\n",
              "        const buttonEl =\n",
              "          document.querySelector('#df-30ed51a7-15f0-4f67-8f88-848a513c4e73 button.colab-df-convert');\n",
              "        buttonEl.style.display =\n",
              "          google.colab.kernel.accessAllowed ? 'block' : 'none';\n",
              "\n",
              "        async function convertToInteractive(key) {\n",
              "          const element = document.querySelector('#df-30ed51a7-15f0-4f67-8f88-848a513c4e73');\n",
              "          const dataTable =\n",
              "            await google.colab.kernel.invokeFunction('convertToInteractive',\n",
              "                                                     [key], {});\n",
              "          if (!dataTable) return;\n",
              "\n",
              "          const docLinkHtml = 'Like what you see? Visit the ' +\n",
              "            '<a target=\"_blank\" href=https://colab.research.google.com/notebooks/data_table.ipynb>data table notebook</a>'\n",
              "            + ' to learn more about interactive tables.';\n",
              "          element.innerHTML = '';\n",
              "          dataTable['output_type'] = 'display_data';\n",
              "          await google.colab.output.renderOutput(dataTable, element);\n",
              "          const docLink = document.createElement('div');\n",
              "          docLink.innerHTML = docLinkHtml;\n",
              "          element.appendChild(docLink);\n",
              "        }\n",
              "      </script>\n",
              "    </div>\n",
              "  </div>\n",
              "  "
            ]
          },
          "metadata": {},
          "execution_count": 27
        }
      ]
    },
    {
      "cell_type": "code",
      "source": [
        "newfeature = spark.createDataFrame(pandasdf)\n",
        "newfeature.show(10)"
      ],
      "metadata": {
        "id": "csWKpZ0aM-ta",
        "colab": {
          "base_uri": "https://localhost:8080/"
        },
        "outputId": "a74474c2-077c-46f4-86e6-1e5cd8fdd2de"
      },
      "execution_count": 28,
      "outputs": [
        {
          "output_type": "stream",
          "name": "stdout",
          "text": [
            "+--------------------+-------+--------------+------------------+----------+-----------+------------------+------+-------+\n",
            "|          Steam_Game|USER_ID|Behaviour_Name|      Hours_played|prev_value|new_feature|   mean_Hourplayed|rating|GAME_ID|\n",
            "+--------------------+-------+--------------+------------------+----------+-----------+------------------+------+-------+\n",
            "|     Cities Skylines|   5250|          play|             144.0|  purchase|          2| 14.07711864850026|     5|    852|\n",
            "|Deus Ex Human Rev...|   5250|      purchase|               1.0|      play|          1|12.459800666699378|     0|   1248|\n",
            "|Deus Ex Human Rev...|   5250|          play|              62.0|  purchase|          2|12.459800666699378|     5|   1248|\n",
            "|            Portal 2|   5250|      purchase|               1.0|      play|          1| 9.690170510265688|     2|   3223|\n",
            "|            Portal 2|   5250|          play|13.600000381469727|  purchase|          2| 9.690170510265688|     4|   3223|\n",
            "|         Alien Swarm|   5250|      purchase|               1.0|      play|          1| 3.103806225292926|     2|    227|\n",
            "|         Alien Swarm|   5250|          play| 4.900000095367432|  purchase|          2| 3.103806225292926|     4|    227|\n",
            "|     Team Fortress 2|   5250|      purchase|               1.0|      play|          1| 37.88125269163722|     0|   4257|\n",
            "|     Team Fortress 2|   5250|          play| 0.800000011920929|  purchase|          2| 37.88125269163722|     0|   4257|\n",
            "|              Dota 2|   5250|      purchase|               1.0|      play|          1|101.89274943241897|     0|   1336|\n",
            "+--------------------+-------+--------------+------------------+----------+-----------+------------------+------+-------+\n",
            "only showing top 10 rows\n",
            "\n"
          ]
        }
      ]
    },
    {
      "cell_type": "code",
      "source": [
        "train, test = newfeature.randomSplit([0.8, 0.2])"
      ],
      "metadata": {
        "id": "oTLuyHowJNnG"
      },
      "execution_count": 29,
      "outputs": []
    },
    {
      "cell_type": "code",
      "source": [
        "from pyspark.sql.functions import avg\n",
        "## Calculating user-item interaction\n",
        "# Calculate User Mean\n",
        "userMeanDF = train.groupBy('USER_ID').agg({'rating': 'mean'}).withColumnRenamed(\"avg(rating)\", \"user_mean\")\n",
        "# Calculate Anime Mean\n",
        "itemMeanDF = train.groupBy('GAME_ID').agg({'rating': 'mean'}).withColumnRenamed(\"avg(rating)\", \"item_mean\")\n",
        "# Calculate Global Average in Train set\n",
        "globalAverageDF = train.select(avg('rating'))\n",
        "globalAverage = globalAverageDF.collect()[0]['avg(rating)']\n",
        "# Adding the mean columns to train DF\n",
        "meanDF = train.join(userMeanDF, ['USER_ID'], \"inner\").join(itemMeanDF, ['GAME_ID'], \"inner\")\n",
        "#create final DF with user-item interaction column\n",
        "interactionDF = meanDF.withColumn('user_item_interaction', meanDF['rating']-(meanDF['user_mean'] + meanDF['item_mean'] - globalAverage))\n",
        "interactionDF.show(5)"
      ],
      "metadata": {
        "id": "jVdrqdJ_IxQi",
        "colab": {
          "base_uri": "https://localhost:8080/"
        },
        "outputId": "9397d446-3021-4e00-a233-ee25223aac35"
      },
      "execution_count": 30,
      "outputs": [
        {
          "output_type": "stream",
          "name": "stdout",
          "text": [
            "+-------+--------+--------------------+--------------+-----------------+----------+-----------+------------------+------+------------------+------------------+---------------------+\n",
            "|GAME_ID| USER_ID|          Steam_Game|Behaviour_Name|     Hours_played|prev_value|new_feature|   mean_Hourplayed|rating|         user_mean|         item_mean|user_item_interaction|\n",
            "+-------+--------+--------------------+--------------+-----------------+----------+-----------+------------------+------+------------------+------------------+---------------------+\n",
            "|     84|83681553|ARK Survival Evolved|          play|              7.0|  purchase|          2| 42.85389408334579|     0|1.7826086956521738|1.0553359683794465|  -0.7224071143279667|\n",
            "|     84|83681553|ARK Survival Evolved|      purchase|              1.0|      play|          1| 42.85389408334579|     0|1.7826086956521738|1.0553359683794465|  -0.7224071143279667|\n",
            "|    454|83681553|Batman Arkham Cit...|          play|             94.0|  purchase|          2| 7.129595010892439|     5|1.7826086956521738|2.4198473282442747|   2.9130815258072045|\n",
            "|    454|83681553|Batman Arkham Cit...|      purchase|              1.0|  purchase|          1| 7.129595010892439|     2|1.7826086956521738|2.4198473282442747| -0.08691847419279553|\n",
            "|    736|29537499|Call of Duty Mode...|          play|3.799999952316284|  purchase|          2|14.028749996994156|     2|1.6666666666666667|1.3529411764705883|   1.0959297065663987|\n",
            "+-------+--------+--------------------+--------------+-----------------+----------+-----------+------------------+------+------------------+------------------+---------------------+\n",
            "only showing top 5 rows\n",
            "\n"
          ]
        }
      ]
    },
    {
      "cell_type": "code",
      "source": [
        "interactionDF.drop(\"Steam_Game\",\"Behaviour_Name\",\"Hours_played\",\"mean_Hourplayed\") \\\n",
        "    .printSchema()\n",
        "als = ALS(maxIter=5, regParam=0.01, userCol=\"USER_ID\", itemCol=\"GAME_ID\", ratingCol=\"user_item_interaction\",\n",
        "          coldStartStrategy=\"drop\")\n",
        "model = als.fit(interactionDF)\n",
        "predictions = model.transform(test)\n",
        "predictions.show(5)"
      ],
      "metadata": {
        "id": "jGW5DtxuQ15b",
        "colab": {
          "base_uri": "https://localhost:8080/"
        },
        "outputId": "49e58085-0aa8-4177-ed57-d0860405fa1e"
      },
      "execution_count": 31,
      "outputs": [
        {
          "output_type": "stream",
          "name": "stdout",
          "text": [
            "root\n",
            " |-- GAME_ID: long (nullable = true)\n",
            " |-- USER_ID: long (nullable = true)\n",
            " |-- prev_value: string (nullable = true)\n",
            " |-- new_feature: long (nullable = true)\n",
            " |-- rating: long (nullable = true)\n",
            " |-- user_mean: double (nullable = true)\n",
            " |-- item_mean: double (nullable = true)\n",
            " |-- user_item_interaction: double (nullable = true)\n",
            "\n",
            "+--------------------+--------+--------------+-----------------+----------+-----------+-----------------+------+-------+-----------+\n",
            "|          Steam_Game| USER_ID|Behaviour_Name|     Hours_played|prev_value|new_feature|  mean_Hourplayed|rating|GAME_ID| prediction|\n",
            "+--------------------+--------+--------------+-----------------+----------+-----------+-----------------+------+-------+-----------+\n",
            "|    Anno 1404 Venice|16167221|      purchase|              1.0|      play|          1|7.300000038743019|     2|    278| -3.1347113|\n",
            "|      Counter-Strike|16167221|      purchase|              1.0|      play|          1|94.88560393487177|     0|    978| -0.3052165|\n",
            "|Counter-Strike Co...|16167221|          play|            722.0|  purchase|          2|9.545353985193755|     5|    979|  0.3139603|\n",
            "|Counter-Strike Co...|55120589|          play|1.600000023841858|  purchase|          2|9.545353985193755|     0|    979|-0.31166098|\n",
            "|Counter-Strike Co...|55120589|      purchase|              1.0|      play|          1|9.545353985193755|     2|    979|-0.31166098|\n",
            "+--------------------+--------+--------------+-----------------+----------+-----------+-----------------+------+-------+-----------+\n",
            "only showing top 5 rows\n",
            "\n"
          ]
        }
      ]
    },
    {
      "cell_type": "code",
      "source": [
        "evaluator = RegressionEvaluator(metricName=\"rmse\", labelCol=\"rating\", predictionCol=\"prediction\")\n",
        "rmse = evaluator.evaluate(predictions)\n",
        "print(\"Root-mean-square error = \" + str(rmse))\n",
        "nrecommendations = model.recommendForAllUsers(5)\n",
        "nrecommendations.show(10)\n",
        "import pyspark.sql.functions as F\n",
        "nrecommendations = nrecommendations.withColumn(\"rec_exp\", F.explode(\"recommendations\"))\\\n",
        "    .select('USER_ID', F.col(\"rec_exp.GAME_ID\"), F.col(\"rec_exp.rating\"))\n",
        "nrecommendations.show(10)"
      ],
      "metadata": {
        "id": "wPyW1NobEo4f",
        "colab": {
          "base_uri": "https://localhost:8080/"
        },
        "outputId": "07753519-bc21-40cf-b601-acc276bc9418"
      },
      "execution_count": 32,
      "outputs": [
        {
          "output_type": "stream",
          "name": "stdout",
          "text": [
            "Root-mean-square error = 3.0260710546642517\n",
            "+-------+--------------------+\n",
            "|USER_ID|     recommendations|\n",
            "+-------+--------------------+\n",
            "|  76767|[{4439, 5.4298787...|\n",
            "|  86540|[{3133, 5.564041}...|\n",
            "| 144736|[{1696, 5.0238266...|\n",
            "| 181212|[{2313, 4.6140914...|\n",
            "| 229911|[{2657, 12.607465...|\n",
            "| 299153|[{5138, 7.3607936...|\n",
            "| 554278|[{1808, 6.726024}...|\n",
            "| 604988|[{1696, 8.6333885...|\n",
            "| 835015|[{1696, 6.565891}...|\n",
            "| 861238|[{2657, 12.806317...|\n",
            "+-------+--------------------+\n",
            "only showing top 10 rows\n",
            "\n",
            "+-------+-------+---------+\n",
            "|USER_ID|GAME_ID|   rating|\n",
            "+-------+-------+---------+\n",
            "|  76767|   4439|5.4298787|\n",
            "|  76767|    579| 4.726025|\n",
            "|  76767|    742|4.6214166|\n",
            "|  76767|   3319| 4.514239|\n",
            "|  76767|    358| 4.498138|\n",
            "|  86540|   3133| 5.564041|\n",
            "|  86540|   3248| 4.246829|\n",
            "|  86540|   1426| 4.180883|\n",
            "|  86540|   1442|3.8785768|\n",
            "|  86540|   1841|3.8556235|\n",
            "+-------+-------+---------+\n",
            "only showing top 10 rows\n",
            "\n"
          ]
        }
      ]
    },
    {
      "cell_type": "code",
      "source": [
        "Games = spark.read.schema(schema).csv(\"/content/drive/MyDrive/GOOGLE_COLAB/BigData/steam-200k.csv\", header=False)\n",
        "Gamesdf = Games.toPandas()\n",
        "Gamesdf['Steam_Game'] = Gamesdf['Steam_Game'].astype('category')\n",
        "Gamesdf['GAME_ID'] = Gamesdf['Steam_Game'].cat.codes\n",
        "Games = spark.createDataFrame(Gamesdf)\n",
        "Games = Games.select(F.col(\"USER_ID\"))"
      ],
      "metadata": {
        "id": "Oftz5akIEosl"
      },
      "execution_count": 33,
      "outputs": []
    },
    {
      "cell_type": "code",
      "source": [
        "# User’s ALS Recommendations:\n",
        "\n",
        "# Joining recommended movies for the given user_id with anime dataframe to display recommendations in more readable format\n",
        "int_df = nrecommendations.join(Games, on='USER_ID').filter('user_id = 151603712')\n",
        "int_df = int_df.distinct()\n",
        "int_df.count()\n",
        "int_df.show()\n",
        "int_df = int_df.toPandas()\n",
        "d[3881]\n",
        "int_df = int_df.sort_values(['rating'], ascending=[False])\n",
        "int_df['Game_Name'] = int_df['GAME_ID'].map(d)\n",
        "int_df"
      ],
      "metadata": {
        "id": "DyZNZWX9Eol8",
        "colab": {
          "base_uri": "https://localhost:8080/",
          "height": 385
        },
        "outputId": "878f9fbd-0dcf-4e43-b776-7dbf2c56ac9d"
      },
      "execution_count": 34,
      "outputs": [
        {
          "output_type": "stream",
          "name": "stdout",
          "text": [
            "+---------+-------+---------+\n",
            "|  USER_ID|GAME_ID|   rating|\n",
            "+---------+-------+---------+\n",
            "|151603712|   5057| 3.622861|\n",
            "|151603712|   2493|3.0386887|\n",
            "|151603712|   3551|3.9737294|\n",
            "|151603712|   4236| 3.402569|\n",
            "|151603712|    264| 3.401514|\n",
            "+---------+-------+---------+\n",
            "\n"
          ]
        },
        {
          "output_type": "execute_result",
          "data": {
            "text/plain": [
              "     USER_ID  GAME_ID    rating              Game_Name\n",
              "2  151603712     3551  3.973729  Risen 3 - Titan Lords\n",
              "0  151603712     5057  3.622861              Xenonauts\n",
              "3  151603712     4236  3.402569           Tales Runner\n",
              "4  151603712      264  3.401514             Anachronox\n",
              "1  151603712     2493  3.038689      Lego Harry Potter"
            ],
            "text/html": [
              "\n",
              "  <div id=\"df-d3ab9d97-c7e7-43e8-82f6-c485dde9401c\">\n",
              "    <div class=\"colab-df-container\">\n",
              "      <div>\n",
              "<style scoped>\n",
              "    .dataframe tbody tr th:only-of-type {\n",
              "        vertical-align: middle;\n",
              "    }\n",
              "\n",
              "    .dataframe tbody tr th {\n",
              "        vertical-align: top;\n",
              "    }\n",
              "\n",
              "    .dataframe thead th {\n",
              "        text-align: right;\n",
              "    }\n",
              "</style>\n",
              "<table border=\"1\" class=\"dataframe\">\n",
              "  <thead>\n",
              "    <tr style=\"text-align: right;\">\n",
              "      <th></th>\n",
              "      <th>USER_ID</th>\n",
              "      <th>GAME_ID</th>\n",
              "      <th>rating</th>\n",
              "      <th>Game_Name</th>\n",
              "    </tr>\n",
              "  </thead>\n",
              "  <tbody>\n",
              "    <tr>\n",
              "      <th>2</th>\n",
              "      <td>151603712</td>\n",
              "      <td>3551</td>\n",
              "      <td>3.973729</td>\n",
              "      <td>Risen 3 - Titan Lords</td>\n",
              "    </tr>\n",
              "    <tr>\n",
              "      <th>0</th>\n",
              "      <td>151603712</td>\n",
              "      <td>5057</td>\n",
              "      <td>3.622861</td>\n",
              "      <td>Xenonauts</td>\n",
              "    </tr>\n",
              "    <tr>\n",
              "      <th>3</th>\n",
              "      <td>151603712</td>\n",
              "      <td>4236</td>\n",
              "      <td>3.402569</td>\n",
              "      <td>Tales Runner</td>\n",
              "    </tr>\n",
              "    <tr>\n",
              "      <th>4</th>\n",
              "      <td>151603712</td>\n",
              "      <td>264</td>\n",
              "      <td>3.401514</td>\n",
              "      <td>Anachronox</td>\n",
              "    </tr>\n",
              "    <tr>\n",
              "      <th>1</th>\n",
              "      <td>151603712</td>\n",
              "      <td>2493</td>\n",
              "      <td>3.038689</td>\n",
              "      <td>Lego Harry Potter</td>\n",
              "    </tr>\n",
              "  </tbody>\n",
              "</table>\n",
              "</div>\n",
              "      <button class=\"colab-df-convert\" onclick=\"convertToInteractive('df-d3ab9d97-c7e7-43e8-82f6-c485dde9401c')\"\n",
              "              title=\"Convert this dataframe to an interactive table.\"\n",
              "              style=\"display:none;\">\n",
              "        \n",
              "  <svg xmlns=\"http://www.w3.org/2000/svg\" height=\"24px\"viewBox=\"0 0 24 24\"\n",
              "       width=\"24px\">\n",
              "    <path d=\"M0 0h24v24H0V0z\" fill=\"none\"/>\n",
              "    <path d=\"M18.56 5.44l.94 2.06.94-2.06 2.06-.94-2.06-.94-.94-2.06-.94 2.06-2.06.94zm-11 1L8.5 8.5l.94-2.06 2.06-.94-2.06-.94L8.5 2.5l-.94 2.06-2.06.94zm10 10l.94 2.06.94-2.06 2.06-.94-2.06-.94-.94-2.06-.94 2.06-2.06.94z\"/><path d=\"M17.41 7.96l-1.37-1.37c-.4-.4-.92-.59-1.43-.59-.52 0-1.04.2-1.43.59L10.3 9.45l-7.72 7.72c-.78.78-.78 2.05 0 2.83L4 21.41c.39.39.9.59 1.41.59.51 0 1.02-.2 1.41-.59l7.78-7.78 2.81-2.81c.8-.78.8-2.07 0-2.86zM5.41 20L4 18.59l7.72-7.72 1.47 1.35L5.41 20z\"/>\n",
              "  </svg>\n",
              "      </button>\n",
              "      \n",
              "  <style>\n",
              "    .colab-df-container {\n",
              "      display:flex;\n",
              "      flex-wrap:wrap;\n",
              "      gap: 12px;\n",
              "    }\n",
              "\n",
              "    .colab-df-convert {\n",
              "      background-color: #E8F0FE;\n",
              "      border: none;\n",
              "      border-radius: 50%;\n",
              "      cursor: pointer;\n",
              "      display: none;\n",
              "      fill: #1967D2;\n",
              "      height: 32px;\n",
              "      padding: 0 0 0 0;\n",
              "      width: 32px;\n",
              "    }\n",
              "\n",
              "    .colab-df-convert:hover {\n",
              "      background-color: #E2EBFA;\n",
              "      box-shadow: 0px 1px 2px rgba(60, 64, 67, 0.3), 0px 1px 3px 1px rgba(60, 64, 67, 0.15);\n",
              "      fill: #174EA6;\n",
              "    }\n",
              "\n",
              "    [theme=dark] .colab-df-convert {\n",
              "      background-color: #3B4455;\n",
              "      fill: #D2E3FC;\n",
              "    }\n",
              "\n",
              "    [theme=dark] .colab-df-convert:hover {\n",
              "      background-color: #434B5C;\n",
              "      box-shadow: 0px 1px 3px 1px rgba(0, 0, 0, 0.15);\n",
              "      filter: drop-shadow(0px 1px 2px rgba(0, 0, 0, 0.3));\n",
              "      fill: #FFFFFF;\n",
              "    }\n",
              "  </style>\n",
              "\n",
              "      <script>\n",
              "        const buttonEl =\n",
              "          document.querySelector('#df-d3ab9d97-c7e7-43e8-82f6-c485dde9401c button.colab-df-convert');\n",
              "        buttonEl.style.display =\n",
              "          google.colab.kernel.accessAllowed ? 'block' : 'none';\n",
              "\n",
              "        async function convertToInteractive(key) {\n",
              "          const element = document.querySelector('#df-d3ab9d97-c7e7-43e8-82f6-c485dde9401c');\n",
              "          const dataTable =\n",
              "            await google.colab.kernel.invokeFunction('convertToInteractive',\n",
              "                                                     [key], {});\n",
              "          if (!dataTable) return;\n",
              "\n",
              "          const docLinkHtml = 'Like what you see? Visit the ' +\n",
              "            '<a target=\"_blank\" href=https://colab.research.google.com/notebooks/data_table.ipynb>data table notebook</a>'\n",
              "            + ' to learn more about interactive tables.';\n",
              "          element.innerHTML = '';\n",
              "          dataTable['output_type'] = 'display_data';\n",
              "          await google.colab.output.renderOutput(dataTable, element);\n",
              "          const docLink = document.createElement('div');\n",
              "          docLink.innerHTML = docLinkHtml;\n",
              "          element.appendChild(docLink);\n",
              "        }\n",
              "      </script>\n",
              "    </div>\n",
              "  </div>\n",
              "  "
            ]
          },
          "metadata": {},
          "execution_count": 34
        }
      ]
    },
    {
      "cell_type": "markdown",
      "source": [
        "**COSINE SIMILARITY MODEL**"
      ],
      "metadata": {
        "id": "d5aQ51gIMI3k"
      }
    },
    {
      "cell_type": "code",
      "source": [
        "# Select only the relevant columns\n",
        "df = newfeature.select(\"User_ID\", \"Steam_Game\", \"rating\")\n",
        "# Filter out any null values\n",
        "df = df.filter(df.User_ID.isNotNull() & df.Steam_Game.isNotNull() & df.rating.isNotNull())\n",
        "from pyspark.sql.functions import col\n",
        "# Create a pivot table\n",
        "pivot_table = df.groupBy(\"Steam_Game\").pivot(\"User_ID\").agg(avg(col(\"rating\"))).alias(\"avg_rating\")\n",
        "# Fill any null values with 0\n",
        "pivot_table = pivot_table.na.fill(0)"
      ],
      "metadata": {
        "id": "9u79r7xQnqCl"
      },
      "execution_count": 35,
      "outputs": []
    },
    {
      "cell_type": "code",
      "source": [
        "from pyspark.ml.feature import VectorAssembler\n",
        "from pyspark.ml.feature import Normalizer\n",
        "from pyspark.ml.linalg import Vectors\n",
        "from pyspark.ml.feature import BucketedRandomProjectionLSH\n",
        "# Convert the pivot table to a VectorAssembler\n",
        "assembler = VectorAssembler(inputCols=pivot_table.columns[1:], outputCol=\"features\")\n",
        "df_vector = assembler.transform(pivot_table)\n",
        "# Normalize the features\n",
        "normalizer = Normalizer(inputCol=\"features\", outputCol=\"normFeatures\")\n",
        "df_norm = normalizer.transform(df_vector)"
      ],
      "metadata": {
        "id": "dZUGsyVxC3jk"
      },
      "execution_count": 36,
      "outputs": []
    }
  ],
  "metadata": {
    "colab": {
      "provenance": []
    },
    "kernelspec": {
      "display_name": "Python 3",
      "name": "python3"
    },
    "language_info": {
      "name": "python"
    },
    "accelerator": "GPU",
    "gpuClass": "standard"
  },
  "nbformat": 4,
  "nbformat_minor": 0
}