{
  "cells": [
    {
      "cell_type": "code",
      "source": [
        "pip install pyspark"
      ],
      "metadata": {
        "colab": {
          "base_uri": "https://localhost:8080/"
        },
        "id": "I5yPmJERFUq8",
        "outputId": "ef5bc04f-a5d1-4ab6-d77d-ba53040c4906"
      },
      "execution_count": 1,
      "outputs": [
        {
          "output_type": "stream",
          "name": "stdout",
          "text": [
            "Looking in indexes: https://pypi.org/simple, https://us-python.pkg.dev/colab-wheels/public/simple/\n",
            "Collecting pyspark\n",
            "  Downloading pyspark-3.3.1.tar.gz (281.4 MB)\n",
            "\u001b[2K     \u001b[90m━━━━━━━━━━━━━━━━━━━━━━━━━━━━━━━━━━━━━━━\u001b[0m \u001b[32m281.4/281.4 MB\u001b[0m \u001b[31m3.2 MB/s\u001b[0m eta \u001b[36m0:00:00\u001b[0m\n",
            "\u001b[?25h  Preparing metadata (setup.py) ... \u001b[?25l\u001b[?25hdone\n",
            "Collecting py4j==0.10.9.5\n",
            "  Downloading py4j-0.10.9.5-py2.py3-none-any.whl (199 kB)\n",
            "\u001b[2K     \u001b[90m━━━━━━━━━━━━━━━━━━━━━━━━━━━━━━━━━━━━━━━\u001b[0m \u001b[32m199.7/199.7 KB\u001b[0m \u001b[31m8.2 MB/s\u001b[0m eta \u001b[36m0:00:00\u001b[0m\n",
            "\u001b[?25hBuilding wheels for collected packages: pyspark\n",
            "  Building wheel for pyspark (setup.py) ... \u001b[?25l\u001b[?25hdone\n",
            "  Created wheel for pyspark: filename=pyspark-3.3.1-py2.py3-none-any.whl size=281845512 sha256=580f761c0ce6556e55706b1e9123e871a72f13910efcff9b8adb823acf342c12\n",
            "  Stored in directory: /root/.cache/pip/wheels/43/dc/11/ec201cd671da62fa9c5cc77078235e40722170ceba231d7598\n",
            "Successfully built pyspark\n",
            "Installing collected packages: py4j, pyspark\n",
            "Successfully installed py4j-0.10.9.5 pyspark-3.3.1\n"
          ]
        }
      ]
    },
    {
      "cell_type": "code",
      "source": [
        "from google.colab import drive\n",
        "drive.mount('/content/drive')"
      ],
      "metadata": {
        "colab": {
          "base_uri": "https://localhost:8080/"
        },
        "id": "4VKIpRqrTeRh",
        "outputId": "3b1c80fe-5752-410b-c6af-e9cd344be3a5"
      },
      "execution_count": 2,
      "outputs": [
        {
          "output_type": "stream",
          "name": "stdout",
          "text": [
            "Mounted at /content/drive\n"
          ]
        }
      ]
    },
    {
      "cell_type": "markdown",
      "source": [
        "# Import Libraries and Spark Session\n"
      ],
      "metadata": {
        "id": "VnTQEmsWSDlR"
      }
    },
    {
      "cell_type": "code",
      "execution_count": 3,
      "metadata": {
        "id": "x9QExASLHUfg"
      },
      "outputs": [],
      "source": [
        "import pandas as pd\n",
        "import io\n",
        "import matplotlib.pyplot as plt\n",
        "\n",
        "from pyspark.rdd import RDD\n",
        "from pyspark.sql import Row\n",
        "from pyspark.sql import DataFrame\n",
        "from pyspark.sql import SparkSession\n",
        "from pyspark.sql.functions import lit\n",
        "from pyspark.sql.functions import desc\n",
        "from pyspark.ml.evaluation import RegressionEvaluator\n",
        "from pyspark.ml.recommendation import ALS\n",
        "from pyspark.sql.functions import sum,avg,max,min,mean,count,sqrt\n",
        "from pyspark.sql.functions import col,when\n",
        "from pyspark.sql import functions as F \n",
        "from pyspark.sql.functions import col,isnan, when, count\n",
        "from pyspark.ml.evaluation import RegressionEvaluator\n",
        "import seaborn as sns"
      ]
    },
    {
      "cell_type": "code",
      "source": [
        "#Initialize a spark session.\n",
        "def spark_intialization():\n",
        "    spark = SparkSession \\\n",
        "        .builder \\\n",
        "        .appName(\"Pyspark Project\") \\\n",
        "        .config(\"spark.some.config.option\", \"some-value\") \\\n",
        "        .getOrCreate()\n",
        "    return spark"
      ],
      "metadata": {
        "id": "5N4VD6nLFvS8"
      },
      "execution_count": 4,
      "outputs": []
    },
    {
      "cell_type": "code",
      "source": [
        "# Initialise spark object\n",
        "spark = spark_intialization()\n",
        "spark"
      ],
      "metadata": {
        "colab": {
          "base_uri": "https://localhost:8080/",
          "height": 222
        },
        "id": "zLSQuPcCGSFU",
        "outputId": "1608a1b2-de62-429d-c272-c5eb4b0e6b45"
      },
      "execution_count": 5,
      "outputs": [
        {
          "output_type": "execute_result",
          "data": {
            "text/plain": [
              "<pyspark.sql.session.SparkSession at 0x7f2df7eae3a0>"
            ],
            "text/html": [
              "\n",
              "            <div>\n",
              "                <p><b>SparkSession - in-memory</b></p>\n",
              "                \n",
              "        <div>\n",
              "            <p><b>SparkContext</b></p>\n",
              "\n",
              "            <p><a href=\"http://c9c3dfe247af:4040\">Spark UI</a></p>\n",
              "\n",
              "            <dl>\n",
              "              <dt>Version</dt>\n",
              "                <dd><code>v3.3.1</code></dd>\n",
              "              <dt>Master</dt>\n",
              "                <dd><code>local[*]</code></dd>\n",
              "              <dt>AppName</dt>\n",
              "                <dd><code>Pyspark Project</code></dd>\n",
              "            </dl>\n",
              "        </div>\n",
              "        \n",
              "            </div>\n",
              "        "
            ]
          },
          "metadata": {},
          "execution_count": 5
        }
      ]
    },
    {
      "cell_type": "markdown",
      "source": [
        "# DATA PREPROCESSING"
      ],
      "metadata": {
        "id": "UC080uvRq5ms"
      }
    },
    {
      "cell_type": "code",
      "source": [
        "from pyspark.sql import functions as pyspark_functions\n",
        "from pyspark.sql.types import *\n",
        "schema = StructType([ \\\n",
        "                     StructField(\"USER_ID\", IntegerType(), True), \\\n",
        "                     StructField(\"Steam_Game\", StringType(), True),\\\n",
        "                     StructField(\"Behaviour_Name\", StringType(), True),\\\n",
        "                    StructField(\"Hours_played\", FloatType(), True)])\n",
        "dataframes = spark.read.schema(schema).csv(\"/content/drive/MyDrive/GOOGLE_COLAB/BigData/steam-200k.csv\", header=False)\n",
        "dataframes.show(10)"
      ],
      "metadata": {
        "colab": {
          "base_uri": "https://localhost:8080/"
        },
        "id": "WPfylbNUGzMD",
        "outputId": "70320c3a-da86-4197-fac3-1c7e278af2c1"
      },
      "execution_count": 6,
      "outputs": [
        {
          "output_type": "stream",
          "name": "stdout",
          "text": [
            "+---------+--------------------+--------------+------------+\n",
            "|  USER_ID|          Steam_Game|Behaviour_Name|Hours_played|\n",
            "+---------+--------------------+--------------+------------+\n",
            "|151603712|The Elder Scrolls...|      purchase|         1.0|\n",
            "|151603712|The Elder Scrolls...|          play|       273.0|\n",
            "|151603712|           Fallout 4|      purchase|         1.0|\n",
            "|151603712|           Fallout 4|          play|        87.0|\n",
            "|151603712|               Spore|      purchase|         1.0|\n",
            "|151603712|               Spore|          play|        14.9|\n",
            "|151603712|   Fallout New Vegas|      purchase|         1.0|\n",
            "|151603712|   Fallout New Vegas|          play|        12.1|\n",
            "|151603712|       Left 4 Dead 2|      purchase|         1.0|\n",
            "|151603712|       Left 4 Dead 2|          play|         8.9|\n",
            "+---------+--------------------+--------------+------------+\n",
            "only showing top 10 rows\n",
            "\n"
          ]
        }
      ]
    },
    {
      "cell_type": "code",
      "execution_count": 7,
      "metadata": {
        "id": "jtemtFTjJtDy",
        "colab": {
          "base_uri": "https://localhost:8080/"
        },
        "outputId": "52f56ca4-0c77-4853-a38a-fc6d0a1612e6"
      },
      "outputs": [
        {
          "output_type": "stream",
          "name": "stdout",
          "text": [
            "+---------+--------------------+--------------+------------+\n",
            "|  USER_ID|          Steam_Game|Behaviour_Name|Hours_played|\n",
            "+---------+--------------------+--------------+------------+\n",
            "|151603712|The Elder Scrolls...|      purchase|         1.0|\n",
            "|151603712|The Elder Scrolls...|          play|       273.0|\n",
            "|151603712|           Fallout 4|      purchase|         1.0|\n",
            "|151603712|           Fallout 4|          play|        87.0|\n",
            "|151603712|               Spore|      purchase|         1.0|\n",
            "|151603712|               Spore|          play|        14.9|\n",
            "|151603712|   Fallout New Vegas|      purchase|         1.0|\n",
            "|151603712|   Fallout New Vegas|          play|        12.1|\n",
            "|151603712|       Left 4 Dead 2|      purchase|         1.0|\n",
            "|151603712|       Left 4 Dead 2|          play|         8.9|\n",
            "+---------+--------------------+--------------+------------+\n",
            "only showing top 10 rows\n",
            "\n"
          ]
        }
      ],
      "source": [
        "dataframes = dataframes.withColumnRenamed(\"_c0\",\"USER_ID\").withColumnRenamed(\"_c1\",\"Steam_Game\").withColumnRenamed(\"_c2\",\"Behaviour_Name\").withColumnRenamed(\"_c3\",\"Hours_played\")\n",
        "dataframes = dataframes.drop(\"_c4\")\n",
        "dataframes.show(10)"
      ]
    },
    {
      "cell_type": "markdown",
      "source": [
        "# FEATURE ADDITION"
      ],
      "metadata": {
        "id": "vxkTgK7zvZ4Y"
      }
    },
    {
      "cell_type": "code",
      "source": [
        "new_feature =dataframes.filter(\"Hours_played > 1\") and dataframes.filter(\"Behaviour_Name =='play'\")\n",
        "new_feature.select(\"Behaviour_Name\").distinct().collect()\n",
        "new_feature.select('Steam_Game').distinct().count()\n",
        "average = new_feature.groupBy(\"Steam_Game\") \\\n",
        "             .agg(mean(\"Hours_played\").alias(\"mean_Hourplayed\")) \\\n",
        "             .select(\"Steam_Game\", \"mean_Hourplayed\")\n",
        "newfeature = new_feature.join(average, on=\"Steam_Game\", how=\"inner\")\n",
        "newfeature.show()"
      ],
      "metadata": {
        "colab": {
          "base_uri": "https://localhost:8080/"
        },
        "id": "sX3kuthhvXiJ",
        "outputId": "751eb24f-d977-486c-dc3d-27c517bb6b72"
      },
      "execution_count": 8,
      "outputs": [
        {
          "output_type": "stream",
          "name": "stdout",
          "text": [
            "+--------------------+---------+--------------+------------+------------------+\n",
            "|          Steam_Game|  USER_ID|Behaviour_Name|Hours_played|   mean_Hourplayed|\n",
            "+--------------------+---------+--------------+------------+------------------+\n",
            "|The Elder Scrolls...|151603712|          play|       273.0|104.71093058112893|\n",
            "|           Fallout 4|151603712|          play|        87.0| 64.44790419641726|\n",
            "|               Spore|151603712|          play|        14.9|29.424137906524642|\n",
            "|   Fallout New Vegas|151603712|          play|        12.1| 51.68257840416469|\n",
            "|       Left 4 Dead 2|151603712|          play|         8.9| 41.94344569319457|\n",
            "|            HuniePop|151603712|          play|         8.5|20.820000019669532|\n",
            "|       Path of Exile|151603712|          play|         8.1|  53.3277487010934|\n",
            "|         Poly Bridge|151603712|          play|         7.5| 5.383333285649617|\n",
            "|         Left 4 Dead|151603712|          play|         3.3| 42.45049018993535|\n",
            "|     Team Fortress 2|151603712|          play|         2.8| 74.76250538327444|\n",
            "|         Tomb Raider|151603712|          play|         2.5|15.609313723649464|\n",
            "|     The Banner Saga|151603712|          play|         2.0|14.986206910733518|\n",
            "|Dead Island Epidemic|151603712|          play|         1.4| 5.842519668554227|\n",
            "|   BioShock Infinite|151603712|          play|         1.3|17.401415102675838|\n",
            "|Dragon Age Origin...|151603712|          play|         1.3| 43.26271186579587|\n",
            "|Fallout 3 - Game ...|151603712|          play|         0.8|19.662745094620714|\n",
            "|SEGA Genesis & Me...|151603712|          play|         0.8|  5.08260869493951|\n",
            "| Grand Theft Auto IV|151603712|          play|         0.6| 20.73584070554481|\n",
            "|Realm of the Mad God|151603712|          play|         0.5|10.575000019666428|\n",
            "|  Marvel Heroes 2015|151603712|          play|         0.5| 29.00720721382547|\n",
            "+--------------------+---------+--------------+------------+------------------+\n",
            "only showing top 20 rows\n",
            "\n"
          ]
        }
      ]
    },
    {
      "cell_type": "code",
      "source": [
        "from pyspark.sql.functions import when\n",
        "newfeature = newfeature.withColumn(\"rating\", \n",
        "                   when(newfeature[\"Hours_played\"] >= 0.8 * newfeature[\"mean_Hourplayed\"], 5)\n",
        "                   .when((newfeature[\"Hours_played\"] >= 0.6 * newfeature[\"mean_Hourplayed\"]) & (newfeature[\"Hours_played\"] < 0.8 * newfeature[\"mean_Hourplayed\"]), 4)\n",
        "                   .when((newfeature[\"Hours_played\"] >= 0.4 * newfeature[\"mean_Hourplayed\"]) & (newfeature[\"Hours_played\"] < 0.6 * newfeature[\"mean_Hourplayed\"]), 3)\n",
        "                   .when((newfeature[\"Hours_played\"] >= 0.2 * newfeature[\"mean_Hourplayed\"]) & (newfeature[\"Hours_played\"] < 0.4 * newfeature[\"mean_Hourplayed\"]), 2)\n",
        "                   .otherwise(1))\n",
        "newfeature.show()"
      ],
      "metadata": {
        "colab": {
          "base_uri": "https://localhost:8080/"
        },
        "id": "GQLkmbDk93Xi",
        "outputId": "20aaa5ca-ddda-4e00-dd8a-36dbf4ce0241"
      },
      "execution_count": 9,
      "outputs": [
        {
          "output_type": "stream",
          "name": "stdout",
          "text": [
            "+--------------------+---------+--------------+------------+------------------+------+\n",
            "|          Steam_Game|  USER_ID|Behaviour_Name|Hours_played|   mean_Hourplayed|rating|\n",
            "+--------------------+---------+--------------+------------+------------------+------+\n",
            "|The Elder Scrolls...|151603712|          play|       273.0|104.71093058112893|     5|\n",
            "|           Fallout 4|151603712|          play|        87.0| 64.44790419641726|     5|\n",
            "|               Spore|151603712|          play|        14.9|29.424137906524642|     3|\n",
            "|   Fallout New Vegas|151603712|          play|        12.1| 51.68257840416469|     2|\n",
            "|       Left 4 Dead 2|151603712|          play|         8.9| 41.94344569319457|     2|\n",
            "|            HuniePop|151603712|          play|         8.5|20.820000019669532|     3|\n",
            "|       Path of Exile|151603712|          play|         8.1|  53.3277487010934|     1|\n",
            "|         Poly Bridge|151603712|          play|         7.5| 5.383333285649617|     5|\n",
            "|         Left 4 Dead|151603712|          play|         3.3| 42.45049018993535|     1|\n",
            "|     Team Fortress 2|151603712|          play|         2.8| 74.76250538327444|     1|\n",
            "|         Tomb Raider|151603712|          play|         2.5|15.609313723649464|     1|\n",
            "|     The Banner Saga|151603712|          play|         2.0|14.986206910733518|     1|\n",
            "|Dead Island Epidemic|151603712|          play|         1.4| 5.842519668554227|     2|\n",
            "|   BioShock Infinite|151603712|          play|         1.3|17.401415102675838|     1|\n",
            "|Dragon Age Origin...|151603712|          play|         1.3| 43.26271186579587|     1|\n",
            "|Fallout 3 - Game ...|151603712|          play|         0.8|19.662745094620714|     1|\n",
            "|SEGA Genesis & Me...|151603712|          play|         0.8|  5.08260869493951|     1|\n",
            "| Grand Theft Auto IV|151603712|          play|         0.6| 20.73584070554481|     1|\n",
            "|Realm of the Mad God|151603712|          play|         0.5|10.575000019666428|     1|\n",
            "|  Marvel Heroes 2015|151603712|          play|         0.5| 29.00720721382547|     1|\n",
            "+--------------------+---------+--------------+------------+------------------+------+\n",
            "only showing top 20 rows\n",
            "\n"
          ]
        }
      ]
    },
    {
      "cell_type": "code",
      "source": [
        "newfeature.groupBy(\"rating\").count().show()"
      ],
      "metadata": {
        "colab": {
          "base_uri": "https://localhost:8080/"
        },
        "id": "BAjp4n-3-aDy",
        "outputId": "a15b58c9-7f28-456a-d9dd-3c75735bde01"
      },
      "execution_count": 10,
      "outputs": [
        {
          "output_type": "stream",
          "name": "stdout",
          "text": [
            "+------+-----+\n",
            "|rating|count|\n",
            "+------+-----+\n",
            "|     1|28421|\n",
            "|     3| 5746|\n",
            "|     5|22935|\n",
            "|     4| 4281|\n",
            "|     2| 9106|\n",
            "+------+-----+\n",
            "\n"
          ]
        }
      ]
    },
    {
      "cell_type": "code",
      "source": [
        "newfeature.count()"
      ],
      "metadata": {
        "colab": {
          "base_uri": "https://localhost:8080/"
        },
        "id": "XNOok3Hq_srx",
        "outputId": "b29734fd-7e00-4e5c-e5c2-ebf8caf43a05"
      },
      "execution_count": 11,
      "outputs": [
        {
          "output_type": "execute_result",
          "data": {
            "text/plain": [
              "70489"
            ]
          },
          "metadata": {},
          "execution_count": 11
        }
      ]
    },
    {
      "cell_type": "markdown",
      "source": [
        "## EXPLORATORY DATA ANALYSIS"
      ],
      "metadata": {
        "id": "iAOXDsP9prco"
      }
    },
    {
      "cell_type": "code",
      "source": [
        "total_records = dataframes.count()\n",
        "print(\"Total records in dataframe\", total_records)"
      ],
      "metadata": {
        "colab": {
          "base_uri": "https://localhost:8080/"
        },
        "id": "jPT6Rq50I-dk",
        "outputId": "627086f1-cc6a-43f5-8b04-0aff27e95fd7"
      },
      "execution_count": 12,
      "outputs": [
        {
          "output_type": "stream",
          "name": "stdout",
          "text": [
            "Total records in dataframe 200000\n"
          ]
        }
      ]
    },
    {
      "cell_type": "code",
      "source": [
        "# Find Count of Null, None, NaN of All DataFrame Columns\n",
        "from pyspark.sql.functions import col,isnan, when, count\n",
        "dataframes.select([count(when(isnan(c) | col(c).isNull(), c)).alias(c) for c in dataframes.columns]\n",
        "   ).show(truncate=False)"
      ],
      "metadata": {
        "colab": {
          "base_uri": "https://localhost:8080/"
        },
        "id": "2eAsyu_fp5NE",
        "outputId": "1091d81c-d44b-463b-f1de-e0e0fd056355"
      },
      "execution_count": 13,
      "outputs": [
        {
          "output_type": "stream",
          "name": "stdout",
          "text": [
            "+-------+----------+--------------+------------+\n",
            "|USER_ID|Steam_Game|Behaviour_Name|Hours_played|\n",
            "+-------+----------+--------------+------------+\n",
            "|0      |0         |0             |0           |\n",
            "+-------+----------+--------------+------------+\n",
            "\n"
          ]
        }
      ]
    },
    {
      "cell_type": "code",
      "source": [
        "#checking for duplicate values\n",
        "#Hours if behavior is play, 1.0 if behavior is purchase\n",
        "dataframes.groupBy(\"USER_ID\",\"Steam_Game\",\"Behaviour_Name\").count().filter(\"count > 1\").show(50)"
      ],
      "metadata": {
        "colab": {
          "base_uri": "https://localhost:8080/"
        },
        "id": "ANjkWxGqqP1R",
        "outputId": "e5d88f3e-2508-48a3-b7dd-68c0c1ea0a42"
      },
      "execution_count": 14,
      "outputs": [
        {
          "output_type": "stream",
          "name": "stdout",
          "text": [
            "+---------+--------------------+--------------+-----+\n",
            "|  USER_ID|          Steam_Game|Behaviour_Name|count|\n",
            "+---------+--------------------+--------------+-----+\n",
            "| 11373749|Sid Meier's Civil...|      purchase|    2|\n",
            "|  2259650|Grand Theft Auto ...|      purchase|    2|\n",
            "|164561444|Sid Meier's Civil...|      purchase|    2|\n",
            "| 17530772|Grand Theft Auto ...|      purchase|    2|\n",
            "|  2259650|Sid Meier's Civil...|      purchase|    2|\n",
            "|101695880|Grand Theft Auto ...|      purchase|    2|\n",
            "|166048025|Sid Meier's Civil...|      purchase|    2|\n",
            "| 81585721|Grand Theft Auto III|      purchase|    2|\n",
            "| 31733621|Sid Meier's Civil...|      purchase|    2|\n",
            "|116876958|Sid Meier's Civil...|      purchase|    2|\n",
            "| 84513749|Sid Meier's Civil...|      purchase|    2|\n",
            "| 54761333|Sid Meier's Civil...|      purchase|    2|\n",
            "| 64787956|Grand Theft Auto ...|      purchase|    2|\n",
            "|100351493|Sid Meier's Civil...|      purchase|    2|\n",
            "| 33865373|Grand Theft Auto III|      purchase|    2|\n",
            "| 71390526|Sid Meier's Civil...|      purchase|    2|\n",
            "| 33013552|Sid Meier's Civil...|      purchase|    2|\n",
            "|124059151|Grand Theft Auto ...|      purchase|    2|\n",
            "| 65152385|Grand Theft Auto ...|      purchase|    2|\n",
            "|154458931|Grand Theft Auto ...|      purchase|    2|\n",
            "| 71411882|Grand Theft Auto ...|      purchase|    2|\n",
            "| 59005471|Sid Meier's Civil...|      purchase|    2|\n",
            "| 11813637|Sid Meier's Civil...|      purchase|    2|\n",
            "| 53091150|Sid Meier's Civil...|      purchase|    2|\n",
            "| 28472068|Grand Theft Auto ...|          play|    2|\n",
            "| 12610800|Sid Meier's Civil...|      purchase|    2|\n",
            "|160993265|Grand Theft Auto ...|      purchase|    2|\n",
            "| 53091150|Sid Meier's Civil...|      purchase|    2|\n",
            "| 30246419|Grand Theft Auto ...|      purchase|    2|\n",
            "|160288335|Grand Theft Auto ...|      purchase|    2|\n",
            "| 14544587|Sid Meier's Civil...|      purchase|    2|\n",
            "|134516625|Sid Meier's Civil...|      purchase|    2|\n",
            "| 44321815|Grand Theft Auto ...|      purchase|    2|\n",
            "| 14962163|Grand Theft Auto ...|      purchase|    2|\n",
            "|   561758|Sid Meier's Civil...|      purchase|    2|\n",
            "| 34919318|Grand Theft Auto III|      purchase|    2|\n",
            "| 30246419|Sid Meier's Civil...|      purchase|    2|\n",
            "| 71082079|Sid Meier's Civil...|      purchase|    2|\n",
            "|  4824107|Grand Theft Auto ...|      purchase|    2|\n",
            "|160288335|Grand Theft Auto III|      purchase|    2|\n",
            "| 27171538|Sid Meier's Civil...|      purchase|    2|\n",
            "|152959594|Grand Theft Auto ...|      purchase|    2|\n",
            "|100351493|Sid Meier's Civil...|      purchase|    2|\n",
            "|107476377|Sid Meier's Civil...|      purchase|    2|\n",
            "| 33865373|Sid Meier's Civil...|      purchase|    2|\n",
            "|222060673|Sid Meier's Civil...|      purchase|    2|\n",
            "| 46028967|Grand Theft Auto III|      purchase|    2|\n",
            "|116876958|Grand Theft Auto ...|      purchase|    2|\n",
            "| 71411882|Grand Theft Auto ...|      purchase|    2|\n",
            "|117949868|Grand Theft Auto ...|      purchase|    2|\n",
            "+---------+--------------------+--------------+-----+\n",
            "only showing top 50 rows\n",
            "\n"
          ]
        }
      ]
    },
    {
      "cell_type": "code",
      "source": [
        "#no of duplicate rows \n",
        "dataframes.groupBy(\"USER_ID\",\"Steam_Game\",\"Behaviour_Name\").count().filter(\"count > 1\").count()"
      ],
      "metadata": {
        "colab": {
          "base_uri": "https://localhost:8080/"
        },
        "id": "rYwuaafJqTIG",
        "outputId": "b25ca71c-8ce0-49cc-b5b1-b61bd4401df4"
      },
      "execution_count": 15,
      "outputs": [
        {
          "output_type": "execute_result",
          "data": {
            "text/plain": [
              "719"
            ]
          },
          "metadata": {},
          "execution_count": 15
        }
      ]
    },
    {
      "cell_type": "code",
      "source": [
        "#storing distinct datapoints of our dataset in distinctDF\n",
        "df = dataframes.distinct()\n",
        "print(\"Distinct count: \"+str(df.count()))"
      ],
      "metadata": {
        "colab": {
          "base_uri": "https://localhost:8080/"
        },
        "id": "YdB0_1VJqiLC",
        "outputId": "abd6bb12-b41f-4455-bbe5-953fb139824c"
      },
      "execution_count": 16,
      "outputs": [
        {
          "output_type": "stream",
          "name": "stdout",
          "text": [
            "Distinct count: 199293\n"
          ]
        }
      ]
    },
    {
      "cell_type": "code",
      "source": [
        "#counting distinct users and games on the platform.\n",
        "total_users = df.select(['USER_ID']).distinct().count()\n",
        "total_games = df.select(['Steam_Game']).distinct().count()\n",
        "total_hours = df.select(['Hours_played']).distinct().count()\n",
        "print(\"Total No of Users  :\", total_users)\n",
        "print(\"Total No of Games :\", total_games)\n",
        "print(\"Total No of hours played by user :\", total_hours)"
      ],
      "metadata": {
        "colab": {
          "base_uri": "https://localhost:8080/"
        },
        "id": "dwwz8q4cqs3_",
        "outputId": "8f70ae29-f5aa-4f66-eec8-d761c86f5f6e"
      },
      "execution_count": 17,
      "outputs": [
        {
          "output_type": "stream",
          "name": "stdout",
          "text": [
            "Total No of Users  : 12393\n",
            "Total No of Games : 5155\n",
            "Total No of hours played by user : 1593\n"
          ]
        }
      ]
    },
    {
      "cell_type": "code",
      "source": [
        "def sparsity(df):\n",
        "    # Count the number of ratings in the rating dataframe\n",
        "    hours_played = df.select(\"Hours_played\").count()\n",
        "    \n",
        "    # Total Number of distinct users and animes\n",
        "    total_element = total_users*total_games\n",
        "    #print(total_element)\n",
        "    # Calculate  % Sparsity of Matrix Fomrula (1-(rating_count)/(total_element))*100\n",
        "    sparsity = (1-(hours_played)/total_element)*100\n",
        "    print(\" The dataframe is \", \"%.2f\" % sparsity +\"% sparse\")"
      ],
      "metadata": {
        "id": "I-2Xo6Z4rVxe"
      },
      "execution_count": 18,
      "outputs": []
    },
    {
      "cell_type": "code",
      "source": [
        "sparsity(df)"
      ],
      "metadata": {
        "colab": {
          "base_uri": "https://localhost:8080/"
        },
        "id": "vBugzyuframJ",
        "outputId": "6e549bc6-6021-4aab-f418-c7cb76537ccf"
      },
      "execution_count": 19,
      "outputs": [
        {
          "output_type": "stream",
          "name": "stdout",
          "text": [
            " The dataframe is  99.69% sparse\n"
          ]
        }
      ]
    },
    {
      "cell_type": "code",
      "source": [
        "#Most number of hours played Games\n",
        "topGames=df.groupBy(\"Steam_Game\") \\\n",
        "    .agg(count(\"Hours_played\").alias(\"Hours\")) \\\n",
        "    .sort(desc(\"Hours\"))\n",
        "topGames.show(10)"
      ],
      "metadata": {
        "colab": {
          "base_uri": "https://localhost:8080/"
        },
        "id": "ccI5Klxir4d2",
        "outputId": "86f83be7-ffaa-46ed-f2f7-5b970184cc9d"
      },
      "execution_count": 20,
      "outputs": [
        {
          "output_type": "stream",
          "name": "stdout",
          "text": [
            "+--------------------+-----+\n",
            "|          Steam_Game|Hours|\n",
            "+--------------------+-----+\n",
            "|              Dota 2| 9682|\n",
            "|     Team Fortress 2| 4646|\n",
            "|Counter-Strike Gl...| 2789|\n",
            "|            Unturned| 2632|\n",
            "|       Left 4 Dead 2| 1752|\n",
            "|Counter-Strike So...| 1693|\n",
            "|      Counter-Strike| 1424|\n",
            "|         Garry's Mod| 1397|\n",
            "|The Elder Scrolls...| 1394|\n",
            "|            Warframe| 1271|\n",
            "+--------------------+-----+\n",
            "only showing top 10 rows\n",
            "\n"
          ]
        }
      ]
    },
    {
      "cell_type": "code",
      "source": [
        "#Top paid Games \n",
        "topPurchaseGames = df.filter(\"Behaviour_Name == 'purchase'\").groupBy(\"Steam_Game\",\"Behaviour_Name\").count().sort(desc(\"count\"))\n",
        "topPurchaseGames.show()"
      ],
      "metadata": {
        "colab": {
          "base_uri": "https://localhost:8080/"
        },
        "id": "kKT3APBlBe4c",
        "outputId": "1df83097-88cd-4383-9b10-8139ac5348e1"
      },
      "execution_count": 21,
      "outputs": [
        {
          "output_type": "stream",
          "name": "stdout",
          "text": [
            "+--------------------+--------------+-----+\n",
            "|          Steam_Game|Behaviour_Name|count|\n",
            "+--------------------+--------------+-----+\n",
            "|              Dota 2|      purchase| 4841|\n",
            "|     Team Fortress 2|      purchase| 2323|\n",
            "|            Unturned|      purchase| 1563|\n",
            "|Counter-Strike Gl...|      purchase| 1412|\n",
            "|Half-Life 2 Lost ...|      purchase|  981|\n",
            "|Counter-Strike So...|      purchase|  978|\n",
            "|       Left 4 Dead 2|      purchase|  951|\n",
            "|      Counter-Strike|      purchase|  856|\n",
            "|            Warframe|      purchase|  847|\n",
            "|Half-Life 2 Death...|      purchase|  823|\n",
            "|         Garry's Mod|      purchase|  731|\n",
            "|The Elder Scrolls...|      purchase|  717|\n",
            "|           Robocraft|      purchase|  689|\n",
            "|Counter-Strike Co...|      purchase|  679|\n",
            "|Counter-Strike Co...|      purchase|  679|\n",
            "|   Heroes & Generals|      purchase|  658|\n",
            "|         Half-Life 2|      purchase|  639|\n",
            "|Sid Meier's Civil...|      purchase|  596|\n",
            "|         War Thunder|      purchase|  590|\n",
            "|              Portal|      purchase|  588|\n",
            "+--------------------+--------------+-----+\n",
            "only showing top 20 rows\n",
            "\n"
          ]
        }
      ]
    },
    {
      "cell_type": "code",
      "source": [
        "#Top played Games \n",
        "topPlayedGames = df.filter(\"Behaviour_Name == 'play'\").groupBy(\"Steam_Game\",\"Behaviour_Name\").count().sort(desc(\"count\"))\n",
        "topPlayedGames.show()"
      ],
      "metadata": {
        "colab": {
          "base_uri": "https://localhost:8080/"
        },
        "id": "fYFTLQSgGm3s",
        "outputId": "1d82892a-7806-49b9-f1e3-774e1f98079a"
      },
      "execution_count": 22,
      "outputs": [
        {
          "output_type": "stream",
          "name": "stdout",
          "text": [
            "+--------------------+--------------+-----+\n",
            "|          Steam_Game|Behaviour_Name|count|\n",
            "+--------------------+--------------+-----+\n",
            "|              Dota 2|          play| 4841|\n",
            "|     Team Fortress 2|          play| 2323|\n",
            "|Counter-Strike Gl...|          play| 1377|\n",
            "|            Unturned|          play| 1069|\n",
            "|       Left 4 Dead 2|          play|  801|\n",
            "|Counter-Strike So...|          play|  715|\n",
            "|The Elder Scrolls...|          play|  677|\n",
            "|         Garry's Mod|          play|  666|\n",
            "|      Counter-Strike|          play|  568|\n",
            "|Sid Meier's Civil...|          play|  554|\n",
            "|            Terraria|          play|  460|\n",
            "|            Portal 2|          play|  453|\n",
            "|            Warframe|          play|  424|\n",
            "|              Portal|          play|  417|\n",
            "|           Robocraft|          play|  407|\n",
            "|            PAYDAY 2|          play|  390|\n",
            "|       Borderlands 2|          play|  386|\n",
            "|         Half-Life 2|          play|  356|\n",
            "|   Heroes & Generals|          play|  335|\n",
            "|         War Thunder|          play|  303|\n",
            "+--------------------+--------------+-----+\n",
            "only showing top 20 rows\n",
            "\n"
          ]
        }
      ]
    },
    {
      "cell_type": "code",
      "source": [
        "df.show"
      ],
      "metadata": {
        "colab": {
          "base_uri": "https://localhost:8080/"
        },
        "id": "aXiloF0uA3Ic",
        "outputId": "6a57bc5b-f012-4541-a79a-d36b0dbad6a9"
      },
      "execution_count": 23,
      "outputs": [
        {
          "output_type": "execute_result",
          "data": {
            "text/plain": [
              "<bound method DataFrame.show of DataFrame[USER_ID: int, Steam_Game: string, Behaviour_Name: string, Hours_played: float]>"
            ]
          },
          "metadata": {},
          "execution_count": 23
        }
      ]
    },
    {
      "cell_type": "code",
      "source": [
        "dataframes.select(\"Hours_played\").describe().show()"
      ],
      "metadata": {
        "colab": {
          "base_uri": "https://localhost:8080/"
        },
        "id": "s2H_sBwFUSfv",
        "outputId": "a141c3ca-40db-4602-9805-57885faf3e57"
      },
      "execution_count": 24,
      "outputs": [
        {
          "output_type": "stream",
          "name": "stdout",
          "text": [
            "+-------+------------------+\n",
            "|summary|      Hours_played|\n",
            "+-------+------------------+\n",
            "|  count|            200000|\n",
            "|   mean|17.874384000420385|\n",
            "| stddev| 138.0569516508248|\n",
            "|    min|               0.1|\n",
            "|    max|           11754.0|\n",
            "+-------+------------------+\n",
            "\n"
          ]
        }
      ]
    },
    {
      "cell_type": "code",
      "source": [
        "# no_of_rated_anime_per_user = train.groupBy('user_id').agg(F.count('*').alias('Frequency')).orderBy('Frequency',ascending=0)\n",
        "# no_of_rated_anime_per_user.show()"
      ],
      "metadata": {
        "id": "gESZERDrgP83"
      },
      "execution_count": 25,
      "outputs": []
    },
    {
      "cell_type": "markdown",
      "source": [
        "## Outlier Analysis"
      ],
      "metadata": {
        "id": "vO0IFLqMr3yz"
      }
    },
    {
      "cell_type": "code",
      "source": [
        "#Calculate Upper, Lower and InterQuartlie Range\n",
        "def calculate_bounds(df):\n",
        "  c = \"Hours_played\"\n",
        "  bounds = {\n",
        "        c: dict(\n",
        "            zip([\"q1\", \"q3\"], df.approxQuantile(c, [0.25, 0.75], 0))\n",
        "        )\n",
        "      \n",
        "    }\n",
        "  iqr = bounds[c]['q3'] - bounds[c]['q1']\n",
        "  bounds[c]['min'] = bounds[c]['q1'] - (iqr * 1.5)\n",
        "  bounds[c]['max'] = bounds[c]['q3'] + (iqr * 1.5)\n",
        "  return bounds"
      ],
      "metadata": {
        "id": "BzD1v6e_vJY9"
      },
      "execution_count": 26,
      "outputs": []
    },
    {
      "cell_type": "code",
      "source": [
        "#Indicate the presence of Outlier in the specic Column\n",
        "def flag_outliers(df, id_col):\n",
        "  bounds = calculate_bounds(df)\n",
        "  outliers = {}\n",
        "  c = \"Hours_played\"\n",
        "  return df.select(c, id_col,\n",
        "        *[\n",
        "            F.when(\n",
        "                ~F.col(c).between(bounds[c]['min'], bounds[c]['max']),\n",
        "                \"yes\"\n",
        "            ).otherwise(\"no\").alias(c+'_outlier')\n",
        "        ]\n",
        "  )\n",
        "    "
      ],
      "metadata": {
        "id": "oc9dKMvm0K6X"
      },
      "execution_count": 27,
      "outputs": []
    },
    {
      "cell_type": "code",
      "source": [
        "#Columns Containing Outliers\n",
        "outlier_data = flag_outliers(df,'USER_ID')\n",
        "outlier_data.show()"
      ],
      "metadata": {
        "colab": {
          "base_uri": "https://localhost:8080/"
        },
        "id": "ve_LKBSQ8DHO",
        "outputId": "a525d3e1-e937-45c9-f1f5-c5dedda31030"
      },
      "execution_count": 28,
      "outputs": [
        {
          "output_type": "stream",
          "name": "stdout",
          "text": [
            "+------------+---------+--------------------+\n",
            "|Hours_played|  USER_ID|Hours_played_outlier|\n",
            "+------------+---------+--------------------+\n",
            "|        11.2| 53875128|                 yes|\n",
            "|         1.0| 53875128|                  no|\n",
            "|         1.9| 53875128|                  no|\n",
            "|         1.4| 53875128|                  no|\n",
            "|         0.4| 53875128|                 yes|\n",
            "|         1.0|126340495|                  no|\n",
            "|         9.2| 97298878|                 yes|\n",
            "|         0.9| 97298878|                  no|\n",
            "|       211.0| 48845802|                 yes|\n",
            "|         1.0| 62923086|                  no|\n",
            "|        14.6| 65117175|                 yes|\n",
            "|         1.0| 65117175|                  no|\n",
            "|         2.0|236557903|                 yes|\n",
            "|         1.0| 11373749|                  no|\n",
            "|         1.0| 11373749|                  no|\n",
            "|         1.0| 11373749|                  no|\n",
            "|         1.0|264253640|                  no|\n",
            "|         1.0|  5270060|                  no|\n",
            "|         1.0|151229648|                  no|\n",
            "|         1.0| 56038151|                  no|\n",
            "+------------+---------+--------------------+\n",
            "only showing top 20 rows\n",
            "\n"
          ]
        }
      ]
    },
    {
      "cell_type": "code",
      "source": [
        "panda_df= df.toPandas()\n",
        "sns.set()\n",
        "ax = sns.boxplot(x=panda_df['Hours_played'])"
      ],
      "metadata": {
        "id": "em8qBoo50crm",
        "colab": {
          "base_uri": "https://localhost:8080/",
          "height": 285
        },
        "outputId": "eadd9e74-1dd8-49cc-bde0-861d45d601ab"
      },
      "execution_count": 29,
      "outputs": [
        {
          "output_type": "display_data",
          "data": {
            "text/plain": [
              "<Figure size 432x288 with 1 Axes>"
            ],
            "image/png": "[encoded data removed]"
          },
          "metadata": {}
        }
      ]
    }
  ],
  "metadata": {
    "colab": {
      "provenance": []
    },
    "kernelspec": {
      "display_name": "Python 3",
      "name": "python3"
    },
    "language_info": {
      "name": "python"
    }
  },
  "nbformat": 4,
  "nbformat_minor": 0
}