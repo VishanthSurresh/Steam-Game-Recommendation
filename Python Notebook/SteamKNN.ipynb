{
  "cells": [
    {
      "cell_type": "markdown",
      "source": [
        "Library Installations"
      ],
      "metadata": {
        "id": "Ohtw7vS8RcuW"
      }
    },
    {
      "cell_type": "code",
      "execution_count": 1,
      "metadata": {
        "colab": {
          "base_uri": "https://localhost:8080/"
        },
        "id": "U0AKCZFVXmQ-",
        "outputId": "d8dc5c91-552c-4af1-f152-0d692fa5268a"
      },
      "outputs": [
        {
          "output_type": "stream",
          "name": "stdout",
          "text": [
            "Looking in indexes: https://pypi.org/simple, https://us-python.pkg.dev/colab-wheels/public/simple/\n",
            "Collecting pyspark\n",
            "  Downloading pyspark-3.3.2.tar.gz (281.4 MB)\n",
            "\u001b[2K     \u001b[90m━━━━━━━━━━━━━━━━━━━━━━━━━━━━━━━━━━━━━━━\u001b[0m \u001b[32m281.4/281.4 MB\u001b[0m \u001b[31m3.8 MB/s\u001b[0m eta \u001b[36m0:00:00\u001b[0m\n",
            "\u001b[?25h  Preparing metadata (setup.py) ... \u001b[?25l\u001b[?25hdone\n",
            "Collecting py4j==0.10.9.5\n",
            "  Downloading py4j-0.10.9.5-py2.py3-none-any.whl (199 kB)\n",
            "\u001b[2K     \u001b[90m━━━━━━━━━━━━━━━━━━━━━━━━━━━━━━━━━━━━━━\u001b[0m \u001b[32m199.7/199.7 kB\u001b[0m \u001b[31m12.2 MB/s\u001b[0m eta \u001b[36m0:00:00\u001b[0m\n",
            "\u001b[?25hBuilding wheels for collected packages: pyspark\n",
            "  Building wheel for pyspark (setup.py) ... \u001b[?25l\u001b[?25hdone\n",
            "  Created wheel for pyspark: filename=pyspark-3.3.2-py2.py3-none-any.whl size=281824028 sha256=b9cd8006be641629c9ae905c0e93ca7b9827063be2f5690c908988eb7f65c10b\n",
            "  Stored in directory: /root/.cache/pip/wheels/6c/e3/9b/0525ce8a69478916513509d43693511463c6468db0de237c86\n",
            "Successfully built pyspark\n",
            "Installing collected packages: py4j, pyspark\n",
            "  Attempting uninstall: py4j\n",
            "    Found existing installation: py4j 0.10.9.7\n",
            "    Uninstalling py4j-0.10.9.7:\n",
            "      Successfully uninstalled py4j-0.10.9.7\n",
            "Successfully installed py4j-0.10.9.5 pyspark-3.3.2\n"
          ]
        }
      ],
      "source": [
        "pip install pyspark"
      ]
    },
    {
      "cell_type": "code",
      "execution_count": 2,
      "metadata": {
        "id": "SJmNUs9zXrJe",
        "colab": {
          "base_uri": "https://localhost:8080/"
        },
        "outputId": "82068819-c54f-4835-a276-e231d3e3d71d"
      },
      "outputs": [
        {
          "output_type": "stream",
          "name": "stdout",
          "text": [
            "Mounted at /content/drive\n"
          ]
        }
      ],
      "source": [
        "from google.colab import drive\n",
        "drive.mount('/content/drive')"
      ]
    },
    {
      "cell_type": "code",
      "execution_count": 3,
      "metadata": {
        "id": "xJZx_YuKXsw3"
      },
      "outputs": [],
      "source": [
        "import pandas as pd\n",
        "import io\n",
        "import matplotlib.pyplot as plt\n",
        "\n",
        "from pyspark.rdd import RDD\n",
        "from pyspark.sql import Row\n",
        "from pyspark.sql import DataFrame\n",
        "from pyspark.sql import SparkSession\n",
        "from pyspark.sql.functions import lit\n",
        "from pyspark.sql.functions import desc\n",
        "from pyspark.ml.evaluation import RegressionEvaluator\n",
        "from pyspark.ml.recommendation import ALS\n",
        "from pyspark.sql.functions import sum,avg,max,min,mean,count,sqrt\n",
        "from pyspark.sql.functions import col,when\n",
        "from pyspark.sql import functions as F \n",
        "from pyspark.sql.functions import col,isnan, when, count\n",
        "from pyspark.ml.evaluation import RegressionEvaluator\n",
        "import seaborn as sns"
      ]
    },
    {
      "cell_type": "markdown",
      "source": [
        "Spark Session Initialization"
      ],
      "metadata": {
        "id": "szJVRXg8Ri13"
      }
    },
    {
      "cell_type": "code",
      "execution_count": 4,
      "metadata": {
        "id": "aFwM-aHGXvAC"
      },
      "outputs": [],
      "source": [
        "#Initialize a spark session.\n",
        "def spark_intialization():\n",
        "    spark = SparkSession \\\n",
        "        .builder \\\n",
        "        .appName(\"Pyspark Project\") \\\n",
        "        .config(\"spark.some.config.option\", \"some-value\") \\\n",
        "        .getOrCreate()\n",
        "    return spark"
      ]
    },
    {
      "cell_type": "code",
      "execution_count": 5,
      "metadata": {
        "id": "AKg84VrJXx0f",
        "colab": {
          "base_uri": "https://localhost:8080/",
          "height": 222
        },
        "outputId": "262ceb06-6604-4311-97cb-868b3663cb15"
      },
      "outputs": [
        {
          "output_type": "execute_result",
          "data": {
            "text/plain": [
              "<pyspark.sql.session.SparkSession at 0x7f85065c53a0>"
            ],
            "text/html": [
              "\n",
              "            <div>\n",
              "                <p><b>SparkSession - in-memory</b></p>\n",
              "                \n",
              "        <div>\n",
              "            <p><b>SparkContext</b></p>\n",
              "\n",
              "            <p><a href=\"http://366af0bb9869:4040\">Spark UI</a></p>\n",
              "\n",
              "            <dl>\n",
              "              <dt>Version</dt>\n",
              "                <dd><code>v3.3.2</code></dd>\n",
              "              <dt>Master</dt>\n",
              "                <dd><code>local[*]</code></dd>\n",
              "              <dt>AppName</dt>\n",
              "                <dd><code>Pyspark Project</code></dd>\n",
              "            </dl>\n",
              "        </div>\n",
              "        \n",
              "            </div>\n",
              "        "
            ]
          },
          "metadata": {},
          "execution_count": 5
        }
      ],
      "source": [
        "# Initialise spark object\n",
        "spark = spark_intialization()\n",
        "spark"
      ]
    },
    {
      "cell_type": "markdown",
      "source": [
        "Data Preprocessing"
      ],
      "metadata": {
        "id": "2t2HtWDMR2a8"
      }
    },
    {
      "cell_type": "code",
      "execution_count": 6,
      "metadata": {
        "colab": {
          "base_uri": "https://localhost:8080/"
        },
        "id": "91oFJxnUXz3Q",
        "outputId": "3918b21a-f60c-4a11-a435-2eee2de6ba35"
      },
      "outputs": [
        {
          "output_type": "stream",
          "name": "stdout",
          "text": [
            "+---------+--------------------+--------------+------------+\n",
            "|  USER_ID|          Steam_Game|Behaviour_Name|Hours_played|\n",
            "+---------+--------------------+--------------+------------+\n",
            "|151603712|The Elder Scrolls...|      purchase|         1.0|\n",
            "|151603712|The Elder Scrolls...|          play|       273.0|\n",
            "|151603712|           Fallout 4|      purchase|         1.0|\n",
            "|151603712|           Fallout 4|          play|        87.0|\n",
            "|151603712|               Spore|      purchase|         1.0|\n",
            "|151603712|               Spore|          play|        14.9|\n",
            "|151603712|   Fallout New Vegas|      purchase|         1.0|\n",
            "|151603712|   Fallout New Vegas|          play|        12.1|\n",
            "|151603712|       Left 4 Dead 2|      purchase|         1.0|\n",
            "|151603712|       Left 4 Dead 2|          play|         8.9|\n",
            "+---------+--------------------+--------------+------------+\n",
            "only showing top 10 rows\n",
            "\n"
          ]
        }
      ],
      "source": [
        "from pyspark.sql import functions as pyspark_functions\n",
        "from pyspark.sql.types import *\n",
        "schema = StructType([ \\\n",
        "                     StructField(\"USER_ID\", IntegerType(), True), \\\n",
        "                     StructField(\"Steam_Game\", StringType(), True),\\\n",
        "                     StructField(\"Behaviour_Name\", StringType(), True),\\\n",
        "                    StructField(\"Hours_played\", FloatType(), True)])\n",
        "dataframes = spark.read.schema(schema).csv(\"/content/drive/MyDrive/GOOGLE_COLAB/BigData/steam-200k.csv\", header=False)\n",
        "dataframes.show(10)"
      ]
    },
    {
      "cell_type": "markdown",
      "source": [
        "Renaming the columns and Dropping the unnecessary columns"
      ],
      "metadata": {
        "id": "B-LMrDhDR5QC"
      }
    },
    {
      "cell_type": "code",
      "execution_count": 7,
      "metadata": {
        "colab": {
          "base_uri": "https://localhost:8080/"
        },
        "id": "OrLTentwX1_E",
        "outputId": "9bdba48d-84fe-45a4-fe50-7943f475d57e"
      },
      "outputs": [
        {
          "output_type": "stream",
          "name": "stdout",
          "text": [
            "+---------+--------------------+--------------+------------+\n",
            "|  USER_ID|          Steam_Game|Behaviour_Name|Hours_played|\n",
            "+---------+--------------------+--------------+------------+\n",
            "|151603712|The Elder Scrolls...|      purchase|         1.0|\n",
            "|151603712|The Elder Scrolls...|          play|       273.0|\n",
            "|151603712|           Fallout 4|      purchase|         1.0|\n",
            "|151603712|           Fallout 4|          play|        87.0|\n",
            "|151603712|               Spore|      purchase|         1.0|\n",
            "|151603712|               Spore|          play|        14.9|\n",
            "|151603712|   Fallout New Vegas|      purchase|         1.0|\n",
            "|151603712|   Fallout New Vegas|          play|        12.1|\n",
            "|151603712|       Left 4 Dead 2|      purchase|         1.0|\n",
            "|151603712|       Left 4 Dead 2|          play|         8.9|\n",
            "+---------+--------------------+--------------+------------+\n",
            "only showing top 10 rows\n",
            "\n"
          ]
        }
      ],
      "source": [
        "dataframes = dataframes.withColumnRenamed(\"_c0\",\"USER_ID\").withColumnRenamed(\"_c1\",\"Steam_Game\").withColumnRenamed(\"_c2\",\"Behaviour_Name\").withColumnRenamed(\"_c3\",\"Hours_played\")\n",
        "dataframes = dataframes.drop(\"_c4\")\n",
        "dataframes.show(10)"
      ]
    },
    {
      "cell_type": "markdown",
      "source": [
        "New Feature Generation usnig Lag functions"
      ],
      "metadata": {
        "id": "dI8U7-gCSEJ3"
      }
    },
    {
      "cell_type": "code",
      "execution_count": 8,
      "metadata": {
        "colab": {
          "base_uri": "https://localhost:8080/"
        },
        "id": "OsKkJS90X5Kg",
        "outputId": "2ed69df7-21c7-4757-d52a-14d65fdec88b"
      },
      "outputs": [
        {
          "output_type": "stream",
          "name": "stdout",
          "text": [
            "+-------+--------------------+--------------+------------+----------+-----------+\n",
            "|USER_ID|          Steam_Game|Behaviour_Name|Hours_played|prev_value|new_feature|\n",
            "+-------+--------------------+--------------+------------+----------+-----------+\n",
            "|   5250|     Cities Skylines|          play|       144.0|  purchase|          2|\n",
            "|   5250|Deus Ex Human Rev...|          play|        62.0|  purchase|          2|\n",
            "|   5250|            Portal 2|          play|        13.6|  purchase|          2|\n",
            "|   5250|         Alien Swarm|          play|         4.9|  purchase|          2|\n",
            "|   5250|     Team Fortress 2|          play|         0.8|  purchase|          2|\n",
            "|   5250|              Dota 2|          play|         0.2|  purchase|          2|\n",
            "|   5250|Counter-Strike So...|      purchase|         1.0|  purchase|          1|\n",
            "|   5250|       Day of Defeat|      purchase|         1.0|  purchase|          1|\n",
            "|   5250|  Deathmatch Classic|      purchase|         1.0|  purchase|          1|\n",
            "|   5250|           Half-Life|      purchase|         1.0|  purchase|          1|\n",
            "|   5250|         Half-Life 2|      purchase|         1.0|  purchase|          1|\n",
            "|   5250|Half-Life 2 Death...|      purchase|         1.0|  purchase|          1|\n",
            "|   5250|Half-Life 2 Episo...|      purchase|         1.0|  purchase|          1|\n",
            "|   5250|Half-Life 2 Episo...|      purchase|         1.0|  purchase|          1|\n",
            "|   5250|Half-Life 2 Lost ...|      purchase|         1.0|  purchase|          1|\n",
            "|   5250|Half-Life Blue Shift|      purchase|         1.0|  purchase|          1|\n",
            "|   5250|Half-Life Opposin...|      purchase|         1.0|  purchase|          1|\n",
            "|   5250|              Portal|      purchase|         1.0|  purchase|          1|\n",
            "|   5250|            Ricochet|      purchase|         1.0|  purchase|          1|\n",
            "|   5250|Team Fortress Cla...|      purchase|         1.0|  purchase|          1|\n",
            "|  76767|      Counter-Strike|      purchase|         1.0|  purchase|          1|\n",
            "|  76767|      Counter-Strike|          play|       365.0|  purchase|          2|\n",
            "|  76767|Call of Duty Worl...|          play|       271.0|  purchase|          2|\n",
            "|  76767|    Total War ATTILA|          play|       207.0|  purchase|          2|\n",
            "|  76767|Call of Duty Mode...|          play|       165.0|  purchase|          2|\n",
            "|  76767|Call of Duty Mode...|          play|        65.0|  purchase|          2|\n",
            "|  76767|Counter-Strike So...|          play|        25.0|  purchase|          2|\n",
            "|  76767|            Banished|          play|        24.0|  purchase|          2|\n",
            "|  76767|Call of Duty Blac...|          play|        22.0|  purchase|          2|\n",
            "|  76767|Call of Duty Mode...|          play|        15.9|  purchase|          2|\n",
            "|  76767|            Portal 2|          play|        15.0|  purchase|          2|\n",
            "|  76767|Age of Empires II...|          play|        13.1|  purchase|          2|\n",
            "|  76767|Call of Duty Blac...|          play|        12.5|  purchase|          2|\n",
            "|  76767|Call of Duty Mode...|          play|         9.7|  purchase|          2|\n",
            "|  76767|Rise of Nations E...|          play|         5.7|  purchase|          2|\n",
            "|  76767|Counter-Strike Gl...|          play|         3.5|  purchase|          2|\n",
            "|  76767|Thief Deadly Shadows|          play|         3.4|  purchase|          2|\n",
            "|  76767| The Stanley Parable|          play|         1.8|  purchase|          2|\n",
            "|  76767|           Half-Life|          play|         1.2|  purchase|          2|\n",
            "|  76767|         Alien Swarm|          play|         0.8|  purchase|          2|\n",
            "|  76767|    Worms Armageddon|          play|         0.4|  purchase|          2|\n",
            "|  76767|Arma 2 Operation ...|      purchase|         1.0|  purchase|          1|\n",
            "|  76767|Arma 2 Operation ...|      purchase|         1.0|  purchase|          1|\n",
            "|  76767|       Day of Defeat|      purchase|         1.0|  purchase|          1|\n",
            "|  76767|  Deathmatch Classic|      purchase|         1.0|  purchase|          1|\n",
            "|  76767|Half-Life Blue Shift|      purchase|         1.0|  purchase|          1|\n",
            "|  76767|Half-Life Opposin...|      purchase|         1.0|  purchase|          1|\n",
            "|  76767|            Ricochet|      purchase|         1.0|  purchase|          1|\n",
            "|  76767|Team Fortress Cla...|      purchase|         1.0|  purchase|          1|\n",
            "|  76767|               Thief|      purchase|         1.0|  purchase|          1|\n",
            "+-------+--------------------+--------------+------------+----------+-----------+\n",
            "only showing top 50 rows\n",
            "\n"
          ]
        }
      ],
      "source": [
        "from pyspark.sql.window import Window\n",
        "from pyspark.sql.functions import col, when, lag, sum\n",
        "\n",
        "window_spec = Window.orderBy('USER_ID')\n",
        "\n",
        "data_with_prev_value = dataframes.withColumn('prev_value', lag(col('Behaviour_Name')).over(window_spec))\n",
        "\n",
        "combined_data = data_with_prev_value.withColumn('new_feature', when((col('prev_value') == 'purchase') & (col('Behaviour_Name') == 'play'), 2).otherwise(1))\n",
        "\n",
        "grouped1 = combined_data.filter(((col('prev_value') == 'purchase') & (col('Behaviour_Name') == 'play')) | \\\n",
        "                                        ((col('prev_value') == 'purchase') & (col('Behaviour_Name') == 'purchase')) |\\\n",
        "                                        # ((col('prev_value') == 'null') & (col('Behaviour_Name') == 'purchase')) |\\\n",
        "                                  (col('prev_value') == 'play') & (col('Behaviour_Name') == 'play'));\n",
        "\n",
        "\n",
        "grouped1.show(50)"
      ]
    },
    {
      "cell_type": "markdown",
      "source": [
        "New Feature Generation [Mean_Hourplayed] to derive Ratings"
      ],
      "metadata": {
        "id": "CyVWAEyKSMYD"
      }
    },
    {
      "cell_type": "code",
      "execution_count": 10,
      "metadata": {
        "colab": {
          "base_uri": "https://localhost:8080/"
        },
        "id": "vMzSupAZYBVv",
        "outputId": "d4a2abc2-be12-450e-e532-b63c9f6959f0"
      },
      "outputs": [
        {
          "output_type": "stream",
          "name": "stdout",
          "text": [
            "+--------------------+-------+--------------+------------+----------+-----------+------------------+\n",
            "|          Steam_Game|USER_ID|Behaviour_Name|Hours_played|prev_value|new_feature|   mean_Hourplayed|\n",
            "+--------------------+-------+--------------+------------+----------+-----------+------------------+\n",
            "|     Cities Skylines|   5250|          play|       144.0|  purchase|          2| 24.74000000804663|\n",
            "|Deus Ex Human Rev...|   5250|          play|        62.0|  purchase|          2|22.032926833393372|\n",
            "|            Portal 2|   5250|          play|        13.6|  purchase|          2|16.639169672806663|\n",
            "|         Alien Swarm|   5250|          play|         4.9|  purchase|          2| 4.973856203331082|\n",
            "|     Team Fortress 2|   5250|          play|         0.8|  purchase|          2|62.814682541611305|\n",
            "|              Dota 2|   5250|          play|         0.2|  purchase|          2| 151.2374038764504|\n",
            "|Counter-Strike So...|   5250|      purchase|         1.0|  purchase|          1| 84.06663762899407|\n",
            "|       Day of Defeat|   5250|      purchase|         1.0|  purchase|          1| 3.686965814497099|\n",
            "|  Deathmatch Classic|   5250|      purchase|         1.0|  purchase|          1|0.9834331344820544|\n",
            "|           Half-Life|   5250|      purchase|         1.0|  purchase|          1| 2.446052636578679|\n",
            "|         Half-Life 2|   5250|      purchase|         1.0|  purchase|          1|  7.06257763759505|\n",
            "|Half-Life 2 Death...|   5250|      purchase|         1.0|  purchase|          1| 5.535354843947196|\n",
            "|Half-Life 2 Episo...|   5250|      purchase|         1.0|  purchase|          1|2.7886889474634033|\n",
            "|Half-Life 2 Episo...|   5250|      purchase|         1.0|  purchase|          1|3.7124653733503123|\n",
            "|Half-Life 2 Lost ...|   5250|      purchase|         1.0|  purchase|          1|1.0078975457773647|\n",
            "|Half-Life Blue Shift|   5250|      purchase|         1.0|  purchase|          1|1.1504155104138845|\n",
            "|Half-Life Opposin...|   5250|      purchase|         1.0|  purchase|          1| 1.357458567010105|\n",
            "|              Portal|   5250|      purchase|         1.0|  purchase|          1| 4.222452510437817|\n",
            "|            Ricochet|   5250|      purchase|         1.0|  purchase|          1|1.0003968264375414|\n",
            "|Team Fortress Cla...|   5250|      purchase|         1.0|  purchase|          1|0.9909589039544536|\n",
            "+--------------------+-------+--------------+------------+----------+-----------+------------------+\n",
            "only showing top 20 rows\n",
            "\n"
          ]
        }
      ],
      "source": [
        "average = grouped1.groupBy(\"Steam_Game\") \\\n",
        "            .agg(mean(\"Hours_played\").alias(\"mean_Hourplayed\")) \\\n",
        "             .select(\"Steam_Game\", \"mean_Hourplayed\")\n",
        "grouped = grouped1.join(average, on=\"Steam_Game\", how=\"inner\")\n",
        "grouped.show(20)"
      ]
    },
    {
      "cell_type": "markdown",
      "source": [
        "New Feature Generation - Ratings based on Hours_played and new_feature"
      ],
      "metadata": {
        "id": "cMbM5F1qST-9"
      }
    },
    {
      "cell_type": "code",
      "execution_count": 12,
      "metadata": {
        "colab": {
          "base_uri": "https://localhost:8080/"
        },
        "id": "Uv2jBK5nYtQE",
        "outputId": "033fb190-4e88-4137-9e3d-676b57a6d226"
      },
      "outputs": [
        {
          "output_type": "stream",
          "name": "stdout",
          "text": [
            "+--------------------+-------+--------------+------------+----------+-----------+------------------+------+\n",
            "|          Steam_Game|USER_ID|Behaviour_Name|Hours_played|prev_value|new_feature|   mean_Hourplayed|rating|\n",
            "+--------------------+-------+--------------+------------+----------+-----------+------------------+------+\n",
            "|     Cities Skylines|   5250|          play|       144.0|  purchase|          2| 24.74000000804663|     5|\n",
            "|Deus Ex Human Rev...|   5250|          play|        62.0|  purchase|          2|22.032926833393372|     5|\n",
            "|            Portal 2|   5250|          play|        13.6|  purchase|          2|16.639169672806663|     3|\n",
            "|         Alien Swarm|   5250|          play|         4.9|  purchase|          2| 4.973856203331082|     3|\n",
            "|     Team Fortress 2|   5250|          play|         0.8|  purchase|          2|62.814682541611305|     0|\n",
            "|              Dota 2|   5250|          play|         0.2|  purchase|          2| 151.2374038764504|     0|\n",
            "|Counter-Strike So...|   5250|      purchase|         1.0|  purchase|          1| 84.06663762899407|     0|\n",
            "|       Day of Defeat|   5250|      purchase|         1.0|  purchase|          1| 3.686965814497099|     2|\n",
            "|  Deathmatch Classic|   5250|      purchase|         1.0|  purchase|          1|0.9834331344820544|     5|\n",
            "|           Half-Life|   5250|      purchase|         1.0|  purchase|          1| 2.446052636578679|     3|\n",
            "|         Half-Life 2|   5250|      purchase|         1.0|  purchase|          1|  7.06257763759505|     2|\n",
            "|Half-Life 2 Death...|   5250|      purchase|         1.0|  purchase|          1| 5.535354843947196|     2|\n",
            "|Half-Life 2 Episo...|   5250|      purchase|         1.0|  purchase|          1|2.7886889474634033|     2|\n",
            "|Half-Life 2 Episo...|   5250|      purchase|         1.0|  purchase|          1|3.7124653733503123|     2|\n",
            "|Half-Life 2 Lost ...|   5250|      purchase|         1.0|  purchase|          1|1.0078975457773647|     5|\n",
            "|Half-Life Blue Shift|   5250|      purchase|         1.0|  purchase|          1|1.1504155104138845|     4|\n",
            "|Half-Life Opposin...|   5250|      purchase|         1.0|  purchase|          1| 1.357458567010105|     4|\n",
            "|              Portal|   5250|      purchase|         1.0|  purchase|          1| 4.222452510437817|     2|\n",
            "|            Ricochet|   5250|      purchase|         1.0|  purchase|          1|1.0003968264375414|     5|\n",
            "|Team Fortress Cla...|   5250|      purchase|         1.0|  purchase|          1|0.9909589039544536|     5|\n",
            "+--------------------+-------+--------------+------------+----------+-----------+------------------+------+\n",
            "only showing top 20 rows\n",
            "\n"
          ]
        }
      ],
      "source": [
        "from pyspark.sql.functions import when\n",
        "newfeature2 = grouped.withColumn(\"rating\", \n",
        "                  when(grouped[\"Hours_played\"] == 1.0 * grouped[\"mean_Hourplayed\"] * grouped[\"new_feature\"], 1)\n",
        "                  .when(grouped[\"Hours_played\"] >= 0.9 * grouped[\"mean_Hourplayed\"] * grouped[\"new_feature\"], 5)\n",
        "                   .when((grouped[\"Hours_played\"] >= 0.7 * grouped[\"mean_Hourplayed\"] * grouped[\"new_feature\"]) & (grouped[\"Hours_played\"] < 0.9 * grouped[\"mean_Hourplayed\"]*grouped[\"new_feature\"]), 4)\n",
        "                   .when((grouped[\"Hours_played\"] >= 0.4 * grouped[\"mean_Hourplayed\"] * grouped[\"new_feature\"]) & (grouped[\"Hours_played\"] < 0.7 * grouped[\"mean_Hourplayed\"]*grouped[\"new_feature\"]), 3)\n",
        "                   .when((grouped[\"Hours_played\"] >= 0.1 * grouped[\"mean_Hourplayed\"] * grouped[\"new_feature\"]) & (grouped[\"Hours_played\"] < 0.4 * grouped[\"mean_Hourplayed\"]*grouped[\"new_feature\"]), 2)\n",
        "                   .otherwise(0))\n",
        "newfeature2.show()"
      ]
    },
    {
      "cell_type": "markdown",
      "source": [
        "Converting to Pandas Dataframe"
      ],
      "metadata": {
        "id": "TFnujRlqSd-0"
      }
    },
    {
      "cell_type": "code",
      "execution_count": 13,
      "metadata": {
        "id": "G5c2F7wyAs09"
      },
      "outputs": [],
      "source": [
        "pandasdf = newfeature2.toPandas()"
      ]
    },
    {
      "cell_type": "markdown",
      "source": [
        "Converting String Categorical values to numerical categories using Cat Codes in Pandas Dataframe"
      ],
      "metadata": {
        "id": "wN9ARUdkSr04"
      }
    },
    {
      "cell_type": "code",
      "execution_count": 14,
      "metadata": {
        "colab": {
          "base_uri": "https://localhost:8080/",
          "height": 423
        },
        "id": "PaW3iyu4AyqH",
        "outputId": "29f6d2ce-c9bd-4473-ccc8-2f5f1052df9b"
      },
      "outputs": [
        {
          "output_type": "execute_result",
          "data": {
            "text/plain": [
              "                          Steam_Game    USER_ID Behaviour_Name  Hours_played  \\\n",
              "0                    Cities Skylines       5250           play         144.0   \n",
              "1           Deus Ex Human Revolution       5250           play          62.0   \n",
              "2                           Portal 2       5250           play          13.6   \n",
              "3                        Alien Swarm       5250           play           4.9   \n",
              "4                    Team Fortress 2       5250           play           0.8   \n",
              "...                              ...        ...            ...           ...   \n",
              "129506  Age of Empires II HD Edition  309626088           play           6.7   \n",
              "129507                     Robocraft  309812026       purchase           1.0   \n",
              "129508                        Dota 2  309824202       purchase           1.0   \n",
              "129509                        Dota 2  309824202           play           0.7   \n",
              "129510                        Dota 2  309903146           play           0.2   \n",
              "\n",
              "       prev_value  new_feature  mean_Hourplayed  rating  GAME_ID  \n",
              "0        purchase            2        24.740000       5      850  \n",
              "1        purchase            2        22.032927       5     1243  \n",
              "2        purchase            2        16.639170       3     3207  \n",
              "3        purchase            2         4.973856       3      227  \n",
              "4        purchase            2        62.814683       0     4237  \n",
              "...           ...          ...              ...     ...      ...  \n",
              "129506   purchase            2        29.094937       2      174  \n",
              "129507   purchase            1        14.047447       0     3543  \n",
              "129508   purchase            1       151.237404       0     1331  \n",
              "129509   purchase            2       151.237404       0     1331  \n",
              "129510   purchase            2       151.237404       0     1331  \n",
              "\n",
              "[129511 rows x 9 columns]"
            ],
            "text/html": [
              "\n",
              "  <div id=\"df-96f4e908-c4c8-4ba6-9a14-74c57b8d663f\">\n",
              "    <div class=\"colab-df-container\">\n",
              "      <div>\n",
              "<style scoped>\n",
              "    .dataframe tbody tr th:only-of-type {\n",
              "        vertical-align: middle;\n",
              "    }\n",
              "\n",
              "    .dataframe tbody tr th {\n",
              "        vertical-align: top;\n",
              "    }\n",
              "\n",
              "    .dataframe thead th {\n",
              "        text-align: right;\n",
              "    }\n",
              "</style>\n",
              "<table border=\"1\" class=\"dataframe\">\n",
              "  <thead>\n",
              "    <tr style=\"text-align: right;\">\n",
              "      <th></th>\n",
              "      <th>Steam_Game</th>\n",
              "      <th>USER_ID</th>\n",
              "      <th>Behaviour_Name</th>\n",
              "      <th>Hours_played</th>\n",
              "      <th>prev_value</th>\n",
              "      <th>new_feature</th>\n",
              "      <th>mean_Hourplayed</th>\n",
              "      <th>rating</th>\n",
              "      <th>GAME_ID</th>\n",
              "    </tr>\n",
              "  </thead>\n",
              "  <tbody>\n",
              "    <tr>\n",
              "      <th>0</th>\n",
              "      <td>Cities Skylines</td>\n",
              "      <td>5250</td>\n",
              "      <td>play</td>\n",
              "      <td>144.0</td>\n",
              "      <td>purchase</td>\n",
              "      <td>2</td>\n",
              "      <td>24.740000</td>\n",
              "      <td>5</td>\n",
              "      <td>850</td>\n",
              "    </tr>\n",
              "    <tr>\n",
              "      <th>1</th>\n",
              "      <td>Deus Ex Human Revolution</td>\n",
              "      <td>5250</td>\n",
              "      <td>play</td>\n",
              "      <td>62.0</td>\n",
              "      <td>purchase</td>\n",
              "      <td>2</td>\n",
              "      <td>22.032927</td>\n",
              "      <td>5</td>\n",
              "      <td>1243</td>\n",
              "    </tr>\n",
              "    <tr>\n",
              "      <th>2</th>\n",
              "      <td>Portal 2</td>\n",
              "      <td>5250</td>\n",
              "      <td>play</td>\n",
              "      <td>13.6</td>\n",
              "      <td>purchase</td>\n",
              "      <td>2</td>\n",
              "      <td>16.639170</td>\n",
              "      <td>3</td>\n",
              "      <td>3207</td>\n",
              "    </tr>\n",
              "    <tr>\n",
              "      <th>3</th>\n",
              "      <td>Alien Swarm</td>\n",
              "      <td>5250</td>\n",
              "      <td>play</td>\n",
              "      <td>4.9</td>\n",
              "      <td>purchase</td>\n",
              "      <td>2</td>\n",
              "      <td>4.973856</td>\n",
              "      <td>3</td>\n",
              "      <td>227</td>\n",
              "    </tr>\n",
              "    <tr>\n",
              "      <th>4</th>\n",
              "      <td>Team Fortress 2</td>\n",
              "      <td>5250</td>\n",
              "      <td>play</td>\n",
              "      <td>0.8</td>\n",
              "      <td>purchase</td>\n",
              "      <td>2</td>\n",
              "      <td>62.814683</td>\n",
              "      <td>0</td>\n",
              "      <td>4237</td>\n",
              "    </tr>\n",
              "    <tr>\n",
              "      <th>...</th>\n",
              "      <td>...</td>\n",
              "      <td>...</td>\n",
              "      <td>...</td>\n",
              "      <td>...</td>\n",
              "      <td>...</td>\n",
              "      <td>...</td>\n",
              "      <td>...</td>\n",
              "      <td>...</td>\n",
              "      <td>...</td>\n",
              "    </tr>\n",
              "    <tr>\n",
              "      <th>129506</th>\n",
              "      <td>Age of Empires II HD Edition</td>\n",
              "      <td>309626088</td>\n",
              "      <td>play</td>\n",
              "      <td>6.7</td>\n",
              "      <td>purchase</td>\n",
              "      <td>2</td>\n",
              "      <td>29.094937</td>\n",
              "      <td>2</td>\n",
              "      <td>174</td>\n",
              "    </tr>\n",
              "    <tr>\n",
              "      <th>129507</th>\n",
              "      <td>Robocraft</td>\n",
              "      <td>309812026</td>\n",
              "      <td>purchase</td>\n",
              "      <td>1.0</td>\n",
              "      <td>purchase</td>\n",
              "      <td>1</td>\n",
              "      <td>14.047447</td>\n",
              "      <td>0</td>\n",
              "      <td>3543</td>\n",
              "    </tr>\n",
              "    <tr>\n",
              "      <th>129508</th>\n",
              "      <td>Dota 2</td>\n",
              "      <td>309824202</td>\n",
              "      <td>purchase</td>\n",
              "      <td>1.0</td>\n",
              "      <td>purchase</td>\n",
              "      <td>1</td>\n",
              "      <td>151.237404</td>\n",
              "      <td>0</td>\n",
              "      <td>1331</td>\n",
              "    </tr>\n",
              "    <tr>\n",
              "      <th>129509</th>\n",
              "      <td>Dota 2</td>\n",
              "      <td>309824202</td>\n",
              "      <td>play</td>\n",
              "      <td>0.7</td>\n",
              "      <td>purchase</td>\n",
              "      <td>2</td>\n",
              "      <td>151.237404</td>\n",
              "      <td>0</td>\n",
              "      <td>1331</td>\n",
              "    </tr>\n",
              "    <tr>\n",
              "      <th>129510</th>\n",
              "      <td>Dota 2</td>\n",
              "      <td>309903146</td>\n",
              "      <td>play</td>\n",
              "      <td>0.2</td>\n",
              "      <td>purchase</td>\n",
              "      <td>2</td>\n",
              "      <td>151.237404</td>\n",
              "      <td>0</td>\n",
              "      <td>1331</td>\n",
              "    </tr>\n",
              "  </tbody>\n",
              "</table>\n",
              "<p>129511 rows × 9 columns</p>\n",
              "</div>\n",
              "      <button class=\"colab-df-convert\" onclick=\"convertToInteractive('df-96f4e908-c4c8-4ba6-9a14-74c57b8d663f')\"\n",
              "              title=\"Convert this dataframe to an interactive table.\"\n",
              "              style=\"display:none;\">\n",
              "        \n",
              "  <svg xmlns=\"http://www.w3.org/2000/svg\" height=\"24px\"viewBox=\"0 0 24 24\"\n",
              "       width=\"24px\">\n",
              "    <path d=\"M0 0h24v24H0V0z\" fill=\"none\"/>\n",
              "    <path d=\"M18.56 5.44l.94 2.06.94-2.06 2.06-.94-2.06-.94-.94-2.06-.94 2.06-2.06.94zm-11 1L8.5 8.5l.94-2.06 2.06-.94-2.06-.94L8.5 2.5l-.94 2.06-2.06.94zm10 10l.94 2.06.94-2.06 2.06-.94-2.06-.94-.94-2.06-.94 2.06-2.06.94z\"/><path d=\"M17.41 7.96l-1.37-1.37c-.4-.4-.92-.59-1.43-.59-.52 0-1.04.2-1.43.59L10.3 9.45l-7.72 7.72c-.78.78-.78 2.05 0 2.83L4 21.41c.39.39.9.59 1.41.59.51 0 1.02-.2 1.41-.59l7.78-7.78 2.81-2.81c.8-.78.8-2.07 0-2.86zM5.41 20L4 18.59l7.72-7.72 1.47 1.35L5.41 20z\"/>\n",
              "  </svg>\n",
              "      </button>\n",
              "      \n",
              "  <style>\n",
              "    .colab-df-container {\n",
              "      display:flex;\n",
              "      flex-wrap:wrap;\n",
              "      gap: 12px;\n",
              "    }\n",
              "\n",
              "    .colab-df-convert {\n",
              "      background-color: #E8F0FE;\n",
              "      border: none;\n",
              "      border-radius: 50%;\n",
              "      cursor: pointer;\n",
              "      display: none;\n",
              "      fill: #1967D2;\n",
              "      height: 32px;\n",
              "      padding: 0 0 0 0;\n",
              "      width: 32px;\n",
              "    }\n",
              "\n",
              "    .colab-df-convert:hover {\n",
              "      background-color: #E2EBFA;\n",
              "      box-shadow: 0px 1px 2px rgba(60, 64, 67, 0.3), 0px 1px 3px 1px rgba(60, 64, 67, 0.15);\n",
              "      fill: #174EA6;\n",
              "    }\n",
              "\n",
              "    [theme=dark] .colab-df-convert {\n",
              "      background-color: #3B4455;\n",
              "      fill: #D2E3FC;\n",
              "    }\n",
              "\n",
              "    [theme=dark] .colab-df-convert:hover {\n",
              "      background-color: #434B5C;\n",
              "      box-shadow: 0px 1px 3px 1px rgba(0, 0, 0, 0.15);\n",
              "      filter: drop-shadow(0px 1px 2px rgba(0, 0, 0, 0.3));\n",
              "      fill: #FFFFFF;\n",
              "    }\n",
              "  </style>\n",
              "\n",
              "      <script>\n",
              "        const buttonEl =\n",
              "          document.querySelector('#df-96f4e908-c4c8-4ba6-9a14-74c57b8d663f button.colab-df-convert');\n",
              "        buttonEl.style.display =\n",
              "          google.colab.kernel.accessAllowed ? 'block' : 'none';\n",
              "\n",
              "        async function convertToInteractive(key) {\n",
              "          const element = document.querySelector('#df-96f4e908-c4c8-4ba6-9a14-74c57b8d663f');\n",
              "          const dataTable =\n",
              "            await google.colab.kernel.invokeFunction('convertToInteractive',\n",
              "                                                     [key], {});\n",
              "          if (!dataTable) return;\n",
              "\n",
              "          const docLinkHtml = 'Like what you see? Visit the ' +\n",
              "            '<a target=\"_blank\" href=https://colab.research.google.com/notebooks/data_table.ipynb>data table notebook</a>'\n",
              "            + ' to learn more about interactive tables.';\n",
              "          element.innerHTML = '';\n",
              "          dataTable['output_type'] = 'display_data';\n",
              "          await google.colab.output.renderOutput(dataTable, element);\n",
              "          const docLink = document.createElement('div');\n",
              "          docLink.innerHTML = docLinkHtml;\n",
              "          element.appendChild(docLink);\n",
              "        }\n",
              "      </script>\n",
              "    </div>\n",
              "  </div>\n",
              "  "
            ]
          },
          "metadata": {},
          "execution_count": 14
        }
      ],
      "source": [
        "pandasdf['Steam_Game'] = pandasdf['Steam_Game'].astype('category')\n",
        "d = dict(enumerate(pandasdf['Steam_Game'].cat.categories))\n",
        "pandasdf['GAME_ID'] = pandasdf['Steam_Game'].cat.codes\n",
        "pandasdf"
      ]
    },
    {
      "cell_type": "markdown",
      "source": [
        "Converting Pandas Dataframe to Spark Dataframe"
      ],
      "metadata": {
        "id": "PEsDqGSkS4jc"
      }
    },
    {
      "cell_type": "code",
      "execution_count": 15,
      "metadata": {
        "id": "yKJn5GkeA31x"
      },
      "outputs": [],
      "source": [
        "newfeature = spark.createDataFrame(pandasdf)"
      ]
    },
    {
      "cell_type": "code",
      "execution_count": 16,
      "metadata": {
        "colab": {
          "base_uri": "https://localhost:8080/"
        },
        "id": "Xghs9Ka9A6EW",
        "outputId": "afda7558-bc9b-4fd8-fd9b-668df4849631"
      },
      "outputs": [
        {
          "output_type": "stream",
          "name": "stdout",
          "text": [
            "+--------------------+-------+--------------+-------------------+----------+-----------+------------------+------+-------+\n",
            "|          Steam_Game|USER_ID|Behaviour_Name|       Hours_played|prev_value|new_feature|   mean_Hourplayed|rating|GAME_ID|\n",
            "+--------------------+-------+--------------+-------------------+----------+-----------+------------------+------+-------+\n",
            "|     Cities Skylines|   5250|          play|              144.0|  purchase|          2| 24.74000000804663|     5|    850|\n",
            "|Deus Ex Human Rev...|   5250|          play|               62.0|  purchase|          2|22.032926833393372|     5|   1243|\n",
            "|            Portal 2|   5250|          play| 13.600000381469727|  purchase|          2|16.639169672806663|     3|   3207|\n",
            "|         Alien Swarm|   5250|          play|  4.900000095367432|  purchase|          2| 4.973856203331082|     3|    227|\n",
            "|     Team Fortress 2|   5250|          play|  0.800000011920929|  purchase|          2|62.814682541611305|     0|   4237|\n",
            "|              Dota 2|   5250|          play|0.20000000298023224|  purchase|          2| 151.2374038764504|     0|   1331|\n",
            "|Counter-Strike So...|   5250|      purchase|                1.0|  purchase|          1| 84.06663762899407|     0|    981|\n",
            "|       Day of Defeat|   5250|      purchase|                1.0|  purchase|          1| 3.686965814497099|     2|   1127|\n",
            "|  Deathmatch Classic|   5250|      purchase|                1.0|  purchase|          1|0.9834331344820544|     5|   1175|\n",
            "|           Half-Life|   5250|      purchase|                1.0|  purchase|          1| 2.446052636578679|     3|   2061|\n",
            "|         Half-Life 2|   5250|      purchase|                1.0|  purchase|          1|  7.06257763759505|     2|   2062|\n",
            "|Half-Life 2 Death...|   5250|      purchase|                1.0|  purchase|          1| 5.535354843947196|     2|   2063|\n",
            "|Half-Life 2 Episo...|   5250|      purchase|                1.0|  purchase|          1|2.7886889474634033|     2|   2064|\n",
            "|Half-Life 2 Episo...|   5250|      purchase|                1.0|  purchase|          1|3.7124653733503123|     2|   2065|\n",
            "|Half-Life 2 Lost ...|   5250|      purchase|                1.0|  purchase|          1|1.0078975457773647|     5|   2066|\n",
            "|Half-Life Blue Shift|   5250|      purchase|                1.0|  purchase|          1|1.1504155104138845|     4|   2068|\n",
            "|Half-Life Opposin...|   5250|      purchase|                1.0|  purchase|          1| 1.357458567010105|     4|   2070|\n",
            "|              Portal|   5250|      purchase|                1.0|  purchase|          1| 4.222452510437817|     2|   3206|\n",
            "|            Ricochet|   5250|      purchase|                1.0|  purchase|          1|1.0003968264375414|     5|   3512|\n",
            "|Team Fortress Cla...|   5250|      purchase|                1.0|  purchase|          1|0.9909589039544536|     5|   4238|\n",
            "+--------------------+-------+--------------+-------------------+----------+-----------+------------------+------+-------+\n",
            "only showing top 20 rows\n",
            "\n"
          ]
        }
      ],
      "source": [
        "newfeature.show()"
      ]
    },
    {
      "cell_type": "markdown",
      "source": [
        "The Function ItemUSerPairs is used to Generate Spark matrix Item for Model input\n",
        "itemID_1 -> [(userId_1, rating_1), (userId_2, rating_2),...]\n",
        "\n",
        "The Function ItemUserInteractions is used to Generate Item,(User,Rating) pairs\n",
        "\n",
        "For users with # interactions > n,to subsample replace their interaction history\n",
        "with a sample of n items_with_rating"
      ],
      "metadata": {
        "id": "a8K4pammTEjS"
      }
    },
    {
      "cell_type": "code",
      "execution_count": 17,
      "metadata": {
        "colab": {
          "base_uri": "https://localhost:8080/"
        },
        "id": "BC1Y0RmwZi96",
        "outputId": "56d9e630-7e6e-4074-f2f2-22cf417b5dcc"
      },
      "outputs": [
        {
          "output_type": "stream",
          "name": "stdout",
          "text": [
            " [Item -> [User,Rating]..] RDD is shown below \n"
          ]
        },
        {
          "output_type": "execute_result",
          "data": {
            "text/plain": [
              "[('Cities Skylines',\n",
              "  [(166604341, 4.0),\n",
              "   (112986636, 5.0),\n",
              "   (112986636, 0.0),\n",
              "   (45974860, 4.0),\n",
              "   (50744279, 2.0),\n",
              "   (163930591, 0.0),\n",
              "   (62705916, 5.0),\n",
              "   (263936784, 2.0),\n",
              "   (142475478, 3.0),\n",
              "   (239413586, 5.0),\n",
              "   (39622853, 2.0),\n",
              "   (8585433, 2.0),\n",
              "   (24366790, 5.0),\n",
              "   (76296787, 3.0),\n",
              "   (68719896, 2.0),\n",
              "   (88035166, 2.0),\n",
              "   (298446224, 3.0),\n",
              "   (23672423, 3.0),\n",
              "   (83975567, 5.0),\n",
              "   (77980915, 4.0),\n",
              "   (29873979, 0.0),\n",
              "   (1936551, 0.0),\n",
              "   (135012938, 0.0),\n",
              "   (9128105, 3.0),\n",
              "   (145825155, 2.0),\n",
              "   (113196318, 5.0),\n",
              "   (10253354, 2.0),\n",
              "   (143877335, 5.0),\n",
              "   (39319649, 0.0),\n",
              "   (163432200, 5.0),\n",
              "   (8259307, 0.0),\n",
              "   (27403206, 2.0),\n",
              "   (53875128, 0.0),\n",
              "   (261857176, 0.0),\n",
              "   (130460859, 5.0),\n",
              "   (27262175, 2.0),\n",
              "   (224751217, 0.0),\n",
              "   (69009454, 3.0),\n",
              "   (50769696, 2.0),\n",
              "   (144071257, 0.0),\n",
              "   (174633348, 0.0),\n",
              "   (77830706, 3.0),\n",
              "   (34919318, 2.0),\n",
              "   (46028967, 2.0),\n",
              "   (127628725, 5.0),\n",
              "   (51557405, 4.0),\n",
              "   (275437638, 5.0),\n",
              "   (91729217, 2.0),\n",
              "   (34901647, 2.0),\n",
              "   (33622085, 2.0),\n",
              "   (159365538, 2.0),\n",
              "   (73495968, 2.0),\n",
              "   (77818807, 0.0),\n",
              "   (196595568, 0.0),\n",
              "   (257528104, 4.0),\n",
              "   (228209477, 0.0),\n",
              "   (46301758, 5.0),\n",
              "   (65315657, 5.0),\n",
              "   (54826284, 2.0),\n",
              "   (120237789, 2.0),\n",
              "   (172518437, 0.0),\n",
              "   (100431715, 2.0),\n",
              "   (92393218, 5.0),\n",
              "   (298516674, 0.0),\n",
              "   (180501401, 3.0),\n",
              "   (49228258, 0.0),\n",
              "   (224844255, 0.0),\n",
              "   (31187179, 2.0),\n",
              "   (11373749, 0.0),\n",
              "   (7431946, 2.0),\n",
              "   (105503045, 0.0),\n",
              "   (131348564, 3.0),\n",
              "   (48386574, 3.0),\n",
              "   (263936784, 0.0),\n",
              "   (80154824, 0.0),\n",
              "   (101878879, 0.0),\n",
              "   (23717586, 0.0),\n",
              "   (168324795, 0.0),\n",
              "   (158429732, 4.0),\n",
              "   (133422169, 2.0),\n",
              "   (298446224, 0.0),\n",
              "   (117370965, 3.0),\n",
              "   (183315077, 0.0),\n",
              "   (115396529, 2.0),\n",
              "   (65155942, 0.0),\n",
              "   (63276972, 4.0),\n",
              "   (170377069, 5.0),\n",
              "   (47457723, 5.0),\n",
              "   (298950, 0.0),\n",
              "   (82046939, 2.0),\n",
              "   (20704366, 3.0),\n",
              "   (135400225, 5.0),\n",
              "   (100070732, 5.0),\n",
              "   (5990132, 0.0),\n",
              "   (64514291, 0.0),\n",
              "   (175447188, 3.0),\n",
              "   (155919035, 2.0),\n",
              "   (14465359, 3.0),\n",
              "   (106980036, 2.0),\n",
              "   (5250, 5.0)])]"
            ]
          },
          "metadata": {},
          "execution_count": 17
        }
      ],
      "source": [
        "import random\n",
        "\n",
        "def ItemUsersPairs(line):\n",
        "    return line[0],(line[1],float(line[7]))\n",
        "\n",
        "def ItemUserInteractions(item,users_with_rating,n):\n",
        "    if len(users_with_rating) > n:\n",
        "        return item,random.sample(users_with_rating,n)\n",
        "    else:\n",
        "        return item, users_with_rating\n",
        "\n",
        "user_item_pairs = newfeature2.rdd.map(lambda x : ItemUsersPairs(x)).groupByKey().map(lambda p: ItemUserInteractions(p[0],list(p[1]),100))\n",
        "\n",
        "def f(x): return x\n",
        "game_ratings_df_flatten = user_item_pairs.flatMapValues(f)\n",
        "game_rating = game_ratings_df_flatten.map(lambda p:(p[0], p[1][0], p[1][1]))\n",
        "\n",
        "print(\" [Item -> [User,Rating]..] RDD is shown below \")\n",
        "user_item_pairs.take(1)"
      ]
    },
    {
      "cell_type": "markdown",
      "source": [
        "Installing Numerize function"
      ],
      "metadata": {
        "id": "IXaJgXOJUi2G"
      }
    },
    {
      "cell_type": "code",
      "source": [
        "pip install numerize"
      ],
      "metadata": {
        "id": "4B2GMwFbUfxg",
        "outputId": "5ae60067-0467-444e-9aa3-042c500fd8c1",
        "colab": {
          "base_uri": "https://localhost:8080/"
        }
      },
      "execution_count": 19,
      "outputs": [
        {
          "output_type": "stream",
          "name": "stdout",
          "text": [
            "Looking in indexes: https://pypi.org/simple, https://us-python.pkg.dev/colab-wheels/public/simple/\n",
            "Collecting numerize\n",
            "  Downloading numerize-0.12.tar.gz (2.7 kB)\n",
            "  Preparing metadata (setup.py) ... \u001b[?25l\u001b[?25hdone\n",
            "Building wheels for collected packages: numerize\n",
            "  Building wheel for numerize (setup.py) ... \u001b[?25l\u001b[?25hdone\n",
            "  Created wheel for numerize: filename=numerize-0.12-py3-none-any.whl size=3174 sha256=a12724021a86f13237dd2a98f4e8639a336af322dc54fd28dd5255596e9496a7\n",
            "  Stored in directory: /root/.cache/pip/wheels/d3/85/3a/c063c399e65688038ecc09dd96a4ac5b188d98e10dcd7c51a8\n",
            "Successfully built numerize\n",
            "Installing collected packages: numerize\n",
            "Successfully installed numerize-0.12\n"
          ]
        }
      ]
    },
    {
      "cell_type": "markdown",
      "source": [
        "Model Train -Test Split\n",
        "\n",
        "Generating Item1,Item2 => UserRating1,UserRating2 combinations on train data\n",
        "\n",
        "Total Count of Item-Item Pair and their rating data by users in Training Data\n",
        "\n",
        "Item-Item Pair and their rating data by users in Training Data"
      ],
      "metadata": {
        "id": "3MEVIZQyUnjw"
      }
    },
    {
      "cell_type": "code",
      "execution_count": 20,
      "metadata": {
        "colab": {
          "base_uri": "https://localhost:8080/"
        },
        "id": "lhwHkvacZ9Il",
        "outputId": "4f195e04-d7df-42bc-813c-42a75dbc7ef9"
      },
      "outputs": [
        {
          "output_type": "stream",
          "name": "stdout",
          "text": [
            "Time taken: 2.983945369720459 seconds\n",
            "Total Item,item Pair record count in Training Data :  7.77M\n",
            "Item1-Item2=>Rating1,Rating2 Dataframe input to the model is shown below : \n",
            "+---------------+----------------------------------------------------------------------------+------+-------+\n",
            "|itemId         |itemId2                                                                     |rating|rating2|\n",
            "+---------------+----------------------------------------------------------------------------+------+-------+\n",
            "|Cities Skylines|Return to Mysterious Island 2                                               |4.0   |2.0    |\n",
            "|Cities Skylines|Return to Mysterious Island                                                 |4.0   |1.0    |\n",
            "|Cities Skylines|Microsoft Flight                                                            |4.0   |2.0    |\n",
            "|Cities Skylines|Joe Danger                                                                  |4.0   |4.0    |\n",
            "|Cities Skylines|Sherlock Holmes Crimes and Punishments                                      |4.0   |5.0    |\n",
            "|Cities Skylines|Trials Fusion                                                               |4.0   |2.0    |\n",
            "|Cities Skylines|Post Mortem                                                                 |4.0   |4.0    |\n",
            "|Cities Skylines|Her Story                                                                   |4.0   |4.0    |\n",
            "|Cities Skylines|Space Quest Collection                                                      |4.0   |2.0    |\n",
            "|Cities Skylines|Lone Survivor The Director's Cut                                            |4.0   |2.0    |\n",
            "|Cities Skylines|Beyond Good & Evil                                                          |4.0   |3.0    |\n",
            "|Cities Skylines|Kentucky Route Zero                                                         |4.0   |4.0    |\n",
            "|Cities Skylines|Rayman Origins                                                              |4.0   |0.0    |\n",
            "|Cities Skylines|Source Filmmaker                                                            |4.0   |0.0    |\n",
            "|Cities Skylines|Broken Sword 3 - the Sleeping Dragon                                        |4.0   |5.0    |\n",
            "|Cities Skylines|Broken Sword 2 - the Smoking Mirror Remastered                              |4.0   |4.0    |\n",
            "|Cities Skylines|Life Is Strange                                                             |4.0   |3.0    |\n",
            "|Cities Skylines|The Wonderful End of the World                                              |4.0   |2.0    |\n",
            "|Cities Skylines|AaAaAA!!! - A Reckless Disregard for Gravity                                |4.0   |0.0    |\n",
            "|Cities Skylines|Beat Hazard                                                                 |4.0   |5.0    |\n",
            "|Cities Skylines|Space Channel 5 Part 2                                                      |4.0   |5.0    |\n",
            "|Cities Skylines|Joe Danger 2 The Movie                                                      |4.0   |5.0    |\n",
            "|Cities Skylines|The Raven - Legacy of a Master Thief                                        |4.0   |4.0    |\n",
            "|Cities Skylines|Metro 2033 Redux                                                            |4.0   |2.0    |\n",
            "|Cities Skylines|Dreamfall Chapters                                                          |4.0   |0.0    |\n",
            "|Cities Skylines|Broken Sword 5 - the Serpent's Curse                                        |4.0   |4.0    |\n",
            "|Cities Skylines|The Path - Prologue                                                         |4.0   |2.0    |\n",
            "|Cities Skylines|Assassin's Creed IV Black Flag                                              |4.0   |0.0    |\n",
            "|Cities Skylines|Deponia                                                                     |4.0   |2.0    |\n",
            "|Cities Skylines|Dreamfall The Longest Journey                                               |4.0   |5.0    |\n",
            "|Cities Skylines|The Polynomial                                                              |4.0   |2.0    |\n",
            "|Cities Skylines|Tiny and Big Grandpa's Leftovers                                            |4.0   |5.0    |\n",
            "|Cities Skylines|Endless Space                                                               |4.0   |0.0    |\n",
            "|Cities Skylines|X3 Terran Conflict                                                          |4.0   |2.0    |\n",
            "|Cities Skylines|NBA 2K14                                                                    |4.0   |0.0    |\n",
            "|Cities Skylines|Good Friends Character Pack                                                 |4.0   |1.0    |\n",
            "|Cities Skylines|BIT.TRIP BEAT                                                               |4.0   |5.0    |\n",
            "|Cities Skylines|Still Life                                                                  |4.0   |2.0    |\n",
            "|Cities Skylines|Digital Combat Simulator A-10C Warthog                                      |4.0   |5.0    |\n",
            "|Cities Skylines|Far Cry 4                                                                   |4.0   |2.0    |\n",
            "|Cities Skylines|ENSLAVED Odyssey to the West Premium Edition                                |4.0   |2.0    |\n",
            "|Cities Skylines|Call of Juarez Bound in Blood                                               |4.0   |5.0    |\n",
            "|Cities Skylines|Estranged Act I                                                             |4.0   |0.0    |\n",
            "|Cities Skylines|Fractured Space                                                             |4.0   |3.0    |\n",
            "|Cities Skylines|Valiant Hearts The Great War / Soldats Inconnus  Mmoires de la Grande Guerre|4.0   |5.0    |\n",
            "|Cities Skylines|Valkyria Chronicles Selveria's Mission Behind Her Blue Flame                |4.0   |1.0    |\n",
            "|Cities Skylines|Valkyria Chronicles Edy's Mission Enter the Edy Detachment                  |4.0   |1.0    |\n",
            "|Cities Skylines|Valkyria Chronicles Challenge of the Edy Detachment                         |4.0   |1.0    |\n",
            "|Cities Skylines|Superbrothers Sword & Sworcery EP                                           |4.0   |3.0    |\n",
            "|Cities Skylines|Papo & Yo                                                                   |4.0   |3.0    |\n",
            "+---------------+----------------------------------------------------------------------------+------+-------+\n",
            "only showing top 50 rows\n",
            "\n"
          ]
        }
      ],
      "source": [
        "from numerize import numerize\n",
        "import time\n",
        "start_time = time.time()\n",
        "(training,test) = game_rating.randomSplit([0.8,0.2],2000)\n",
        "\n",
        "game_ratings  =  training.map(lambda p: Row(userId=int(p[1]), itemId=(p[0]), rating=float(p[2])))\n",
        "game_ratings_2  =  training.map(lambda p: Row(userId2=int(p[1]), itemId2=(p[0]), rating2=float(p[2])))\n",
        "game_ratingsdf = spark.createDataFrame(game_ratings)\n",
        "game_ratingsdf2 = spark.createDataFrame(game_ratings_2)\n",
        "\n",
        "\n",
        "game_df = game_ratingsdf.join(game_ratingsdf2, ( \\\n",
        "                                                           (game_ratingsdf.itemId != game_ratingsdf2.itemId2) & \\\n",
        "                                                           (game_ratingsdf.userId == game_ratingsdf2.userId2)) \\\n",
        "                                        ,'left') \\\n",
        "                                  .select(\"itemId\",\"itemId2\",\"rating\",\"rating2\")\n",
        "game_df1 = game_df.na.fill(0)\n",
        "game_user_ratingrdd = game_df1.rdd\n",
        "end_time = time.time()\n",
        "time_taken = end_time - start_time\n",
        "print(\"Time taken:\", time_taken, \"seconds\")\n",
        "ItemPairCount  = game_user_ratingrdd.count()\n",
        "print(\"Total Item,item Pair record count in Training Data : \", numerize.numerize(ItemPairCount))\n",
        "print(\"Item1-Item2=>Rating1,Rating2 Dataframe input to the model is shown below : \")\n",
        "game_df1.show(50,truncate=False)"
      ]
    },
    {
      "cell_type": "markdown",
      "source": [
        "Generating Cosine Distance for item-item pair for all user ratings\n",
        "\n",
        "Cosine Distance calculated for our rating data for each Game-Game combination"
      ],
      "metadata": {
        "id": "bqCCQE2XVJlX"
      }
    },
    {
      "cell_type": "code",
      "execution_count": 21,
      "metadata": {
        "colab": {
          "base_uri": "https://localhost:8080/"
        },
        "id": "nUAYZ2sQZ9vr",
        "outputId": "5d35fa00-f870-427c-f06d-decfdeb659c1"
      },
      "outputs": [
        {
          "output_type": "stream",
          "name": "stdout",
          "text": [
            "Time taken: 193.21157670021057 seconds\n",
            "Cosine Distance calculated for our rating data for each Game-Game combination : \n",
            "+------------------------------------------------------------------------------------------------------------------+----------+----------+-----------+------------------+------------------+------------------+\n",
            "|item_pair                                                                                                         |Cosim_sumx|Cosim_sumy|Cosim_sumxy|Cosim_sumx_sqrt   |Cosim_sumy_sqrt   |Cosine_Similarity |\n",
            "+------------------------------------------------------------------------------------------------------------------+----------+----------+-----------+------------------+------------------+------------------+\n",
            "|{0RBITALIS, Half-Life Deathmatch Source}                                                                          |16.0      |25.0      |20.0       |4.0               |5.0               |1.0               |\n",
            "|{1... 2... 3... KICK IT! (Drop That Beat Like an Ugly Baby), Age of Empires II HD The Forgotten}                  |4.0       |1.0       |2.0        |2.0               |1.0               |1.0               |\n",
            "|{1... 2... 3... KICK IT! (Drop That Beat Like an Ugly Baby), Company of Heroes (New Steam Version)}               |8.0       |8.0       |8.0        |2.8284271247461903|2.8284271247461903|0.9999999999999998|\n",
            "|{1... 2... 3... KICK IT! (Drop That Beat Like an Ugly Baby), Karos}                                               |25.0      |1.0       |5.0        |5.0               |1.0               |1.0               |\n",
            "|{1... 2... 3... KICK IT! (Drop That Beat Like an Ugly Baby), Red Orchestra 2 Heroes of Stalingrad - Single Player}|16.0      |16.0      |16.0       |4.0               |4.0               |1.0               |\n",
            "|{1... 2... 3... KICK IT! (Drop That Beat Like an Ugly Baby), Sid Meier's Covert Action (Classic)}                 |4.0       |1.0       |2.0        |2.0               |1.0               |1.0               |\n",
            "|{1... 2... 3... KICK IT! (Drop That Beat Like an Ugly Baby), Space Pirates and Zombies}                           |25.0      |0.0       |0.0        |5.0               |0.0               |0.0               |\n",
            "|{1... 2... 3... KICK IT! (Drop That Beat Like an Ugly Baby), Toribash}                                            |25.0      |4.0       |10.0       |5.0               |2.0               |1.0               |\n",
            "|{1... 2... 3... KICK IT! (Drop That Beat Like an Ugly Baby), X-Blades}                                            |25.0      |25.0      |25.0       |5.0               |5.0               |1.0               |\n",
            "|{10 Second Ninja, Max Payne 3}                                                                                    |9.0       |9.0       |9.0        |3.0               |3.0               |1.0               |\n",
            "|{10 Second Ninja, Overlord Raising Hell}                                                                          |18.0      |8.0       |12.0       |4.242640687119285 |2.8284271247461903|1.0               |\n",
            "|{10 Second Ninja, Real World Racing Amsterdam & Oakland}                                                          |9.0       |1.0       |3.0        |3.0               |1.0               |1.0               |\n",
            "|{10 Second Ninja, Stealth Bastard Deluxe - The Teleporter Chambers}                                               |9.0       |1.0       |3.0        |3.0               |1.0               |1.0               |\n",
            "|{10,000,000, Go! Go! Nippon! ~My First Trip to Japan~}                                                            |9.0       |9.0       |9.0        |3.0               |3.0               |1.0               |\n",
            "|{10,000,000, Heroes of Might & Magic III - HD Edition}                                                            |9.0       |4.0       |6.0        |3.0               |2.0               |1.0               |\n",
            "|{10,000,000, Magicka The Watchtower}                                                                              |9.0       |1.0       |3.0        |3.0               |1.0               |1.0               |\n",
            "|{10,000,000, Shadow Warrior Classic Redux}                                                                        |9.0       |0.0       |0.0        |3.0               |0.0               |0.0               |\n",
            "|{10,000,000, The Dig}                                                                                             |9.0       |9.0       |9.0        |3.0               |3.0               |1.0               |\n",
            "|{100% Orange Juice, Wasteland 1 - The Original Classic}                                                           |0.0       |16.0      |0.0        |0.0               |4.0               |0.0               |\n",
            "|{12 Labours of Hercules, Anomaly Warzone Earth}                                                                   |54.0      |49.0      |50.0       |7.3484692283495345|7.0               |0.9720197391996739|\n",
            "+------------------------------------------------------------------------------------------------------------------+----------+----------+-----------+------------------+------------------+------------------+\n",
            "only showing top 20 rows\n",
            "\n"
          ]
        }
      ],
      "source": [
        "import time\n",
        "start_time = time.time()\n",
        "pairwise_items = game_user_ratingrdd.map(lambda p: ((p[0],p[1]),(p[2],p[3])))\\\n",
        "                                     .map(lambda p:(p[0],p[1],p[1][0]*p[1][0],p[1][1]*p[1][1],p[1][0]*p[1][1]))\\\n",
        "                                     .map(lambda p: Row(item_pair=p[0], rating_pair=p[1],cosim_x = p[2],cosim_y = p[3],cosim_xy = p[4] ))\n",
        "pairwise_item_df = spark.createDataFrame(pairwise_items)\n",
        "\n",
        "pairwise = pairwise_item_df.groupBy(\"item_pair\").agg(sum(\"cosim_x\").alias(\"Cosim_sumx\"),\\\n",
        "                                                sum(\"cosim_y\").alias(\"Cosim_sumy\"),\\\n",
        "                                                sum(\"cosim_xy\").alias(\"Cosim_sumxy\"),\\\n",
        "                                               )\n",
        "pairwsie_sqrt = pairwise.withColumn(\"Cosim_sumx_sqrt\",sqrt(\"Cosim_sumx\")).withColumn(\"Cosim_sumy_sqrt\",sqrt(\"Cosim_sumy\"))\n",
        "pairwise_cosine = pairwsie_sqrt.withColumn(\"Cosine_Similarity\", (pairwsie_sqrt.Cosim_sumxy /((pairwsie_sqrt.Cosim_sumx_sqrt * pairwsie_sqrt.Cosim_sumy_sqrt))))\n",
        "pairwise_cosine = pairwise_cosine.na.fill(0)\n",
        "pairwise_cosinerdd = pairwise_cosine.rdd\n",
        "end_time = time.time()\n",
        "time_taken = end_time - start_time\n",
        "print(\"Time taken:\", time_taken, \"seconds\")\n",
        "\n",
        "print(\"Cosine Distance calculated for our rating data for each Game-Game combination : \")\n",
        "pairwise_cosine.show(truncate=False)"
      ]
    },
    {
      "cell_type": "markdown",
      "source": [
        "The function keyOnFirstItem is used For each item-item pair, make the first item's id the key\n",
        "\n",
        "the function nearestNeighbors is used to Sort the predictions list by similarity and select the top-N neighbors\n"
      ],
      "metadata": {
        "id": "olPrEv7QVSM0"
      }
    },
    {
      "cell_type": "code",
      "execution_count": 22,
      "metadata": {
        "id": "HXMgO5icaBKY"
      },
      "outputs": [],
      "source": [
        "def keyOnFirstItem(item_pair,item_sim_data):\n",
        "    (item1_id,item2_id) = item_pair\n",
        "    return item1_id,(item2_id,item_sim_data)\n",
        "\n",
        "def nearestNeighbors(item_id,items_and_sims,n):\n",
        "    items_and_sims.sort(key=lambda x: x[1],reverse=True)\n",
        "    return item_id, items_and_sims[:n]"
      ]
    },
    {
      "cell_type": "markdown",
      "source": [
        "Generate Top K Neighbours based on Cosine Similarity Distance"
      ],
      "metadata": {
        "id": "-4s67QZ1Vppa"
      }
    },
    {
      "cell_type": "code",
      "execution_count": 23,
      "metadata": {
        "colab": {
          "base_uri": "https://localhost:8080/"
        },
        "id": "hjg6Geo_aDGH",
        "outputId": "2923da66-34fc-4f17-d006-0d2db218817f"
      },
      "outputs": [
        {
          "output_type": "stream",
          "name": "stdout",
          "text": [
            "Generate Top 5 Neighbours based on Cosine Similarity Distance for USER_ID - 76296787 : \n",
            "+---------+-------+------+-------+--------------------+-----------+------------+----------+\n",
            "|   userId| itemId|rating|   item|             item_nn|item_cosine|totalratings|CosimTotal|\n",
            "+---------+-------+------+-------+--------------------+-----------+------------+----------+\n",
            "|151603712|Eldevin|   0.0|Eldevin|Age of Empires II...|        1.0|         0.0|       2.0|\n",
            "|151603712|Eldevin|   0.0|Eldevin|Memories of a Vag...|        1.0|         0.0|       2.0|\n",
            "|151603712|Eldevin|   0.0|Eldevin|            Unturned|        1.0|         0.0|       2.0|\n",
            "|151603712|Eldevin|   0.0|Eldevin|                TERA|        1.0|         0.0|       2.0|\n",
            "|151603712|Eldevin|   0.0|Eldevin|The Ship Single P...|        1.0|         0.0|       2.0|\n",
            "+---------+-------+------+-------+--------------------+-----------+------------+----------+\n",
            "only showing top 5 rows\n",
            "\n"
          ]
        }
      ],
      "source": [
        "pair_wise_nn = pairwise_cosinerdd.map(lambda p:keyOnFirstItem(p[0],p[6]))\\\n",
        "                  .groupByKey()\\\n",
        "                  .map( lambda p : (p[0], list(p[1])))\\\n",
        "                  .map( lambda p: nearestNeighbors(p[0],p[1],5))\\\n",
        "                  .map( lambda p: Row(item=p[0], item_rating_list=p[1]))\n",
        "\n",
        "def f(x): return x\n",
        "cosine_pairs = pair_wise_nn.flatMapValues(f)\n",
        "\n",
        "cosine_pairsnn = cosine_pairs.map(lambda p:(p[0],p[1][0],p[1][1]))\\\n",
        "                             .map(lambda p: Row(item=p[0], item_nn=p[1], item_cosine = p[2]))\n",
        "\n",
        "cosine_pairsnn_df = spark.createDataFrame(cosine_pairsnn)\n",
        "\n",
        "topknn = game_ratingsdf.join(cosine_pairsnn_df, cosine_pairsnn_df.item == game_ratingsdf.itemId, 'left')\n",
        "\n",
        "\n",
        "topknn_cosim = topknn.withColumn(\"totalratings\",topknn.rating * topknn.item_cosine )\\\n",
        "                     .withColumn(\"CosimTotal\", topknn.item_cosine + topknn.item_cosine )\n",
        "\n",
        "topknn_cosine = topknn_cosim.groupBy(\"itemId\",\"item_nn\").agg(sum(\"totalratings\").alias(\"total_ratings\"),\\\n",
        "                                                sum(\"CosimTotal\").alias(\"CosineTotal\"),\\\n",
        "                                               )\n",
        "topknn_cosimrdd = topknn_cosim.rdd\n",
        "print(\"Generate Top 5 Neighbours based on Cosine Similarity Distance for USER_ID - 76296787 : \")\n",
        "topknn_cosim.where(\"userId = 151603712\").show(5)"
      ]
    },
    {
      "cell_type": "markdown",
      "source": [
        "Evaluation - RMSE Value for Cosine Similarity Model"
      ],
      "metadata": {
        "id": "3vtRqar6XA_l"
      }
    },
    {
      "cell_type": "code",
      "execution_count": 24,
      "metadata": {
        "colab": {
          "base_uri": "https://localhost:8080/"
        },
        "id": "uGospLudxwAR",
        "outputId": "9747b56b-37d7-438f-8c98-9de7d4bdf358"
      },
      "outputs": [
        {
          "output_type": "stream",
          "name": "stdout",
          "text": [
            "RMSE of KNN Implementation using Cosine Similarity:  2.0642280061763993\n"
          ]
        }
      ],
      "source": [
        "Testratings  =  test.map(lambda p: Row(TestItemID=str(p[0]),testrating=float(p[2])))\\\n",
        "                    .map(lambda p: Row(TestItemID=str(p[0]),testrating=(p[1])))\n",
        "Predratings  =  topknn_cosimrdd.map(lambda p: Row(PredItemID=str(p[1]),Predictedrating=(p[2])))\n",
        "\n",
        "Testratingsdf = spark.createDataFrame(Testratings)\n",
        "Predratingsdf = spark.createDataFrame(Predratings)\n",
        "\n",
        "Pred =  Predratingsdf.join(Testratingsdf,Testratingsdf.TestItemID ==  Predratingsdf.PredItemID,\"inner\")\n",
        "\n",
        "Pred = Pred.na.fill(0)\n",
        "preds = Pred.select(\"Predictedrating\",\"testrating\")\n",
        "\n",
        "evaluator = RegressionEvaluator(metricName=\"rmse\", labelCol=\"testrating\",\n",
        "                                predictionCol=\"Predictedrating\")\n",
        "rmse = evaluator.evaluate(preds)\n",
        "print(\"RMSE of KNN Implementation using Cosine Similarity: \",rmse)"
      ]
    },
    {
      "cell_type": "code",
      "execution_count": 25,
      "metadata": {
        "id": "ENOUX8asysDJ",
        "outputId": "716dab90-c745-4d5d-ee95-121cda52846e",
        "colab": {
          "base_uri": "https://localhost:8080/"
        }
      },
      "outputs": [
        {
          "output_type": "stream",
          "name": "stdout",
          "text": [
            "Time taken: 286.7453091144562 seconds\n"
          ]
        }
      ],
      "source": [
        "##Pearson Coefficient Implementation for Game Recommender System\n",
        "import time\n",
        "start_time = time.time()\n",
        "#(training,test) = game_rating.randomSplit([0.8,0.2],2000)\n",
        "pe_cf_game_ratings  =  training.map(lambda p: Row(userId=int(p[1]), itemId=str(p[0]),rating=float(p[2])))\n",
        "pe_cf_game_ratings_2  =  training.map(lambda p: Row(userId2=int(p[1]), itemId2=str(p[0]),rating2=float(p[2])))\n",
        "pe_cf_game_ratingsdf = spark.createDataFrame(pe_cf_game_ratings)\n",
        "pe_cf_game_ratingsdf2 = spark.createDataFrame(pe_cf_game_ratings_2)\n",
        "\n",
        "## Subtracting Mean User Game Ratings from the ratings data \n",
        "User_mean = pe_cf_game_ratingsdf.groupBy(\"userId\").agg({'rating' : 'mean'}).withColumnRenamed(\"avg(rating)\", \"user_mean\")\\\n",
        "                                                                            .withColumnRenamed(\"userId\", \"meanuserId\")\n",
        "pe_cf_game_ratingsdf_Umean = pe_cf_game_ratingsdf.join(User_mean, ( \\\n",
        "                                                           (pe_cf_game_ratingsdf.userId == User_mean.meanuserId)) \\\n",
        "                                        ,'left').select(pe_cf_game_ratingsdf.userId,pe_cf_game_ratingsdf.itemId,pe_cf_game_ratingsdf.rating,User_mean.user_mean)\n",
        "\n",
        "pe_cf_game_ratingsdf2_Umean = pe_cf_game_ratingsdf2.join(User_mean, ( \\\n",
        "                                                           (pe_cf_game_ratingsdf2.userId2 == User_mean.meanuserId)) \\\n",
        "                                        ,'left').select(pe_cf_game_ratingsdf2.userId2,pe_cf_game_ratingsdf2.itemId2,pe_cf_game_ratingsdf2.rating2,User_mean.user_mean)                                                    \n",
        "pe_cf_MeanDeviation= pe_cf_game_ratingsdf_Umean.withColumn(\"UserRatingDeviation\",pe_cf_game_ratingsdf_Umean.rating - pe_cf_game_ratingsdf_Umean.user_mean)\n",
        "\n",
        "pe_cf_MeanDeviation2= pe_cf_game_ratingsdf2_Umean.withColumn(\"UserRatingDeviation2\",pe_cf_game_ratingsdf2_Umean.rating2 - pe_cf_game_ratingsdf2_Umean.user_mean)\n",
        "\n",
        "\n",
        "#Generating Item1,Item2 => UserRating1,UserRating2 combinations on train data\n",
        "pe_cf_games_df = pe_cf_MeanDeviation.join(pe_cf_MeanDeviation2, ( \\\n",
        "                                                           (pe_cf_MeanDeviation.itemId != pe_cf_MeanDeviation2.itemId2) & \\\n",
        "                                                           (pe_cf_MeanDeviation.userId == pe_cf_MeanDeviation2.userId2)) \\\n",
        "                                        ,'left') \\\n",
        "                                  .select(\"itemId\",\"itemId2\",\"UserRatingDeviation\",\"UserRatingDeviation\")\n",
        "pe_cf_game_df1 = pe_cf_games_df.na.fill(0)\n",
        "pe_cf_game_user_ratingrdd = pe_cf_game_df1.rdd\n",
        "\n",
        "# Generating Cosine Distance for item-item pair for all user ratings\n",
        "pe_cf_pairwise_items = pe_cf_game_user_ratingrdd.map(lambda p: ((p[0],p[1]),(p[2],p[3])))\\\n",
        "                                     .map(lambda p:(p[0],p[1],p[1][0]*p[1][0],p[1][1]*p[1][1],p[1][0]*p[1][1]))\\\n",
        "                                     .map(lambda p: Row(item_pair=p[0], rating_pair=p[1],cosim_x = p[2],cosim_y = p[3],cosim_xy = p[4] ))\n",
        "pe_cf_pairwise_item_df = spark.createDataFrame(pe_cf_pairwise_items)\n",
        "pe_cf_pairwise = pe_cf_pairwise_item_df.groupBy(\"item_pair\").agg(sum(\"cosim_x\").alias(\"Cosim_sumx\"),\\\n",
        "                                                sum(\"cosim_y\").alias(\"Cosim_sumy\"),\\\n",
        "                                                sum(\"cosim_xy\").alias(\"Cosim_sumxy\"),\\\n",
        "                                               )\n",
        "pe_cf_pairwsie_sqrt = pe_cf_pairwise.withColumn(\"Cosim_sumx_sqrt\",sqrt(\"Cosim_sumx\")).withColumn(\"Cosim_sumy_sqrt\",sqrt(\"Cosim_sumy\"))\n",
        "pe_cf_pairwise_cosine = pe_cf_pairwsie_sqrt.withColumn(\"Cosine_Similarity\", (pe_cf_pairwsie_sqrt.Cosim_sumxy /((pe_cf_pairwsie_sqrt.Cosim_sumx_sqrt * pe_cf_pairwsie_sqrt.Cosim_sumy_sqrt)+0.5))+0)\n",
        "pe_cf_pairwise_cosine = pe_cf_pairwise_cosine.na.fill(0)\n",
        "pe_cf_pairwise_cosinerdd = pe_cf_pairwise_cosine.rdd\n",
        "\n",
        "\n",
        "# Generate Top K Neighbours based on Cosine Similarity Distance\n",
        "pe_cf_pair_wise_nn = pe_cf_pairwise_cosinerdd.map(lambda p:keyOnFirstItem(p[0],p[6]))\\\n",
        "                  .groupByKey()\\\n",
        "                  .map( lambda p : (p[0], list(p[1])))\\\n",
        "                  .map( lambda p: nearestNeighbors(p[0],p[1],5))\\\n",
        "                  .map(lambda p: Row(item=p[0], item_rating_list=p[1]))\n",
        "\n",
        "def f(x): return x\n",
        "pe_cf_cosine_pairs = pe_cf_pair_wise_nn.flatMapValues(f)\n",
        "pe_cf_cosine_pairsnn = pe_cf_cosine_pairs.map(lambda p:(p[0],p[1][0],p[1][1]))\\\n",
        "                             .map(lambda p: Row(item=p[0], item_nn=p[1], item_cosine = p[2]))\n",
        "pe_cf_cosine_pairsnn_df = spark.createDataFrame(pe_cf_cosine_pairsnn)\n",
        "\n",
        "pe_cf_topknn = pe_cf_game_ratingsdf.join(pe_cf_cosine_pairsnn_df, pe_cf_cosine_pairsnn_df.item == pe_cf_game_ratingsdf.itemId, 'left')\n",
        "pe_cf_topknn_cosim = pe_cf_topknn.withColumn(\"totalratings\",pe_cf_topknn.rating * pe_cf_topknn.item_cosine*2 )\\\n",
        "                     .withColumn(\"CosimTotal\",pe_cf_topknn.item_cosine + pe_cf_topknn.item_cosine )\n",
        "pe_cf_topknn_cosine = pe_cf_topknn_cosim.groupBy(\"itemId\",\"item_nn\").agg(sum(\"totalratings\").alias(\"total_ratings\"),\\\n",
        "                                                sum(\"CosimTotal\").alias(\"CosineTotal\"),\\\n",
        "                                               )\n",
        "pe_cf_topknn_cosim = pe_cf_topknn_cosine.withColumn(\"PearsonDistance\",(pe_cf_topknn_cosine.total_ratings / pe_cf_topknn_cosine.CosineTotal) )\\\n",
        "                .select(\"itemId\",\"item_nn\",\"PearsonDistance\")\n",
        "pe_cf_topknn_cosimrdd = pe_cf_topknn_cosim.rdd\n",
        "end_time = time.time()\n",
        "time_taken = end_time - start_time\n",
        "print(\"Time taken:\", time_taken, \"seconds\")"
      ]
    },
    {
      "cell_type": "markdown",
      "source": [
        "Pearson Coefficient Implementation Evaluation - RMSE Value"
      ],
      "metadata": {
        "id": "z1ThtV0MXlI5"
      }
    },
    {
      "cell_type": "code",
      "execution_count": 26,
      "metadata": {
        "colab": {
          "base_uri": "https://localhost:8080/"
        },
        "id": "8LoraE2N0Q8R",
        "outputId": "dc5dd83f-640c-4d1a-9990-8523516c84de"
      },
      "outputs": [
        {
          "output_type": "stream",
          "name": "stdout",
          "text": [
            "RMSE of KNN Implementation using Pearson Coefficient Distance  1.9777785369113465\n"
          ]
        }
      ],
      "source": [
        "Testratings  =  test.map(lambda p: Row(TestItemID=str(p[0]),testrating=float(p[2])))\\\n",
        "                    .map(lambda p: Row(TestItemID=str(p[0]),testrating=(p[1])))\n",
        "Testratingsdf = spark.createDataFrame(Testratings)\n",
        "pe_cf_Predratings  =  pe_cf_topknn_cosimrdd.map(lambda p: Row(PredItemID=str(p[1]),Predictedrating=(p[2])))\n",
        "pe_cf_Predratingsdf = spark.createDataFrame(pe_cf_Predratings)\n",
        "\n",
        "pe_cf_Pred =  pe_cf_Predratingsdf.join(Testratingsdf,Testratingsdf.TestItemID ==  pe_cf_Predratingsdf.PredItemID,\"inner\")\n",
        "pe_cf_Pred = pe_cf_Pred.na.fill(0)\n",
        "pe_cf_preds = pe_cf_Pred.select(\"Predictedrating\",\"testrating\")\n",
        "\n",
        "pe_cf_evaluator = RegressionEvaluator(metricName=\"rmse\", labelCol=\"testrating\",\n",
        "                                predictionCol=\"Predictedrating\")\n",
        "pe_cf_rmse = pe_cf_evaluator.evaluate(pe_cf_preds)\n",
        "print(\"RMSE of KNN Implementation using Pearson Coefficient Distance \",pe_cf_rmse)"
      ]
    },
    {
      "cell_type": "markdown",
      "source": [
        "Recommend Top K nearest Games for a input itemId"
      ],
      "metadata": {
        "id": "xO6Dr1TqXsnI"
      }
    },
    {
      "cell_type": "code",
      "execution_count": 27,
      "metadata": {
        "colab": {
          "base_uri": "https://localhost:8080/"
        },
        "id": "VYiAk2Wt8Gdo",
        "outputId": "81145048-6b25-47df-89f6-54971db0643f"
      },
      "outputs": [
        {
          "output_type": "stream",
          "name": "stdout",
          "text": [
            "Steam Games Details shown below\n",
            "\n",
            "\n",
            "Overall Avg Rating by user for games 151603712 is 0.5625\n",
            "\n",
            "\n",
            "Top N Recommended games similar to user - 151603712 is shown below\n"
          ]
        }
      ],
      "source": [
        "def GameRecommender(itemId):\n",
        "\n",
        "    overall_avg_game_mean = game_ratingsdf.filter(game_ratingsdf['userId'] == itemId).agg({'rating' : 'mean'}).collect()[0][0]\n",
        "    print(\"Steam Games Details shown below\")\n",
        "    newfeature2.filter(newfeature2['USER_ID']==itemId)\n",
        "    print(\"\\n\")\n",
        "    print(\"Overall Avg Rating by user for games\",itemId,\"is\",overall_avg_game_mean)\n",
        "    print(\"\\n\")\n",
        "    print(\"Top N Recommended games similar to user -\",itemId, \"is shown below\" )\n",
        "    recommender = topknn_cosim.filter(topknn_cosim['userId'] == itemId )\n",
        "\n",
        "    game_recommender = recommender.join(newfeature2, recommender.userId == newfeature2.USER_ID,'left')\\\n",
        "                                   .select(\"USER_ID\",\"Steam_Game\")\n",
        "\n",
        "    game_recommender =game_recommender.na.drop(subset=[\"USER_ID\"])\n",
        "    return game_recommender\n",
        "\n",
        "topNrecommender = GameRecommender(151603712)\n"
      ]
    },
    {
      "cell_type": "code",
      "execution_count": 28,
      "metadata": {
        "colab": {
          "base_uri": "https://localhost:8080/"
        },
        "id": "alILVvjsJ2kL",
        "outputId": "8a0b2364-9cb1-4c98-ac73-dd3b7efa852a"
      },
      "outputs": [
        {
          "output_type": "stream",
          "name": "stdout",
          "text": [
            "+--------------------+---------+--------------+------------+----------+-----------+------------------+------+\n",
            "|          Steam_Game|  USER_ID|Behaviour_Name|Hours_played|prev_value|new_feature|   mean_Hourplayed|rating|\n",
            "+--------------------+---------+--------------+------------+----------+-----------+------------------+------+\n",
            "|The Elder Scrolls...|151603712|          play|       273.0|  purchase|          2| 86.10581818596883|     5|\n",
            "|           Fallout 4|151603712|          play|        87.0|  purchase|          2|  61.2034090954641|     4|\n",
            "|               Spore|151603712|          play|        14.9|  purchase|          2|25.605970128036258|     2|\n",
            "|   Fallout New Vegas|151603712|          play|        12.1|  purchase|          2| 42.09011299998662|     2|\n",
            "|       Left 4 Dead 2|151603712|          play|         8.9|  purchase|          2| 34.91489141701019|     2|\n",
            "|            HuniePop|151603712|          play|         8.5|  purchase|          2|17.516666683057945|     2|\n",
            "|       Path of Exile|151603712|          play|         8.1|  purchase|          2|31.752615390488735|     2|\n",
            "|         Poly Bridge|151603712|          play|         7.5|  purchase|          2| 5.046153802138108|     4|\n",
            "|         Left 4 Dead|151603712|          play|         3.3|  purchase|          2|29.664067792362076|     0|\n",
            "|     Team Fortress 2|151603712|          play|         2.8|  purchase|          2|62.814682541611305|     0|\n",
            "|         Tomb Raider|151603712|          play|         2.5|  purchase|          2|12.551550386141438|     0|\n",
            "|     The Banner Saga|151603712|          play|         2.0|  purchase|          2|11.673684221349264|     0|\n",
            "|Dead Island Epidemic|151603712|          play|         1.4|  purchase|          2|2.9967532399558015|     2|\n",
            "|   BioShock Infinite|151603712|          play|         1.3|  purchase|          2|12.826870754310468|     0|\n",
            "|Dragon Age Origin...|151603712|          play|         1.3|  purchase|          2|32.168750001024456|     0|\n",
            "|Fallout 3 - Game ...|151603712|          play|         0.8|  purchase|          2| 15.31278195226551|     0|\n",
            "|SEGA Genesis & Me...|151603712|          play|         0.8|  purchase|          2| 3.471052631147598|     2|\n",
            "| Grand Theft Auto IV|151603712|          play|         0.6|  purchase|          2|16.816666664727403|     0|\n",
            "|Realm of the Mad God|151603712|          play|         0.5|  purchase|          2| 6.570909102351377|     0|\n",
            "|  Marvel Heroes 2015|151603712|          play|         0.5|  purchase|          2|12.514074076794916|     0|\n",
            "+--------------------+---------+--------------+------------+----------+-----------+------------------+------+\n",
            "only showing top 20 rows\n",
            "\n"
          ]
        }
      ],
      "source": [
        "nw = newfeature2.filter(newfeature2['USER_ID']== 151603712)\n",
        "nw.show()"
      ]
    },
    {
      "cell_type": "code",
      "execution_count": 30,
      "metadata": {
        "colab": {
          "base_uri": "https://localhost:8080/"
        },
        "id": "H5nbTpgP8f9m",
        "outputId": "68f28a66-9dd9-4cb0-906f-77c4ecff61fc"
      },
      "outputs": [
        {
          "output_type": "stream",
          "name": "stdout",
          "text": [
            "+---------+--------------------+\n",
            "|  USER_ID|          Steam_Game|\n",
            "+---------+--------------------+\n",
            "|151603712|The Elder Scrolls...|\n",
            "|151603712|           Fallout 4|\n",
            "|151603712|               Spore|\n",
            "|151603712|   Fallout New Vegas|\n",
            "|151603712|       Left 4 Dead 2|\n",
            "+---------+--------------------+\n",
            "only showing top 5 rows\n",
            "\n"
          ]
        }
      ],
      "source": [
        "topNrecommender.show(5)"
      ]
    }
  ],
  "metadata": {
    "colab": {
      "provenance": []
    },
    "kernelspec": {
      "display_name": "Python 3",
      "name": "python3"
    },
    "language_info": {
      "name": "python"
    },
    "accelerator": "GPU",
    "gpuClass": "standard"
  },
  "nbformat": 4,
  "nbformat_minor": 0
}