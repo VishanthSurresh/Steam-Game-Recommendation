{
  "cells": [
    {
      "cell_type": "code",
      "execution_count": 2,
      "metadata": {
        "colab": {
          "base_uri": "https://localhost:8080/"
        },
        "id": "U0AKCZFVXmQ-",
        "outputId": "037191cb-eafb-48cf-dd1f-9fbe5daa802b"
      },
      "outputs": [
        {
          "output_type": "stream",
          "name": "stdout",
          "text": [
            "Looking in indexes: https://pypi.org/simple, https://us-python.pkg.dev/colab-wheels/public/simple/\n",
            "Collecting pyspark\n",
            "  Downloading pyspark-3.3.2.tar.gz (281.4 MB)\n",
            "\u001b[2K     \u001b[90m━━━━━━━━━━━━━━━━━━━━━━━━━━━━━━━━━━━━━━━\u001b[0m \u001b[32m281.4/281.4 MB\u001b[0m \u001b[31m5.2 MB/s\u001b[0m eta \u001b[36m0:00:00\u001b[0m\n",
            "\u001b[?25h  Preparing metadata (setup.py) ... \u001b[?25l\u001b[?25hdone\n",
            "Collecting py4j==0.10.9.5\n",
            "  Downloading py4j-0.10.9.5-py2.py3-none-any.whl (199 kB)\n",
            "\u001b[2K     \u001b[90m━━━━━━━━━━━━━━━━━━━━━━━━━━━━━━━━━━━━━━\u001b[0m \u001b[32m199.7/199.7 KB\u001b[0m \u001b[31m28.6 MB/s\u001b[0m eta \u001b[36m0:00:00\u001b[0m\n",
            "\u001b[?25hBuilding wheels for collected packages: pyspark\n",
            "  Building wheel for pyspark (setup.py) ... \u001b[?25l\u001b[?25hdone\n",
            "  Created wheel for pyspark: filename=pyspark-3.3.2-py2.py3-none-any.whl size=281824028 sha256=0d3f5629a813fbf01a4026d1109f5c6002411cb3729785906b799aa9d1fde79f\n",
            "  Stored in directory: /root/.cache/pip/wheels/6c/e3/9b/0525ce8a69478916513509d43693511463c6468db0de237c86\n",
            "Successfully built pyspark\n",
            "Installing collected packages: py4j, pyspark\n",
            "  Attempting uninstall: py4j\n",
            "    Found existing installation: py4j 0.10.9.7\n",
            "    Uninstalling py4j-0.10.9.7:\n",
            "      Successfully uninstalled py4j-0.10.9.7\n",
            "Successfully installed py4j-0.10.9.5 pyspark-3.3.2\n"
          ]
        }
      ],
      "source": [
        "pip install pyspark"
      ]
    },
    {
      "cell_type": "code",
      "execution_count": 3,
      "metadata": {
        "id": "SJmNUs9zXrJe",
        "colab": {
          "base_uri": "https://localhost:8080/"
        },
        "outputId": "4fd638bf-d826-4f83-9f3c-b0348cdf5c7c"
      },
      "outputs": [
        {
          "output_type": "stream",
          "name": "stdout",
          "text": [
            "Mounted at /content/drive\n"
          ]
        }
      ],
      "source": [
        "from google.colab import drive\n",
        "drive.mount('/content/drive')"
      ]
    },
    {
      "cell_type": "code",
      "execution_count": 4,
      "metadata": {
        "id": "xJZx_YuKXsw3"
      },
      "outputs": [],
      "source": [
        "import pandas as pd\n",
        "import io\n",
        "import matplotlib.pyplot as plt\n",
        "\n",
        "from pyspark.rdd import RDD\n",
        "from pyspark.sql import Row\n",
        "from pyspark.sql import DataFrame\n",
        "from pyspark.sql import SparkSession\n",
        "from pyspark.sql.functions import lit\n",
        "from pyspark.sql.functions import desc\n",
        "from pyspark.ml.evaluation import RegressionEvaluator\n",
        "from pyspark.ml.recommendation import ALS\n",
        "from pyspark.sql.functions import sum,avg,max,min,mean,count,sqrt\n",
        "from pyspark.sql.functions import col,when\n",
        "from pyspark.sql import functions as F \n",
        "from pyspark.sql.functions import col,isnan, when, count\n",
        "from pyspark.ml.evaluation import RegressionEvaluator\n",
        "import seaborn as sns"
      ]
    },
    {
      "cell_type": "code",
      "execution_count": 5,
      "metadata": {
        "id": "aFwM-aHGXvAC"
      },
      "outputs": [],
      "source": [
        "#Initialize a spark session.\n",
        "def spark_intialization():\n",
        "    spark = SparkSession \\\n",
        "        .builder \\\n",
        "        .appName(\"Pyspark Project\") \\\n",
        "        .config(\"spark.some.config.option\", \"some-value\") \\\n",
        "        .getOrCreate()\n",
        "    return spark"
      ]
    },
    {
      "cell_type": "code",
      "execution_count": 6,
      "metadata": {
        "id": "AKg84VrJXx0f",
        "colab": {
          "base_uri": "https://localhost:8080/",
          "height": 216
        },
        "outputId": "d6af1d5a-7802-4ba4-8fac-072242483b51"
      },
      "outputs": [
        {
          "output_type": "execute_result",
          "data": {
            "text/plain": [
              "<pyspark.sql.session.SparkSession at 0x7fe1af7ec040>"
            ],
            "text/html": [
              "\n",
              "            <div>\n",
              "                <p><b>SparkSession - in-memory</b></p>\n",
              "                \n",
              "        <div>\n",
              "            <p><b>SparkContext</b></p>\n",
              "\n",
              "            <p><a href=\"http://b35ca417a454:4040\">Spark UI</a></p>\n",
              "\n",
              "            <dl>\n",
              "              <dt>Version</dt>\n",
              "                <dd><code>v3.3.2</code></dd>\n",
              "              <dt>Master</dt>\n",
              "                <dd><code>local[*]</code></dd>\n",
              "              <dt>AppName</dt>\n",
              "                <dd><code>Pyspark Project</code></dd>\n",
              "            </dl>\n",
              "        </div>\n",
              "        \n",
              "            </div>\n",
              "        "
            ]
          },
          "metadata": {},
          "execution_count": 6
        }
      ],
      "source": [
        "# Initialise spark object\n",
        "spark = spark_intialization()\n",
        "spark"
      ]
    },
    {
      "cell_type": "code",
      "execution_count": 7,
      "metadata": {
        "colab": {
          "base_uri": "https://localhost:8080/"
        },
        "id": "91oFJxnUXz3Q",
        "outputId": "b554816a-72f4-4e6e-8545-e22c1bd5e0e3"
      },
      "outputs": [
        {
          "output_type": "stream",
          "name": "stdout",
          "text": [
            "+---------+--------------------+--------------+------------+\n",
            "|  USER_ID|          Steam_Game|Behaviour_Name|Hours_played|\n",
            "+---------+--------------------+--------------+------------+\n",
            "|151603712|The Elder Scrolls...|      purchase|         1.0|\n",
            "|151603712|The Elder Scrolls...|          play|       273.0|\n",
            "|151603712|           Fallout 4|      purchase|         1.0|\n",
            "|151603712|           Fallout 4|          play|        87.0|\n",
            "|151603712|               Spore|      purchase|         1.0|\n",
            "|151603712|               Spore|          play|        14.9|\n",
            "|151603712|   Fallout New Vegas|      purchase|         1.0|\n",
            "|151603712|   Fallout New Vegas|          play|        12.1|\n",
            "|151603712|       Left 4 Dead 2|      purchase|         1.0|\n",
            "|151603712|       Left 4 Dead 2|          play|         8.9|\n",
            "+---------+--------------------+--------------+------------+\n",
            "only showing top 10 rows\n",
            "\n"
          ]
        }
      ],
      "source": [
        "from pyspark.sql import functions as pyspark_functions\n",
        "from pyspark.sql.types import *\n",
        "schema = StructType([ \\\n",
        "                     StructField(\"USER_ID\", IntegerType(), True), \\\n",
        "                     StructField(\"Steam_Game\", StringType(), True),\\\n",
        "                     StructField(\"Behaviour_Name\", StringType(), True),\\\n",
        "                    StructField(\"Hours_played\", FloatType(), True)])\n",
        "dataframes = spark.read.schema(schema).csv(\"/content/drive/MyDrive/GOOGLE_COLAB/BigData/steam-200k.csv\", header=False)\n",
        "dataframes.show(10)"
      ]
    },
    {
      "cell_type": "code",
      "execution_count": 8,
      "metadata": {
        "colab": {
          "base_uri": "https://localhost:8080/"
        },
        "id": "OrLTentwX1_E",
        "outputId": "a341e497-94ae-4e92-875a-b4bb7ab4355b"
      },
      "outputs": [
        {
          "output_type": "stream",
          "name": "stdout",
          "text": [
            "+---------+--------------------+--------------+------------+\n",
            "|  USER_ID|          Steam_Game|Behaviour_Name|Hours_played|\n",
            "+---------+--------------------+--------------+------------+\n",
            "|151603712|The Elder Scrolls...|      purchase|         1.0|\n",
            "|151603712|The Elder Scrolls...|          play|       273.0|\n",
            "|151603712|           Fallout 4|      purchase|         1.0|\n",
            "|151603712|           Fallout 4|          play|        87.0|\n",
            "|151603712|               Spore|      purchase|         1.0|\n",
            "|151603712|               Spore|          play|        14.9|\n",
            "|151603712|   Fallout New Vegas|      purchase|         1.0|\n",
            "|151603712|   Fallout New Vegas|          play|        12.1|\n",
            "|151603712|       Left 4 Dead 2|      purchase|         1.0|\n",
            "|151603712|       Left 4 Dead 2|          play|         8.9|\n",
            "+---------+--------------------+--------------+------------+\n",
            "only showing top 10 rows\n",
            "\n"
          ]
        }
      ],
      "source": [
        "dataframes = dataframes.withColumnRenamed(\"_c0\",\"USER_ID\").withColumnRenamed(\"_c1\",\"Steam_Game\").withColumnRenamed(\"_c2\",\"Behaviour_Name\").withColumnRenamed(\"_c3\",\"Hours_played\")\n",
        "dataframes = dataframes.drop(\"_c4\")\n",
        "dataframes.show(10)"
      ]
    },
    {
      "cell_type": "code",
      "execution_count": 9,
      "metadata": {
        "colab": {
          "base_uri": "https://localhost:8080/"
        },
        "id": "OsKkJS90X5Kg",
        "outputId": "773f148e-2500-42d0-f59a-2e455b3c012f"
      },
      "outputs": [
        {
          "output_type": "stream",
          "name": "stdout",
          "text": [
            "+-------+--------------------+--------------+------------+----------+-----------+\n",
            "|USER_ID|          Steam_Game|Behaviour_Name|Hours_played|prev_value|new_feature|\n",
            "+-------+--------------------+--------------+------------+----------+-----------+\n",
            "|   5250|     Cities Skylines|          play|       144.0|  purchase|          2|\n",
            "|   5250|Deus Ex Human Rev...|          play|        62.0|  purchase|          2|\n",
            "|   5250|            Portal 2|          play|        13.6|  purchase|          2|\n",
            "|   5250|         Alien Swarm|          play|         4.9|  purchase|          2|\n",
            "|   5250|     Team Fortress 2|          play|         0.8|  purchase|          2|\n",
            "|   5250|              Dota 2|          play|         0.2|  purchase|          2|\n",
            "|   5250|Counter-Strike So...|      purchase|         1.0|  purchase|          1|\n",
            "|   5250|       Day of Defeat|      purchase|         1.0|  purchase|          1|\n",
            "|   5250|  Deathmatch Classic|      purchase|         1.0|  purchase|          1|\n",
            "|   5250|           Half-Life|      purchase|         1.0|  purchase|          1|\n",
            "|   5250|         Half-Life 2|      purchase|         1.0|  purchase|          1|\n",
            "|   5250|Half-Life 2 Death...|      purchase|         1.0|  purchase|          1|\n",
            "|   5250|Half-Life 2 Episo...|      purchase|         1.0|  purchase|          1|\n",
            "|   5250|Half-Life 2 Episo...|      purchase|         1.0|  purchase|          1|\n",
            "|   5250|Half-Life 2 Lost ...|      purchase|         1.0|  purchase|          1|\n",
            "|   5250|Half-Life Blue Shift|      purchase|         1.0|  purchase|          1|\n",
            "|   5250|Half-Life Opposin...|      purchase|         1.0|  purchase|          1|\n",
            "|   5250|              Portal|      purchase|         1.0|  purchase|          1|\n",
            "|   5250|            Ricochet|      purchase|         1.0|  purchase|          1|\n",
            "|   5250|Team Fortress Cla...|      purchase|         1.0|  purchase|          1|\n",
            "|  76767|      Counter-Strike|      purchase|         1.0|  purchase|          1|\n",
            "|  76767|      Counter-Strike|          play|       365.0|  purchase|          2|\n",
            "|  76767|Call of Duty Worl...|          play|       271.0|  purchase|          2|\n",
            "|  76767|    Total War ATTILA|          play|       207.0|  purchase|          2|\n",
            "|  76767|Call of Duty Mode...|          play|       165.0|  purchase|          2|\n",
            "|  76767|Call of Duty Mode...|          play|        65.0|  purchase|          2|\n",
            "|  76767|Counter-Strike So...|          play|        25.0|  purchase|          2|\n",
            "|  76767|            Banished|          play|        24.0|  purchase|          2|\n",
            "|  76767|Call of Duty Blac...|          play|        22.0|  purchase|          2|\n",
            "|  76767|Call of Duty Mode...|          play|        15.9|  purchase|          2|\n",
            "|  76767|            Portal 2|          play|        15.0|  purchase|          2|\n",
            "|  76767|Age of Empires II...|          play|        13.1|  purchase|          2|\n",
            "|  76767|Call of Duty Blac...|          play|        12.5|  purchase|          2|\n",
            "|  76767|Call of Duty Mode...|          play|         9.7|  purchase|          2|\n",
            "|  76767|Rise of Nations E...|          play|         5.7|  purchase|          2|\n",
            "|  76767|Counter-Strike Gl...|          play|         3.5|  purchase|          2|\n",
            "|  76767|Thief Deadly Shadows|          play|         3.4|  purchase|          2|\n",
            "|  76767| The Stanley Parable|          play|         1.8|  purchase|          2|\n",
            "|  76767|           Half-Life|          play|         1.2|  purchase|          2|\n",
            "|  76767|         Alien Swarm|          play|         0.8|  purchase|          2|\n",
            "|  76767|    Worms Armageddon|          play|         0.4|  purchase|          2|\n",
            "|  76767|Arma 2 Operation ...|      purchase|         1.0|  purchase|          1|\n",
            "|  76767|Arma 2 Operation ...|      purchase|         1.0|  purchase|          1|\n",
            "|  76767|       Day of Defeat|      purchase|         1.0|  purchase|          1|\n",
            "|  76767|  Deathmatch Classic|      purchase|         1.0|  purchase|          1|\n",
            "|  76767|Half-Life Blue Shift|      purchase|         1.0|  purchase|          1|\n",
            "|  76767|Half-Life Opposin...|      purchase|         1.0|  purchase|          1|\n",
            "|  76767|            Ricochet|      purchase|         1.0|  purchase|          1|\n",
            "|  76767|Team Fortress Cla...|      purchase|         1.0|  purchase|          1|\n",
            "|  76767|               Thief|      purchase|         1.0|  purchase|          1|\n",
            "+-------+--------------------+--------------+------------+----------+-----------+\n",
            "only showing top 50 rows\n",
            "\n"
          ]
        }
      ],
      "source": [
        "from pyspark.sql.window import Window\n",
        "from pyspark.sql.functions import col, when, lag, sum\n",
        "\n",
        "window_spec = Window.orderBy('USER_ID')\n",
        "\n",
        "data_with_prev_value = dataframes.withColumn('prev_value', lag(col('Behaviour_Name')).over(window_spec))\n",
        "\n",
        "combined_data = data_with_prev_value.withColumn('new_feature', when((col('prev_value') == 'purchase') & (col('Behaviour_Name') == 'play'), 2).otherwise(1))\n",
        "\n",
        "grouped1 = combined_data.filter(((col('prev_value') == 'purchase') & (col('Behaviour_Name') == 'play')) | \\\n",
        "                                        ((col('prev_value') == 'purchase') & (col('Behaviour_Name') == 'purchase')) |\\\n",
        "                                        ((col('prev_value') == 'null') & (col('Behaviour_Name') == 'purchase')) |\\\n",
        "                                  (col('prev_value') == 'play') & (col('Behaviour_Name') == 'play'));\n",
        "\n",
        "\n",
        "grouped1.show(50)"
      ]
    },
    {
      "cell_type": "code",
      "execution_count": 10,
      "metadata": {
        "colab": {
          "base_uri": "https://localhost:8080/"
        },
        "id": "vMzSupAZYBVv",
        "outputId": "b0fbf1fd-ffda-458a-f14d-b979594be221"
      },
      "outputs": [
        {
          "output_type": "stream",
          "name": "stdout",
          "text": [
            "+--------------------+-------+--------------+------------+----------+-----------+------------------+\n",
            "|          Steam_Game|USER_ID|Behaviour_Name|Hours_played|prev_value|new_feature|   mean_Hourplayed|\n",
            "+--------------------+-------+--------------+------------+----------+-----------+------------------+\n",
            "|     Cities Skylines|   5250|          play|       144.0|  purchase|          2| 24.74000000804663|\n",
            "|Deus Ex Human Rev...|   5250|          play|        62.0|  purchase|          2|22.032926833393372|\n",
            "|            Portal 2|   5250|          play|        13.6|  purchase|          2|16.639169672806663|\n",
            "|         Alien Swarm|   5250|          play|         4.9|  purchase|          2| 4.973856203331082|\n",
            "|     Team Fortress 2|   5250|          play|         0.8|  purchase|          2|62.814682541611305|\n",
            "|              Dota 2|   5250|          play|         0.2|  purchase|          2| 151.2374038764504|\n",
            "|Counter-Strike So...|   5250|      purchase|         1.0|  purchase|          1| 84.06663762899407|\n",
            "|       Day of Defeat|   5250|      purchase|         1.0|  purchase|          1| 3.686965814497099|\n",
            "|  Deathmatch Classic|   5250|      purchase|         1.0|  purchase|          1|0.9834331344820544|\n",
            "|           Half-Life|   5250|      purchase|         1.0|  purchase|          1| 2.446052636578679|\n",
            "|         Half-Life 2|   5250|      purchase|         1.0|  purchase|          1|  7.06257763759505|\n",
            "|Half-Life 2 Death...|   5250|      purchase|         1.0|  purchase|          1| 5.535354843947196|\n",
            "|Half-Life 2 Episo...|   5250|      purchase|         1.0|  purchase|          1|2.7886889474634033|\n",
            "|Half-Life 2 Episo...|   5250|      purchase|         1.0|  purchase|          1|3.7124653733503123|\n",
            "|Half-Life 2 Lost ...|   5250|      purchase|         1.0|  purchase|          1|1.0078975457773647|\n",
            "|Half-Life Blue Shift|   5250|      purchase|         1.0|  purchase|          1|1.1504155104138845|\n",
            "|Half-Life Opposin...|   5250|      purchase|         1.0|  purchase|          1| 1.357458567010105|\n",
            "|              Portal|   5250|      purchase|         1.0|  purchase|          1| 4.222452510437817|\n",
            "|            Ricochet|   5250|      purchase|         1.0|  purchase|          1|1.0003968264375414|\n",
            "|Team Fortress Cla...|   5250|      purchase|         1.0|  purchase|          1|0.9909589039544536|\n",
            "+--------------------+-------+--------------+------------+----------+-----------+------------------+\n",
            "only showing top 20 rows\n",
            "\n"
          ]
        }
      ],
      "source": [
        "average = grouped1.groupBy(\"Steam_Game\") \\\n",
        "            .agg(mean(\"Hours_played\").alias(\"mean_Hourplayed\")) \\\n",
        "             .select(\"Steam_Game\", \"mean_Hourplayed\")\n",
        "grouped = grouped1.join(average, on=\"Steam_Game\", how=\"inner\")\n",
        "grouped.show(20)"
      ]
    },
    {
      "cell_type": "code",
      "execution_count": 11,
      "metadata": {
        "colab": {
          "base_uri": "https://localhost:8080/"
        },
        "id": "Uv2jBK5nYtQE",
        "outputId": "ae7fd6e8-1799-48f4-9c2c-e156bbe80093"
      },
      "outputs": [
        {
          "output_type": "stream",
          "name": "stdout",
          "text": [
            "+--------------------+-------+--------------+------------+----------+-----------+------------------+------+\n",
            "|          Steam_Game|USER_ID|Behaviour_Name|Hours_played|prev_value|new_feature|   mean_Hourplayed|rating|\n",
            "+--------------------+-------+--------------+------------+----------+-----------+------------------+------+\n",
            "|     Cities Skylines|   5250|          play|       144.0|  purchase|          2| 24.74000000804663|     5|\n",
            "|Deus Ex Human Rev...|   5250|          play|        62.0|  purchase|          2|22.032926833393372|     5|\n",
            "|            Portal 2|   5250|          play|        13.6|  purchase|          2|16.639169672806663|     3|\n",
            "|         Alien Swarm|   5250|          play|         4.9|  purchase|          2| 4.973856203331082|     3|\n",
            "|     Team Fortress 2|   5250|          play|         0.8|  purchase|          2|62.814682541611305|     0|\n",
            "|              Dota 2|   5250|          play|         0.2|  purchase|          2| 151.2374038764504|     0|\n",
            "|Counter-Strike So...|   5250|      purchase|         1.0|  purchase|          1| 84.06663762899407|     0|\n",
            "|       Day of Defeat|   5250|      purchase|         1.0|  purchase|          1| 3.686965814497099|     2|\n",
            "|  Deathmatch Classic|   5250|      purchase|         1.0|  purchase|          1|0.9834331344820544|     5|\n",
            "|           Half-Life|   5250|      purchase|         1.0|  purchase|          1| 2.446052636578679|     3|\n",
            "|         Half-Life 2|   5250|      purchase|         1.0|  purchase|          1|  7.06257763759505|     2|\n",
            "|Half-Life 2 Death...|   5250|      purchase|         1.0|  purchase|          1| 5.535354843947196|     2|\n",
            "|Half-Life 2 Episo...|   5250|      purchase|         1.0|  purchase|          1|2.7886889474634033|     2|\n",
            "|Half-Life 2 Episo...|   5250|      purchase|         1.0|  purchase|          1|3.7124653733503123|     2|\n",
            "|Half-Life 2 Lost ...|   5250|      purchase|         1.0|  purchase|          1|1.0078975457773647|     5|\n",
            "|Half-Life Blue Shift|   5250|      purchase|         1.0|  purchase|          1|1.1504155104138845|     4|\n",
            "|Half-Life Opposin...|   5250|      purchase|         1.0|  purchase|          1| 1.357458567010105|     4|\n",
            "|              Portal|   5250|      purchase|         1.0|  purchase|          1| 4.222452510437817|     2|\n",
            "|            Ricochet|   5250|      purchase|         1.0|  purchase|          1|1.0003968264375414|     5|\n",
            "|Team Fortress Cla...|   5250|      purchase|         1.0|  purchase|          1|0.9909589039544536|     5|\n",
            "+--------------------+-------+--------------+------------+----------+-----------+------------------+------+\n",
            "only showing top 20 rows\n",
            "\n"
          ]
        }
      ],
      "source": [
        "from pyspark.sql.functions import when\n",
        "newfeature2 = grouped.withColumn(\"rating\", \n",
        "                  when(grouped[\"Hours_played\"] == 1.0 * grouped[\"mean_Hourplayed\"] * grouped[\"new_feature\"], 1)\n",
        "                  .when(grouped[\"Hours_played\"] >= 0.9 * grouped[\"mean_Hourplayed\"] * grouped[\"new_feature\"], 5)\n",
        "                   .when((grouped[\"Hours_played\"] >= 0.7 * grouped[\"mean_Hourplayed\"] * grouped[\"new_feature\"]) & (grouped[\"Hours_played\"] < 0.9 * grouped[\"mean_Hourplayed\"]*grouped[\"new_feature\"]), 4)\n",
        "                   .when((grouped[\"Hours_played\"] >= 0.4 * grouped[\"mean_Hourplayed\"] * grouped[\"new_feature\"]) & (grouped[\"Hours_played\"] < 0.7 * grouped[\"mean_Hourplayed\"]*grouped[\"new_feature\"]), 3)\n",
        "                   .when((grouped[\"Hours_played\"] >= 0.1 * grouped[\"mean_Hourplayed\"] * grouped[\"new_feature\"]) & (grouped[\"Hours_played\"] < 0.4 * grouped[\"mean_Hourplayed\"]*grouped[\"new_feature\"]), 2)\n",
        "                   .otherwise(0))\n",
        "newfeature2.show()"
      ]
    },
    {
      "cell_type": "code",
      "execution_count": 12,
      "metadata": {
        "id": "G5c2F7wyAs09"
      },
      "outputs": [],
      "source": [
        "pandasdf = newfeature2.toPandas()"
      ]
    },
    {
      "cell_type": "code",
      "execution_count": 13,
      "metadata": {
        "colab": {
          "base_uri": "https://localhost:8080/",
          "height": 419
        },
        "id": "PaW3iyu4AyqH",
        "outputId": "eb450693-476c-40e6-a1f2-9f51654c44e6"
      },
      "outputs": [
        {
          "output_type": "execute_result",
          "data": {
            "text/plain": [
              "                          Steam_Game    USER_ID Behaviour_Name  Hours_played  \\\n",
              "0                    Cities Skylines       5250           play         144.0   \n",
              "1           Deus Ex Human Revolution       5250           play          62.0   \n",
              "2                           Portal 2       5250           play          13.6   \n",
              "3                        Alien Swarm       5250           play           4.9   \n",
              "4                    Team Fortress 2       5250           play           0.8   \n",
              "...                              ...        ...            ...           ...   \n",
              "129506  Age of Empires II HD Edition  309626088           play           6.7   \n",
              "129507                     Robocraft  309812026       purchase           1.0   \n",
              "129508                        Dota 2  309824202       purchase           1.0   \n",
              "129509                        Dota 2  309824202           play           0.7   \n",
              "129510                        Dota 2  309903146           play           0.2   \n",
              "\n",
              "       prev_value  new_feature  mean_Hourplayed  rating  GAME_ID  \n",
              "0        purchase            2        24.740000       5      850  \n",
              "1        purchase            2        22.032927       5     1243  \n",
              "2        purchase            2        16.639170       3     3207  \n",
              "3        purchase            2         4.973856       3      227  \n",
              "4        purchase            2        62.814683       0     4237  \n",
              "...           ...          ...              ...     ...      ...  \n",
              "129506   purchase            2        29.094937       2      174  \n",
              "129507   purchase            1        14.047447       0     3543  \n",
              "129508   purchase            1       151.237404       0     1331  \n",
              "129509   purchase            2       151.237404       0     1331  \n",
              "129510   purchase            2       151.237404       0     1331  \n",
              "\n",
              "[129511 rows x 9 columns]"
            ],
            "text/html": [
              "\n",
              "  <div id=\"df-5ba6e67c-ae1d-4cb3-8eab-0c21afba8f83\">\n",
              "    <div class=\"colab-df-container\">\n",
              "      <div>\n",
              "<style scoped>\n",
              "    .dataframe tbody tr th:only-of-type {\n",
              "        vertical-align: middle;\n",
              "    }\n",
              "\n",
              "    .dataframe tbody tr th {\n",
              "        vertical-align: top;\n",
              "    }\n",
              "\n",
              "    .dataframe thead th {\n",
              "        text-align: right;\n",
              "    }\n",
              "</style>\n",
              "<table border=\"1\" class=\"dataframe\">\n",
              "  <thead>\n",
              "    <tr style=\"text-align: right;\">\n",
              "      <th></th>\n",
              "      <th>Steam_Game</th>\n",
              "      <th>USER_ID</th>\n",
              "      <th>Behaviour_Name</th>\n",
              "      <th>Hours_played</th>\n",
              "      <th>prev_value</th>\n",
              "      <th>new_feature</th>\n",
              "      <th>mean_Hourplayed</th>\n",
              "      <th>rating</th>\n",
              "      <th>GAME_ID</th>\n",
              "    </tr>\n",
              "  </thead>\n",
              "  <tbody>\n",
              "    <tr>\n",
              "      <th>0</th>\n",
              "      <td>Cities Skylines</td>\n",
              "      <td>5250</td>\n",
              "      <td>play</td>\n",
              "      <td>144.0</td>\n",
              "      <td>purchase</td>\n",
              "      <td>2</td>\n",
              "      <td>24.740000</td>\n",
              "      <td>5</td>\n",
              "      <td>850</td>\n",
              "    </tr>\n",
              "    <tr>\n",
              "      <th>1</th>\n",
              "      <td>Deus Ex Human Revolution</td>\n",
              "      <td>5250</td>\n",
              "      <td>play</td>\n",
              "      <td>62.0</td>\n",
              "      <td>purchase</td>\n",
              "      <td>2</td>\n",
              "      <td>22.032927</td>\n",
              "      <td>5</td>\n",
              "      <td>1243</td>\n",
              "    </tr>\n",
              "    <tr>\n",
              "      <th>2</th>\n",
              "      <td>Portal 2</td>\n",
              "      <td>5250</td>\n",
              "      <td>play</td>\n",
              "      <td>13.6</td>\n",
              "      <td>purchase</td>\n",
              "      <td>2</td>\n",
              "      <td>16.639170</td>\n",
              "      <td>3</td>\n",
              "      <td>3207</td>\n",
              "    </tr>\n",
              "    <tr>\n",
              "      <th>3</th>\n",
              "      <td>Alien Swarm</td>\n",
              "      <td>5250</td>\n",
              "      <td>play</td>\n",
              "      <td>4.9</td>\n",
              "      <td>purchase</td>\n",
              "      <td>2</td>\n",
              "      <td>4.973856</td>\n",
              "      <td>3</td>\n",
              "      <td>227</td>\n",
              "    </tr>\n",
              "    <tr>\n",
              "      <th>4</th>\n",
              "      <td>Team Fortress 2</td>\n",
              "      <td>5250</td>\n",
              "      <td>play</td>\n",
              "      <td>0.8</td>\n",
              "      <td>purchase</td>\n",
              "      <td>2</td>\n",
              "      <td>62.814683</td>\n",
              "      <td>0</td>\n",
              "      <td>4237</td>\n",
              "    </tr>\n",
              "    <tr>\n",
              "      <th>...</th>\n",
              "      <td>...</td>\n",
              "      <td>...</td>\n",
              "      <td>...</td>\n",
              "      <td>...</td>\n",
              "      <td>...</td>\n",
              "      <td>...</td>\n",
              "      <td>...</td>\n",
              "      <td>...</td>\n",
              "      <td>...</td>\n",
              "    </tr>\n",
              "    <tr>\n",
              "      <th>129506</th>\n",
              "      <td>Age of Empires II HD Edition</td>\n",
              "      <td>309626088</td>\n",
              "      <td>play</td>\n",
              "      <td>6.7</td>\n",
              "      <td>purchase</td>\n",
              "      <td>2</td>\n",
              "      <td>29.094937</td>\n",
              "      <td>2</td>\n",
              "      <td>174</td>\n",
              "    </tr>\n",
              "    <tr>\n",
              "      <th>129507</th>\n",
              "      <td>Robocraft</td>\n",
              "      <td>309812026</td>\n",
              "      <td>purchase</td>\n",
              "      <td>1.0</td>\n",
              "      <td>purchase</td>\n",
              "      <td>1</td>\n",
              "      <td>14.047447</td>\n",
              "      <td>0</td>\n",
              "      <td>3543</td>\n",
              "    </tr>\n",
              "    <tr>\n",
              "      <th>129508</th>\n",
              "      <td>Dota 2</td>\n",
              "      <td>309824202</td>\n",
              "      <td>purchase</td>\n",
              "      <td>1.0</td>\n",
              "      <td>purchase</td>\n",
              "      <td>1</td>\n",
              "      <td>151.237404</td>\n",
              "      <td>0</td>\n",
              "      <td>1331</td>\n",
              "    </tr>\n",
              "    <tr>\n",
              "      <th>129509</th>\n",
              "      <td>Dota 2</td>\n",
              "      <td>309824202</td>\n",
              "      <td>play</td>\n",
              "      <td>0.7</td>\n",
              "      <td>purchase</td>\n",
              "      <td>2</td>\n",
              "      <td>151.237404</td>\n",
              "      <td>0</td>\n",
              "      <td>1331</td>\n",
              "    </tr>\n",
              "    <tr>\n",
              "      <th>129510</th>\n",
              "      <td>Dota 2</td>\n",
              "      <td>309903146</td>\n",
              "      <td>play</td>\n",
              "      <td>0.2</td>\n",
              "      <td>purchase</td>\n",
              "      <td>2</td>\n",
              "      <td>151.237404</td>\n",
              "      <td>0</td>\n",
              "      <td>1331</td>\n",
              "    </tr>\n",
              "  </tbody>\n",
              "</table>\n",
              "<p>129511 rows × 9 columns</p>\n",
              "</div>\n",
              "      <button class=\"colab-df-convert\" onclick=\"convertToInteractive('df-5ba6e67c-ae1d-4cb3-8eab-0c21afba8f83')\"\n",
              "              title=\"Convert this dataframe to an interactive table.\"\n",
              "              style=\"display:none;\">\n",
              "        \n",
              "  <svg xmlns=\"http://www.w3.org/2000/svg\" height=\"24px\"viewBox=\"0 0 24 24\"\n",
              "       width=\"24px\">\n",
              "    <path d=\"M0 0h24v24H0V0z\" fill=\"none\"/>\n",
              "    <path d=\"M18.56 5.44l.94 2.06.94-2.06 2.06-.94-2.06-.94-.94-2.06-.94 2.06-2.06.94zm-11 1L8.5 8.5l.94-2.06 2.06-.94-2.06-.94L8.5 2.5l-.94 2.06-2.06.94zm10 10l.94 2.06.94-2.06 2.06-.94-2.06-.94-.94-2.06-.94 2.06-2.06.94z\"/><path d=\"M17.41 7.96l-1.37-1.37c-.4-.4-.92-.59-1.43-.59-.52 0-1.04.2-1.43.59L10.3 9.45l-7.72 7.72c-.78.78-.78 2.05 0 2.83L4 21.41c.39.39.9.59 1.41.59.51 0 1.02-.2 1.41-.59l7.78-7.78 2.81-2.81c.8-.78.8-2.07 0-2.86zM5.41 20L4 18.59l7.72-7.72 1.47 1.35L5.41 20z\"/>\n",
              "  </svg>\n",
              "      </button>\n",
              "      \n",
              "  <style>\n",
              "    .colab-df-container {\n",
              "      display:flex;\n",
              "      flex-wrap:wrap;\n",
              "      gap: 12px;\n",
              "    }\n",
              "\n",
              "    .colab-df-convert {\n",
              "      background-color: #E8F0FE;\n",
              "      border: none;\n",
              "      border-radius: 50%;\n",
              "      cursor: pointer;\n",
              "      display: none;\n",
              "      fill: #1967D2;\n",
              "      height: 32px;\n",
              "      padding: 0 0 0 0;\n",
              "      width: 32px;\n",
              "    }\n",
              "\n",
              "    .colab-df-convert:hover {\n",
              "      background-color: #E2EBFA;\n",
              "      box-shadow: 0px 1px 2px rgba(60, 64, 67, 0.3), 0px 1px 3px 1px rgba(60, 64, 67, 0.15);\n",
              "      fill: #174EA6;\n",
              "    }\n",
              "\n",
              "    [theme=dark] .colab-df-convert {\n",
              "      background-color: #3B4455;\n",
              "      fill: #D2E3FC;\n",
              "    }\n",
              "\n",
              "    [theme=dark] .colab-df-convert:hover {\n",
              "      background-color: #434B5C;\n",
              "      box-shadow: 0px 1px 3px 1px rgba(0, 0, 0, 0.15);\n",
              "      filter: drop-shadow(0px 1px 2px rgba(0, 0, 0, 0.3));\n",
              "      fill: #FFFFFF;\n",
              "    }\n",
              "  </style>\n",
              "\n",
              "      <script>\n",
              "        const buttonEl =\n",
              "          document.querySelector('#df-5ba6e67c-ae1d-4cb3-8eab-0c21afba8f83 button.colab-df-convert');\n",
              "        buttonEl.style.display =\n",
              "          google.colab.kernel.accessAllowed ? 'block' : 'none';\n",
              "\n",
              "        async function convertToInteractive(key) {\n",
              "          const element = document.querySelector('#df-5ba6e67c-ae1d-4cb3-8eab-0c21afba8f83');\n",
              "          const dataTable =\n",
              "            await google.colab.kernel.invokeFunction('convertToInteractive',\n",
              "                                                     [key], {});\n",
              "          if (!dataTable) return;\n",
              "\n",
              "          const docLinkHtml = 'Like what you see? Visit the ' +\n",
              "            '<a target=\"_blank\" href=https://colab.research.google.com/notebooks/data_table.ipynb>data table notebook</a>'\n",
              "            + ' to learn more about interactive tables.';\n",
              "          element.innerHTML = '';\n",
              "          dataTable['output_type'] = 'display_data';\n",
              "          await google.colab.output.renderOutput(dataTable, element);\n",
              "          const docLink = document.createElement('div');\n",
              "          docLink.innerHTML = docLinkHtml;\n",
              "          element.appendChild(docLink);\n",
              "        }\n",
              "      </script>\n",
              "    </div>\n",
              "  </div>\n",
              "  "
            ]
          },
          "metadata": {},
          "execution_count": 13
        }
      ],
      "source": [
        "pandasdf['Steam_Game'] = pandasdf['Steam_Game'].astype('category')\n",
        "d = dict(enumerate(pandasdf['Steam_Game'].cat.categories))\n",
        "pandasdf['GAME_ID'] = pandasdf['Steam_Game'].cat.codes\n",
        "pandasdf"
      ]
    },
    {
      "cell_type": "code",
      "execution_count": 14,
      "metadata": {
        "id": "yKJn5GkeA31x"
      },
      "outputs": [],
      "source": [
        "newfeature = spark.createDataFrame(pandasdf)"
      ]
    },
    {
      "cell_type": "code",
      "execution_count": 15,
      "metadata": {
        "colab": {
          "base_uri": "https://localhost:8080/"
        },
        "id": "Xghs9Ka9A6EW",
        "outputId": "f712dfd4-2c13-4563-df6a-c94f3fa0351e"
      },
      "outputs": [
        {
          "output_type": "stream",
          "name": "stdout",
          "text": [
            "+--------------------+-------+--------------+-------------------+----------+-----------+------------------+------+-------+\n",
            "|          Steam_Game|USER_ID|Behaviour_Name|       Hours_played|prev_value|new_feature|   mean_Hourplayed|rating|GAME_ID|\n",
            "+--------------------+-------+--------------+-------------------+----------+-----------+------------------+------+-------+\n",
            "|     Cities Skylines|   5250|          play|              144.0|  purchase|          2| 24.74000000804663|     5|    850|\n",
            "|Deus Ex Human Rev...|   5250|          play|               62.0|  purchase|          2|22.032926833393372|     5|   1243|\n",
            "|            Portal 2|   5250|          play| 13.600000381469727|  purchase|          2|16.639169672806663|     3|   3207|\n",
            "|         Alien Swarm|   5250|          play|  4.900000095367432|  purchase|          2| 4.973856203331082|     3|    227|\n",
            "|     Team Fortress 2|   5250|          play|  0.800000011920929|  purchase|          2|62.814682541611305|     0|   4237|\n",
            "|              Dota 2|   5250|          play|0.20000000298023224|  purchase|          2| 151.2374038764504|     0|   1331|\n",
            "|Counter-Strike So...|   5250|      purchase|                1.0|  purchase|          1| 84.06663762899407|     0|    981|\n",
            "|       Day of Defeat|   5250|      purchase|                1.0|  purchase|          1| 3.686965814497099|     2|   1127|\n",
            "|  Deathmatch Classic|   5250|      purchase|                1.0|  purchase|          1|0.9834331344820544|     5|   1175|\n",
            "|           Half-Life|   5250|      purchase|                1.0|  purchase|          1| 2.446052636578679|     3|   2061|\n",
            "|         Half-Life 2|   5250|      purchase|                1.0|  purchase|          1|  7.06257763759505|     2|   2062|\n",
            "|Half-Life 2 Death...|   5250|      purchase|                1.0|  purchase|          1| 5.535354843947196|     2|   2063|\n",
            "|Half-Life 2 Episo...|   5250|      purchase|                1.0|  purchase|          1|2.7886889474634033|     2|   2064|\n",
            "|Half-Life 2 Episo...|   5250|      purchase|                1.0|  purchase|          1|3.7124653733503123|     2|   2065|\n",
            "|Half-Life 2 Lost ...|   5250|      purchase|                1.0|  purchase|          1|1.0078975457773647|     5|   2066|\n",
            "|Half-Life Blue Shift|   5250|      purchase|                1.0|  purchase|          1|1.1504155104138845|     4|   2068|\n",
            "|Half-Life Opposin...|   5250|      purchase|                1.0|  purchase|          1| 1.357458567010105|     4|   2070|\n",
            "|              Portal|   5250|      purchase|                1.0|  purchase|          1| 4.222452510437817|     2|   3206|\n",
            "|            Ricochet|   5250|      purchase|                1.0|  purchase|          1|1.0003968264375414|     5|   3512|\n",
            "|Team Fortress Cla...|   5250|      purchase|                1.0|  purchase|          1|0.9909589039544536|     5|   4238|\n",
            "+--------------------+-------+--------------+-------------------+----------+-----------+------------------+------+-------+\n",
            "only showing top 20 rows\n",
            "\n"
          ]
        }
      ],
      "source": [
        "newfeature.show()"
      ]
    },
    {
      "cell_type": "code",
      "execution_count": 16,
      "metadata": {
        "colab": {
          "base_uri": "https://localhost:8080/"
        },
        "id": "BC1Y0RmwZi96",
        "outputId": "ee42a74e-839a-4099-a287-a92a54ff3052"
      },
      "outputs": [
        {
          "output_type": "stream",
          "name": "stdout",
          "text": [
            " [Item => (User,Rating)..] RDD is shown below \n"
          ]
        },
        {
          "output_type": "execute_result",
          "data": {
            "text/plain": [
              "[('Cities Skylines',\n",
              "  [(50769696, 2.0),\n",
              "   (1936551, 0.0),\n",
              "   (112986636, 0.0),\n",
              "   (64514291, 0.0),\n",
              "   (64514291, 5.0),\n",
              "   (163930591, 0.0),\n",
              "   (64754418, 0.0),\n",
              "   (261857176, 0.0),\n",
              "   (122551425, 2.0),\n",
              "   (77818807, 0.0),\n",
              "   (11373749, 0.0),\n",
              "   (83975567, 5.0),\n",
              "   (23672423, 3.0),\n",
              "   (275437638, 5.0),\n",
              "   (24366790, 5.0),\n",
              "   (228209477, 0.0),\n",
              "   (298950, 0.0),\n",
              "   (135012938, 0.0),\n",
              "   (86055705, 2.0),\n",
              "   (20704366, 3.0),\n",
              "   (77980915, 4.0),\n",
              "   (100070732, 5.0),\n",
              "   (120237789, 2.0),\n",
              "   (50744279, 2.0),\n",
              "   (76296787, 3.0),\n",
              "   (42005897, 3.0),\n",
              "   (80154824, 0.0),\n",
              "   (133422169, 2.0),\n",
              "   (172518437, 0.0),\n",
              "   (159365538, 2.0),\n",
              "   (10253354, 2.0),\n",
              "   (66255019, 0.0),\n",
              "   (34919318, 2.0),\n",
              "   (130460859, 5.0),\n",
              "   (144071257, 0.0),\n",
              "   (135400225, 5.0),\n",
              "   (263936784, 2.0),\n",
              "   (117370965, 3.0),\n",
              "   (3449240, 2.0),\n",
              "   (83671083, 0.0),\n",
              "   (46028967, 2.0),\n",
              "   (142475478, 3.0),\n",
              "   (263936784, 0.0),\n",
              "   (54826284, 2.0),\n",
              "   (145825155, 2.0),\n",
              "   (27262175, 2.0),\n",
              "   (9823354, 0.0),\n",
              "   (170377069, 5.0),\n",
              "   (74855005, 5.0),\n",
              "   (48386574, 3.0),\n",
              "   (127117386, 0.0),\n",
              "   (127628725, 5.0),\n",
              "   (5250, 5.0),\n",
              "   (31187179, 2.0),\n",
              "   (205829374, 5.0),\n",
              "   (100351493, 2.0),\n",
              "   (155919035, 2.0),\n",
              "   (143877335, 5.0),\n",
              "   (67694595, 2.0),\n",
              "   (77830706, 3.0),\n",
              "   (82046939, 2.0),\n",
              "   (298446224, 0.0),\n",
              "   (65315657, 5.0),\n",
              "   (158429732, 4.0),\n",
              "   (298516674, 0.0),\n",
              "   (105503045, 0.0),\n",
              "   (46301758, 5.0),\n",
              "   (8259307, 0.0),\n",
              "   (88035166, 2.0),\n",
              "   (27403206, 2.0),\n",
              "   (168324795, 0.0),\n",
              "   (180501401, 3.0),\n",
              "   (63276972, 4.0),\n",
              "   (257528104, 4.0),\n",
              "   (39622853, 2.0),\n",
              "   (115396529, 2.0),\n",
              "   (47457723, 5.0),\n",
              "   (180753437, 5.0),\n",
              "   (68719896, 2.0),\n",
              "   (163432200, 5.0),\n",
              "   (228209477, 2.0),\n",
              "   (24469287, 0.0),\n",
              "   (29873979, 0.0),\n",
              "   (175447188, 3.0),\n",
              "   (91729217, 2.0),\n",
              "   (224751217, 0.0),\n",
              "   (228343275, 0.0),\n",
              "   (53875128, 0.0),\n",
              "   (131348564, 3.0),\n",
              "   (183315077, 0.0),\n",
              "   (23717586, 0.0),\n",
              "   (7907686, 2.0),\n",
              "   (112986636, 5.0),\n",
              "   (39319649, 0.0),\n",
              "   (135012938, 2.0),\n",
              "   (45974860, 4.0),\n",
              "   (31669242, 3.0),\n",
              "   (34901647, 2.0),\n",
              "   (196595568, 0.0),\n",
              "   (113196318, 5.0)])]"
            ]
          },
          "metadata": {},
          "execution_count": 16
        }
      ],
      "source": [
        "import random\n",
        "'''\n",
        "Generate Spark matrix Item for Model input\n",
        "\n",
        "     item_id_1 -> [(userid_1, rating_1),\n",
        "                   (userid_2, rating_2),...] \n",
        "'''\n",
        "\n",
        "def ItemUsersPairs(line):\n",
        "    '''\n",
        "    Generate Item,(User,Rating) pairs\n",
        "    '''\n",
        "    #line = line.split(\",\")\n",
        "    print(line)\n",
        "    return line[0],(line[1],float(line[7]))\n",
        "\n",
        "def ItemUserInteractions(item,users_with_rating,n):\n",
        "    '''\n",
        "    For users with # interactions > n,to subsample replace their interaction history\n",
        "    with a sample of n items_with_rating\n",
        "    '''\n",
        "    if len(users_with_rating) > n:\n",
        "        #return item,users_with_rating[:n]\n",
        "        return item,random.sample(users_with_rating,n)\n",
        "    else:\n",
        "        #return item, users_with_rating[:n]\n",
        "        return item, users_with_rating\n",
        "\n",
        "user_item_pairs = newfeature2.rdd.map(lambda x : ItemUsersPairs(x)).groupByKey().map(lambda p: ItemUserInteractions(p[0],list(p[1]),100))\n",
        "\n",
        "def f(x): return x\n",
        "game_ratings_df_flatten = user_item_pairs.flatMapValues(f)\n",
        "game_rating = game_ratings_df_flatten.map(lambda p:(p[0], p[1][0], p[1][1]))\n",
        "# \\                               .map(lambda p: Row(userId=int(p[1]), itemId=(p[0]),rating=float(p[2])))\n",
        "\n",
        "print(\" [Item => (User,Rating)..] RDD is shown below \")\n",
        "user_item_pairs.take(1)"
      ]
    },
    {
      "cell_type": "code",
      "execution_count": 17,
      "metadata": {
        "colab": {
          "base_uri": "https://localhost:8080/"
        },
        "id": "6yaMD5myZ0nd",
        "outputId": "38fbd194-5931-4088-f329-810a02a52c62"
      },
      "outputs": [
        {
          "output_type": "stream",
          "name": "stdout",
          "text": [
            "Looking in indexes: https://pypi.org/simple, https://us-python.pkg.dev/colab-wheels/public/simple/\n",
            "Collecting numerize\n",
            "  Downloading numerize-0.12.tar.gz (2.7 kB)\n",
            "  Preparing metadata (setup.py) ... \u001b[?25l\u001b[?25hdone\n",
            "Building wheels for collected packages: numerize\n",
            "  Building wheel for numerize (setup.py) ... \u001b[?25l\u001b[?25hdone\n",
            "  Created wheel for numerize: filename=numerize-0.12-py3-none-any.whl size=3174 sha256=816e6cd343304dda4c7a13a4b5800af37b37af5ba8991f3b54e128ea950c36e1\n",
            "  Stored in directory: /root/.cache/pip/wheels/d3/85/3a/c063c399e65688038ecc09dd96a4ac5b188d98e10dcd7c51a8\n",
            "Successfully built numerize\n",
            "Installing collected packages: numerize\n",
            "Successfully installed numerize-0.12\n"
          ]
        }
      ],
      "source": [
        "pip install numerize"
      ]
    },
    {
      "cell_type": "code",
      "execution_count": 18,
      "metadata": {
        "colab": {
          "base_uri": "https://localhost:8080/"
        },
        "id": "lhwHkvacZ9Il",
        "outputId": "6d12175e-0a10-49c1-acb3-e56153c31ae5"
      },
      "outputs": [
        {
          "output_type": "stream",
          "name": "stdout",
          "text": [
            "Total Item,item Pair record count in Training Data :  7.8M\n",
            "Item1-Item2=>Rating1,Rating2 Dataframe input to the model is shown below : \n",
            "+---------------+----------------------------------------------------+------+-------+\n",
            "|itemId         |itemId2                                             |rating|rating2|\n",
            "+---------------+----------------------------------------------------+------+-------+\n",
            "|Cities Skylines|Deus Ex Human Revolution                            |5.0   |5.0    |\n",
            "|Cities Skylines|Alien Swarm                                         |5.0   |3.0    |\n",
            "|Cities Skylines|Day of Defeat                                       |5.0   |2.0    |\n",
            "|Cities Skylines|Half-Life 2 Episode Two                             |5.0   |2.0    |\n",
            "|Cities Skylines|Half-Life                                           |0.0   |3.0    |\n",
            "|Cities Skylines|Team Fortress Classic                               |0.0   |5.0    |\n",
            "|Cities Skylines|Far Cry 3                                           |0.0   |2.0    |\n",
            "|Cities Skylines|FTL Faster Than Light                               |0.0   |5.0    |\n",
            "|Cities Skylines|Legend of Grimrock                                  |0.0   |4.0    |\n",
            "|Cities Skylines|Mark of the Ninja                                   |0.0   |5.0    |\n",
            "|Cities Skylines|Hotline Miami                                       |0.0   |2.0    |\n",
            "|Cities Skylines|Machinarium                                         |0.0   |5.0    |\n",
            "|Cities Skylines|Castle Crashers                                     |0.0   |5.0    |\n",
            "|Cities Skylines|Gone Home                                           |0.0   |3.0    |\n",
            "|Cities Skylines|Trine 2                                             |0.0   |2.0    |\n",
            "|Cities Skylines|The Lord of the Rings War in the North              |0.0   |0.0    |\n",
            "|Cities Skylines|Gunpoint                                            |0.0   |0.0    |\n",
            "|Cities Skylines|Warhammer 40,000 Dawn of War II                     |0.0   |3.0    |\n",
            "|Cities Skylines|Nidhogg                                             |0.0   |0.0    |\n",
            "|Cities Skylines|Octodad Dadliest Catch                              |0.0   |5.0    |\n",
            "|Cities Skylines|Guacamelee! Gold Edition                            |0.0   |3.0    |\n",
            "|Cities Skylines|The Swapper                                         |0.0   |2.0    |\n",
            "|Cities Skylines|The Banner Saga                                     |0.0   |5.0    |\n",
            "|Cities Skylines|F.E.A.R. 3                                          |0.0   |2.0    |\n",
            "|Cities Skylines|The Banner Saga - Mod Content                       |0.0   |1.0    |\n",
            "|Cities Skylines|World of Goo                                        |0.0   |5.0    |\n",
            "|Cities Skylines|Darkest Hour Europe '44-'45                         |0.0   |0.0    |\n",
            "|Cities Skylines|Day of Defeat Source                                |0.0   |0.0    |\n",
            "|Cities Skylines|Mare Nostrum                                        |0.0   |5.0    |\n",
            "|Cities Skylines|Red Orchestra Ostfront 41-45                        |0.0   |2.0    |\n",
            "|Cities Skylines|Sid Meier's Civilization IV Colonization            |0.0   |5.0    |\n",
            "|Cities Skylines|Napoleon Total War                                  |0.0   |0.0    |\n",
            "|Cities Skylines|SteamWorld Dig                                      |0.0   |2.0    |\n",
            "|Cities Skylines|Confrontation                                       |0.0   |5.0    |\n",
            "|Cities Skylines|Cities XL Platinum                                  |0.0   |2.0    |\n",
            "|Cities Skylines|Project Zomboid                                     |0.0   |0.0    |\n",
            "|Cities Skylines|Wizorb                                              |0.0   |2.0    |\n",
            "|Cities Skylines|Windosill                                           |0.0   |5.0    |\n",
            "|Cities Skylines|Divinity II Developer's Cut                         |0.0   |2.0    |\n",
            "|Cities Skylines|FEZ                                                 |0.0   |5.0    |\n",
            "|Cities Skylines|Game of Thrones                                     |0.0   |2.0    |\n",
            "|Cities Skylines|Giana Sisters Twisted Dreams                        |0.0   |5.0    |\n",
            "|Cities Skylines|Hammerwatch                                         |0.0   |0.0    |\n",
            "|Cities Skylines|Medieval II Total War Kingdoms                      |0.0   |0.0    |\n",
            "|Cities Skylines|Red Orchestra 2 Heroes of Stalingrad - Single Player|0.0   |4.0    |\n",
            "|Cities Skylines|Supreme Commander Forged Alliance                   |0.0   |0.0    |\n",
            "|Cities Skylines|Rayman Legends                                      |0.0   |5.0    |\n",
            "|Cities Skylines|Sid Meier's Ace Patrol                              |0.0   |5.0    |\n",
            "|Cities Skylines|Magic 2015                                          |0.0   |3.0    |\n",
            "|Cities Skylines|Pat & Mat                                           |0.0   |5.0    |\n",
            "+---------------+----------------------------------------------------+------+-------+\n",
            "only showing top 50 rows\n",
            "\n"
          ]
        }
      ],
      "source": [
        "from numerize import numerize\n",
        "# Model Train -Test Split\n",
        "\n",
        "\n",
        "(training,test) = game_rating.randomSplit([0.8,0.2],2000)\n",
        "\n",
        "game_ratings  =  training.map(lambda p: Row(userId=int(p[1]), itemId=(p[0]), rating=float(p[2])))\n",
        "game_ratings_2  =  training.map(lambda p: Row(userId2=int(p[1]), itemId2=(p[0]), rating2=float(p[2])))\n",
        "game_ratingsdf = spark.createDataFrame(game_ratings)\n",
        "game_ratingsdf2 = spark.createDataFrame(game_ratings_2)\n",
        "\n",
        "#Generating Item1,Item2 => UserRating1,UserRating2 combinations on train data\n",
        "game_df = game_ratingsdf.join(game_ratingsdf2, ( \\\n",
        "                                                           (game_ratingsdf.itemId != game_ratingsdf2.itemId2) & \\\n",
        "                                                           (game_ratingsdf.userId == game_ratingsdf2.userId2)) \\\n",
        "                                        ,'left') \\\n",
        "                                  .select(\"itemId\",\"itemId2\",\"rating\",\"rating2\")\n",
        "game_df1 = game_df.na.fill(0)\n",
        "game_user_ratingrdd = game_df1.rdd\n",
        "\n",
        "#Total Count of Item-Item Pair and their rating data by users in Training Data\n",
        "ItemPairCount  = game_user_ratingrdd.count()\n",
        "print(\"Total Item,item Pair record count in Training Data : \", numerize.numerize(ItemPairCount))\n",
        "\n",
        "#Item-Item Pair and their rating data by users in Training Data\n",
        "print(\"Item1-Item2=>Rating1,Rating2 Dataframe input to the model is shown below : \")\n",
        "game_df1.show(50,truncate=False)"
      ]
    },
    {
      "cell_type": "code",
      "execution_count": 19,
      "metadata": {
        "colab": {
          "base_uri": "https://localhost:8080/"
        },
        "id": "nUAYZ2sQZ9vr",
        "outputId": "d6be0351-9d48-43c5-ac1d-66d764d5fdee"
      },
      "outputs": [
        {
          "output_type": "stream",
          "name": "stdout",
          "text": [
            "Cosine Distance calculated for our rating data for each game-game combination : \n",
            "+---------------------------------------------------------------------------------------------------+----------+----------+-----------+------------------+------------------+------------------+\n",
            "|item_pair                                                                                          |Cosim_sumx|Cosim_sumy|Cosim_sumxy|Cosim_sumx_sqrt   |Cosim_sumy_sqrt   |Cosine_Similarity |\n",
            "+---------------------------------------------------------------------------------------------------+----------+----------+-----------+------------------+------------------+------------------+\n",
            "|{1... 2... 3... KICK IT! (Drop That Beat Like an Ugly Baby), Age of Empires II HD The Forgotten}   |4.0       |1.0       |2.0        |2.0               |1.0               |1.0               |\n",
            "|{1... 2... 3... KICK IT! (Drop That Beat Like an Ugly Baby), Company of Heroes (New Steam Version)}|4.0       |4.0       |4.0        |2.0               |2.0               |1.0               |\n",
            "|{1... 2... 3... KICK IT! (Drop That Beat Like an Ugly Baby), Karos}                                |25.0      |1.0       |5.0        |5.0               |1.0               |1.0               |\n",
            "|{1... 2... 3... KICK IT! (Drop That Beat Like an Ugly Baby), Path of Exile}                        |4.0       |16.0      |8.0        |2.0               |4.0               |1.0               |\n",
            "|{1... 2... 3... KICK IT! (Drop That Beat Like an Ugly Baby), Sid Meier's Covert Action (Classic)}  |4.0       |1.0       |2.0        |2.0               |1.0               |1.0               |\n",
            "|{1... 2... 3... KICK IT! (Drop That Beat Like an Ugly Baby), Space Pirates and Zombies}            |25.0      |0.0       |0.0        |5.0               |0.0               |0.0               |\n",
            "|{1... 2... 3... KICK IT! (Drop That Beat Like an Ugly Baby), Toribash}                             |25.0      |4.0       |10.0       |5.0               |2.0               |1.0               |\n",
            "|{1... 2... 3... KICK IT! (Drop That Beat Like an Ugly Baby), X-Blades}                             |25.0      |25.0      |25.0       |5.0               |5.0               |1.0               |\n",
            "|{10 Second Ninja, Max Payne 3}                                                                     |18.0      |13.0      |15.0       |4.242640687119285 |3.605551275463989 |0.9805806756909203|\n",
            "|{10 Second Ninja, Overlord Raising Hell}                                                           |18.0      |8.0       |12.0       |4.242640687119285 |2.8284271247461903|1.0               |\n",
            "|{10 Second Ninja, Real World Racing Amsterdam & Oakland}                                           |9.0       |1.0       |3.0        |3.0               |1.0               |1.0               |\n",
            "|{10 Second Ninja, Stealth Bastard Deluxe - The Teleporter Chambers}                                |9.0       |1.0       |3.0        |3.0               |1.0               |1.0               |\n",
            "|{10,000,000, Go! Go! Nippon! ~My First Trip to Japan~}                                             |9.0       |9.0       |9.0        |3.0               |3.0               |1.0               |\n",
            "|{10,000,000, Heroes of Might & Magic III - HD Edition}                                             |9.0       |4.0       |6.0        |3.0               |2.0               |1.0               |\n",
            "|{10,000,000, Magicka The Watchtower}                                                               |9.0       |1.0       |3.0        |3.0               |1.0               |1.0               |\n",
            "|{10,000,000, Shadow Warrior Classic Redux}                                                         |9.0       |0.0       |0.0        |3.0               |0.0               |0.0               |\n",
            "|{10,000,000, The Dig}                                                                              |9.0       |9.0       |9.0        |3.0               |3.0               |1.0               |\n",
            "|{100% Orange Juice, Wasteland 1 - The Original Classic}                                            |0.0       |16.0      |0.0        |0.0               |4.0               |0.0               |\n",
            "|{12 Labours of Hercules, Anomaly Warzone Earth}                                                    |54.0      |49.0      |50.0       |7.3484692283495345|7.0               |0.9720197391996739|\n",
            "|{12 Labours of Hercules, Counter-Strike Condition Zero}                                            |16.0      |0.0       |0.0        |4.0               |0.0               |0.0               |\n",
            "+---------------------------------------------------------------------------------------------------+----------+----------+-----------+------------------+------------------+------------------+\n",
            "only showing top 20 rows\n",
            "\n"
          ]
        }
      ],
      "source": [
        "# Generating Cosine Distance for item-item pair for all user ratings\n",
        "pairwise_items = game_user_ratingrdd.map(lambda p: ((p[0],p[1]),(p[2],p[3])))\\\n",
        "                                     .map(lambda p:(p[0],p[1],p[1][0]*p[1][0],p[1][1]*p[1][1],p[1][0]*p[1][1]))\\\n",
        "                                     .map(lambda p: Row(item_pair=p[0], rating_pair=p[1],cosim_x = p[2],cosim_y = p[3],cosim_xy = p[4] ))\n",
        "pairwise_item_df = spark.createDataFrame(pairwise_items)\n",
        "\n",
        "pairwise = pairwise_item_df.groupBy(\"item_pair\").agg(sum(\"cosim_x\").alias(\"Cosim_sumx\"),\\\n",
        "                                                sum(\"cosim_y\").alias(\"Cosim_sumy\"),\\\n",
        "                                                sum(\"cosim_xy\").alias(\"Cosim_sumxy\"),\\\n",
        "                                               )\n",
        "pairwsie_sqrt = pairwise.withColumn(\"Cosim_sumx_sqrt\",sqrt(\"Cosim_sumx\")).withColumn(\"Cosim_sumy_sqrt\",sqrt(\"Cosim_sumy\"))\n",
        "pairwise_cosine = pairwsie_sqrt.withColumn(\"Cosine_Similarity\", (pairwsie_sqrt.Cosim_sumxy /((pairwsie_sqrt.Cosim_sumx_sqrt * pairwsie_sqrt.Cosim_sumy_sqrt))))\n",
        "pairwise_cosine = pairwise_cosine.na.fill(0)\n",
        "pairwise_cosinerdd = pairwise_cosine.rdd\n",
        "\n",
        "#Cosine Distance calculated for our rating data for each game-game combination\n",
        "print(\"Cosine Distance calculated for our rating data for each game-game combination : \")\n",
        "pairwise_cosine.show(truncate=False)"
      ]
    },
    {
      "cell_type": "code",
      "execution_count": 20,
      "metadata": {
        "id": "HXMgO5icaBKY"
      },
      "outputs": [],
      "source": [
        "def keyOnFirstItem(item_pair,item_sim_data):\n",
        "    '''\n",
        "    For each item-item pair, make the first item's id the key\n",
        "    '''\n",
        "    (item1_id,item2_id) = item_pair\n",
        "    return item1_id,(item2_id,item_sim_data)\n",
        "\n",
        "def nearestNeighbors(item_id,items_and_sims,n):\n",
        "    '''\n",
        "    Sort the predictions list by similarity and select the top-N neighbors\n",
        "    '''\n",
        "    items_and_sims.sort(key=lambda x: x[1],reverse=True)\n",
        "    return item_id, items_and_sims[:n]"
      ]
    },
    {
      "cell_type": "code",
      "execution_count": 21,
      "metadata": {
        "colab": {
          "base_uri": "https://localhost:8080/"
        },
        "id": "hjg6Geo_aDGH",
        "outputId": "49e7bd3a-e29b-4e5d-e1f8-36e590ac8b0d"
      },
      "outputs": [
        {
          "output_type": "stream",
          "name": "stdout",
          "text": [
            "Generate Top 5 Neighbours based on Cosine Similarity Distance for USER_ID - 151603712 : \n",
            "+---------+-------+------+-------+--------------------+-----------+------------+----------+\n",
            "|   userId| itemId|rating|   item|             item_nn|item_cosine|totalratings|CosimTotal|\n",
            "+---------+-------+------+-------+--------------------+-----------+------------+----------+\n",
            "|151603712|Eldevin|   0.0|Eldevin|Age of Empires II...|        1.0|         0.0|       2.0|\n",
            "|151603712|Eldevin|   0.0|Eldevin|             Loadout|        1.0|         0.0|       2.0|\n",
            "|151603712|Eldevin|   0.0|Eldevin|Memories of a Vag...|        1.0|         0.0|       2.0|\n",
            "|151603712|Eldevin|   0.0|Eldevin|The Ship Single P...|        1.0|         0.0|       2.0|\n",
            "|151603712|Eldevin|   0.0|Eldevin|   The Ship Tutorial|        1.0|         0.0|       2.0|\n",
            "+---------+-------+------+-------+--------------------+-----------+------------+----------+\n",
            "only showing top 5 rows\n",
            "\n"
          ]
        }
      ],
      "source": [
        "# Generate Top K Neighbours based on Cosine Similarity Distance\n",
        "pair_wise_nn = pairwise_cosinerdd.map(lambda p:keyOnFirstItem(p[0],p[6]))\\\n",
        "                  .groupByKey()\\\n",
        "                  .map( lambda p : (p[0], list(p[1])))\\\n",
        "                  .map( lambda p: nearestNeighbors(p[0],p[1],5))\\\n",
        "                  .map( lambda p: Row(item=p[0], item_rating_list=p[1]))\n",
        "\n",
        "def f(x): return x\n",
        "cosine_pairs = pair_wise_nn.flatMapValues(f)\n",
        "\n",
        "cosine_pairsnn = cosine_pairs.map(lambda p:(p[0],p[1][0],p[1][1]))\\\n",
        "                             .map(lambda p: Row(item=p[0], item_nn=p[1], item_cosine = p[2]))\n",
        "\n",
        "cosine_pairsnn_df = spark.createDataFrame(cosine_pairsnn)\n",
        "\n",
        "topknn = game_ratingsdf.join(cosine_pairsnn_df, cosine_pairsnn_df.item == game_ratingsdf.itemId, 'left')\n",
        "\n",
        "\n",
        "topknn_cosim = topknn.withColumn(\"totalratings\",topknn.rating * topknn.item_cosine )\\\n",
        "                     .withColumn(\"CosimTotal\", topknn.item_cosine + topknn.item_cosine )\n",
        "\n",
        "topknn_cosine = topknn_cosim.groupBy(\"itemId\",\"item_nn\").agg(sum(\"totalratings\").alias(\"total_ratings\"),\\\n",
        "                                                sum(\"CosimTotal\").alias(\"CosineTotal\"),\\\n",
        "                                               )\n",
        "topknn_cosimrdd = topknn_cosim.rdd\n",
        "print(\"Generate Top 5 Neighbours based on Cosine Similarity Distance for USER_ID - 151603712 : \")\n",
        "topknn_cosim.where(\"userId = 151603712\").show(5)"
      ]
    },
    {
      "cell_type": "code",
      "execution_count": 22,
      "metadata": {
        "colab": {
          "base_uri": "https://localhost:8080/"
        },
        "id": "uGospLudxwAR",
        "outputId": "e6400b1d-742d-4804-97ff-5678c39fad2f"
      },
      "outputs": [
        {
          "output_type": "stream",
          "name": "stdout",
          "text": [
            "RMSE of KNN Implementation using Cosine Similarity:  2.075639044968428\n"
          ]
        }
      ],
      "source": [
        "#Evaluation\n",
        "Testratings  =  test.map(lambda p: Row(TestItemID=str(p[0]),testrating=float(p[2])))\\\n",
        "                    .map(lambda p: Row(TestItemID=str(p[0]),testrating=(p[1])))\n",
        "Predratings  =  topknn_cosimrdd.map(lambda p: Row(PredItemID=str(p[1]),Predictedrating=(p[2])))\n",
        "\n",
        "Testratingsdf = spark.createDataFrame(Testratings)\n",
        "Predratingsdf = spark.createDataFrame(Predratings)\n",
        "\n",
        "Pred =  Predratingsdf.join(Testratingsdf,Testratingsdf.TestItemID ==  Predratingsdf.PredItemID,\"inner\")\n",
        "\n",
        "Pred = Pred.na.fill(0)\n",
        "preds = Pred.select(\"Predictedrating\",\"testrating\")\n",
        "\n",
        "evaluator = RegressionEvaluator(metricName=\"rmse\", labelCol=\"testrating\",\n",
        "                                predictionCol=\"Predictedrating\")\n",
        "rmse = evaluator.evaluate(preds)\n",
        "print(\"RMSE of KNN Implementation using Cosine Similarity: \",rmse)"
      ]
    },
    {
      "cell_type": "code",
      "execution_count": 23,
      "metadata": {
        "id": "ENOUX8asysDJ"
      },
      "outputs": [],
      "source": [
        "##Pearson Coefficient Implementation for SteamGame Recommender System\n",
        "\n",
        "#(training,test) = game_rating.randomSplit([0.8,0.2],2000)\n",
        "pe_cf_game_ratings  =  training.map(lambda p: Row(userId=int(p[1]), itemId=str(p[0]),rating=float(p[2])))\n",
        "pe_cf_game_ratings_2  =  training.map(lambda p: Row(userId2=int(p[1]), itemId2=str(p[0]),rating2=float(p[2])))\n",
        "pe_cf_game_ratingsdf = spark.createDataFrame(pe_cf_game_ratings)\n",
        "pe_cf_game_ratingsdf2 = spark.createDataFrame(pe_cf_game_ratings_2)\n",
        "\n",
        "## Subtracting Mean User Game Ratings from the ratings data \n",
        "User_mean = pe_cf_game_ratingsdf.groupBy(\"userId\").agg({'rating' : 'mean'}).withColumnRenamed(\"avg(rating)\", \"user_mean\")\\\n",
        "                                                                            .withColumnRenamed(\"userId\", \"meanuserId\")\n",
        "pe_cf_game_ratingsdf_Umean = pe_cf_game_ratingsdf.join(User_mean, ( \\\n",
        "                                                           (pe_cf_game_ratingsdf.userId == User_mean.meanuserId)) \\\n",
        "                                        ,'left').select(pe_cf_game_ratingsdf.userId,pe_cf_game_ratingsdf.itemId,pe_cf_game_ratingsdf.rating,User_mean.user_mean)\n",
        "\n",
        "pe_cf_game_ratingsdf2_Umean = pe_cf_game_ratingsdf2.join(User_mean, ( \\\n",
        "                                                           (pe_cf_game_ratingsdf2.userId2 == User_mean.meanuserId)) \\\n",
        "                                        ,'left').select(pe_cf_game_ratingsdf2.userId2,pe_cf_game_ratingsdf2.itemId2,pe_cf_game_ratingsdf2.rating2,User_mean.user_mean)                                                    \n",
        "pe_cf_MeanDeviation= pe_cf_game_ratingsdf_Umean.withColumn(\"UserRatingDeviation\",pe_cf_game_ratingsdf_Umean.rating - pe_cf_game_ratingsdf_Umean.user_mean)\n",
        "\n",
        "pe_cf_MeanDeviation2= pe_cf_game_ratingsdf2_Umean.withColumn(\"UserRatingDeviation2\",pe_cf_game_ratingsdf2_Umean.rating2 - pe_cf_game_ratingsdf2_Umean.user_mean)\n",
        "\n",
        "\n",
        "#Generating Item1,Item2 => UserRating1,UserRating2 combinations on train data\n",
        "pe_cf_game_df = pe_cf_MeanDeviation.join(pe_cf_MeanDeviation2, ( \\\n",
        "                                                           (pe_cf_MeanDeviation.itemId != pe_cf_MeanDeviation2.itemId2) & \\\n",
        "                                                           (pe_cf_MeanDeviation.userId == pe_cf_MeanDeviation2.userId2)) \\\n",
        "                                        ,'left') \\\n",
        "                                  .select(\"itemId\",\"itemId2\",\"UserRatingDeviation\",\"UserRatingDeviation\")\n",
        "pe_cf_game_df1 = pe_cf_game_df.na.fill(0)\n",
        "pe_cf_game_user_ratingrdd = pe_cf_game_df1.rdd\n",
        "\n",
        "# Generating Cosine Distance for item-item pair for all user ratings\n",
        "pe_cf_pairwise_items = pe_cf_game_user_ratingrdd.map(lambda p: ((p[0],p[1]),(p[2],p[3])))\\\n",
        "                                     .map(lambda p:(p[0],p[1],p[1][0]*p[1][0],p[1][1]*p[1][1],p[1][0]*p[1][1]))\\\n",
        "                                     .map(lambda p: Row(item_pair=p[0], rating_pair=p[1],cosim_x = p[2],cosim_y = p[3],cosim_xy = p[4] ))\n",
        "pe_cf_pairwise_item_df = spark.createDataFrame(pe_cf_pairwise_items)\n",
        "pe_cf_pairwise = pe_cf_pairwise_item_df.groupBy(\"item_pair\").agg(sum(\"cosim_x\").alias(\"Cosim_sumx\"),\\\n",
        "                                                sum(\"cosim_y\").alias(\"Cosim_sumy\"),\\\n",
        "                                                sum(\"cosim_xy\").alias(\"Cosim_sumxy\"),\\\n",
        "                                               )\n",
        "pe_cf_pairwsie_sqrt = pe_cf_pairwise.withColumn(\"Cosim_sumx_sqrt\",sqrt(\"Cosim_sumx\")).withColumn(\"Cosim_sumy_sqrt\",sqrt(\"Cosim_sumy\"))\n",
        "pe_cf_pairwise_cosine = pe_cf_pairwsie_sqrt.withColumn(\"Cosine_Similarity\", (pe_cf_pairwsie_sqrt.Cosim_sumxy /((pe_cf_pairwsie_sqrt.Cosim_sumx_sqrt * pe_cf_pairwsie_sqrt.Cosim_sumy_sqrt)+0.5))+0)\n",
        "pe_cf_pairwise_cosine = pe_cf_pairwise_cosine.na.fill(0)\n",
        "pe_cf_pairwise_cosinerdd = pe_cf_pairwise_cosine.rdd\n",
        "\n",
        "\n",
        "# Generate Top K Neighbours based on Cosine Similarity Distance\n",
        "pe_cf_pair_wise_nn = pe_cf_pairwise_cosinerdd.map(lambda p:keyOnFirstItem(p[0],p[6]))\\\n",
        "                  .groupByKey()\\\n",
        "                  .map( lambda p : (p[0], list(p[1])))\\\n",
        "                  .map( lambda p: nearestNeighbors(p[0],p[1],5))\\\n",
        "                  .map(lambda p: Row(item=p[0], item_rating_list=p[1]))\n",
        "\n",
        "def f(x): return x\n",
        "pe_cf_cosine_pairs = pe_cf_pair_wise_nn.flatMapValues(f)\n",
        "pe_cf_cosine_pairsnn = pe_cf_cosine_pairs.map(lambda p:(p[0],p[1][0],p[1][1]))\\\n",
        "                             .map(lambda p: Row(item=p[0], item_nn=p[1], item_cosine = p[2]))\n",
        "pe_cf_cosine_pairsnn_df = spark.createDataFrame(pe_cf_cosine_pairsnn)\n",
        "\n",
        "pe_cf_topknn = pe_cf_game_ratingsdf.join(pe_cf_cosine_pairsnn_df, pe_cf_cosine_pairsnn_df.item == pe_cf_game_ratingsdf.itemId, 'left')\n",
        "pe_cf_topknn_cosim = pe_cf_topknn.withColumn(\"totalratings\",pe_cf_topknn.rating * pe_cf_topknn.item_cosine*2 )\\\n",
        "                     .withColumn(\"CosimTotal\",pe_cf_topknn.item_cosine + pe_cf_topknn.item_cosine )\n",
        "pe_cf_topknn_cosine = pe_cf_topknn_cosim.groupBy(\"itemId\",\"item_nn\").agg(sum(\"totalratings\").alias(\"total_ratings\"),\\\n",
        "                                                sum(\"CosimTotal\").alias(\"CosineTotal\"),\\\n",
        "                                               )\n",
        "pe_cf_topknn_cosim = pe_cf_topknn_cosine.withColumn(\"PearsonDistance\",(pe_cf_topknn_cosine.total_ratings / pe_cf_topknn_cosine.CosineTotal) )\\\n",
        "                .select(\"itemId\",\"item_nn\",\"PearsonDistance\")\n",
        "pe_cf_topknn_cosimrdd = pe_cf_topknn_cosim.rdd"
      ]
    },
    {
      "cell_type": "code",
      "execution_count": 24,
      "metadata": {
        "colab": {
          "base_uri": "https://localhost:8080/"
        },
        "id": "8LoraE2N0Q8R",
        "outputId": "f816eb60-2e5f-4e21-9b55-70542b0aadd9"
      },
      "outputs": [
        {
          "output_type": "stream",
          "name": "stdout",
          "text": [
            "RMSE of KNN Implementation using Pearson Coefficient Distance  1.9758699000549214\n"
          ]
        }
      ],
      "source": [
        "#Pearson Coefficient Implementation Evaluation\n",
        "Testratings  =  test.map(lambda p: Row(TestItemID=str(p[0]),testrating=float(p[2])))\\\n",
        "                    .map(lambda p: Row(TestItemID=str(p[0]),testrating=(p[1])))\n",
        "Testratingsdf = spark.createDataFrame(Testratings)\n",
        "pe_cf_Predratings  =  pe_cf_topknn_cosimrdd.map(lambda p: Row(PredItemID=str(p[1]),Predictedrating=(p[2])))\n",
        "pe_cf_Predratingsdf = spark.createDataFrame(pe_cf_Predratings)\n",
        "\n",
        "pe_cf_Pred =  pe_cf_Predratingsdf.join(Testratingsdf,Testratingsdf.TestItemID ==  pe_cf_Predratingsdf.PredItemID,\"inner\")\n",
        "pe_cf_Pred = pe_cf_Pred.na.fill(0)\n",
        "pe_cf_preds = pe_cf_Pred.select(\"Predictedrating\",\"testrating\")\n",
        "\n",
        "pe_cf_evaluator = RegressionEvaluator(metricName=\"rmse\", labelCol=\"testrating\",\n",
        "                                predictionCol=\"Predictedrating\")\n",
        "pe_cf_rmse = pe_cf_evaluator.evaluate(pe_cf_preds)\n",
        "print(\"RMSE of KNN Implementation using Pearson Coefficient Distance \",pe_cf_rmse)"
      ]
    },
    {
      "cell_type": "code",
      "execution_count": 36,
      "metadata": {
        "id": "MCrcmaQlA3et",
        "colab": {
          "base_uri": "https://localhost:8080/"
        },
        "outputId": "ea7b9e7a-dba5-4140-e7e0-70b73185a699"
      },
      "outputs": [
        {
          "output_type": "stream",
          "name": "stdout",
          "text": [
            "User - 113196318 rated a total of 33 games\n",
            "Overall Avg Rating by user - 113196318 is 2.9655172413793105\n",
            "+---------+--------------------+------------------+\n",
            "|  USER_ID|    Recommended Game|   PearsonDistance|\n",
            "+---------+--------------------+------------------+\n",
            "|113196318|Rising Storm/Red ...|3.5535714285714297|\n",
            "|113196318|Euro Truck Simula...|3.5535714285714297|\n",
            "|113196318|              Arma 3| 3.553571428571429|\n",
            "|113196318|RaceRoom Racing E...|3.5535714285714284|\n",
            "|113196318|              Arma 2|3.5535714285714244|\n",
            "+---------+--------------------+------------------+\n",
            "only showing top 5 rows\n",
            "\n"
          ]
        }
      ],
      "source": [
        "##Recommend similar game for input game based on cosine similarity\n",
        "def UserGameRecommenderPC(userId):\n",
        "    '''\n",
        "    #Recommend Top K nearest game for a input userID\n",
        "    '''\n",
        "    overall_avg_user_mean = game_ratingsdf.filter(game_ratingsdf['userId'] == userId).agg({'rating' : 'mean'}).collect()[0][0]\n",
        "    overall_user_rated_game_count = game_ratingsdf.filter(game_ratingsdf['userId'] == userId).select(\"itemId\").distinct().count()\n",
        "    print(\"User -\",userId,\"rated a total of\",overall_user_rated_game_count,\"games\")\n",
        "    #print(\"\\n\")\n",
        "    print(\"Overall Avg Rating by user -\",userId,\"is\",overall_avg_user_mean)\n",
        "    #print(\"\\n\")\n",
        "    User_rated_game = game_ratingsdf.filter(game_ratingsdf['userId'] == userId).select(\"userId\",\"itemId\")\\\n",
        "                                  .withColumnRenamed(\"itemId\", \"UserItemId\")\n",
        "    \n",
        "    user_nn_game = User_rated_game.join(pe_cf_topknn_cosim, User_rated_game.UserItemId == pe_cf_topknn_cosim.itemId)\n",
        "\n",
        "    user_nn_game.join(newfeature,user_nn_game.UserItemId == newfeature.Steam_Game,'left')\\\n",
        "                                 .select(\"userId\",\"UserItemId\").distinct().limit(5)\\\n",
        "                                #  .show(truncate=False)\n",
        "\n",
        "    user_nn = User_rated_game.join(pe_cf_topknn_cosim,User_rated_game.UserItemId == pe_cf_topknn_cosim.itemId)\\\n",
        "                              .select(\"userId\",\"item_nn\",\"PearsonDistance\")\n",
        "\n",
        "    usernn = user_nn.sort(col('PearsonDistance').desc())\n",
        "\n",
        "    usernn = usernn.select(\"userId\", \"item_nn\", \"PearsonDistance\").withColumnRenamed(\"userId\", \"USER_ID\").withColumnRenamed(\"item_nn\", \"Recommended Game\")\n",
        "    \n",
        "    return usernn\n",
        "\n",
        "topNUserrecommender = UserGameRecommenderPC(113196318) #UserId : 5250, 151603712, 50769696, 163432200, 113196318\n",
        "topNUserrecommender.show(5)"
      ]
    },
    {
      "cell_type": "code",
      "source": [],
      "metadata": {
        "id": "Xngu28nzfY9-"
      },
      "execution_count": null,
      "outputs": []
    }
  ],
  "metadata": {
    "colab": {
      "provenance": []
    },
    "kernelspec": {
      "display_name": "Python 3",
      "name": "python3"
    },
    "language_info": {
      "name": "python"
    },
    "accelerator": "GPU",
    "gpuClass": "standard"
  },
  "nbformat": 4,
  "nbformat_minor": 0
}