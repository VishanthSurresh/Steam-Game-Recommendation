{
  "cells": [
    {
      "cell_type": "code",
      "execution_count": 10,
      "metadata": {
        "colab": {
          "base_uri": "https://localhost:8080/"
        },
        "id": "I5yPmJERFUq8",
        "outputId": "cba14781-a8d8-4980-f2ab-723c09a1f7cd"
      },
      "outputs": [
        {
          "output_type": "stream",
          "name": "stdout",
          "text": [
            "Looking in indexes: https://pypi.org/simple, https://us-python.pkg.dev/colab-wheels/public/simple/\n",
            "Requirement already satisfied: pyspark in /usr/local/lib/python3.9/dist-packages (3.3.2)\n",
            "Requirement already satisfied: py4j==0.10.9.5 in /usr/local/lib/python3.9/dist-packages (from pyspark) (0.10.9.5)\n"
          ]
        }
      ],
      "source": [
        "pip install pyspark"
      ]
    },
    {
      "cell_type": "code",
      "execution_count": 11,
      "metadata": {
        "colab": {
          "base_uri": "https://localhost:8080/"
        },
        "id": "4VKIpRqrTeRh",
        "outputId": "912efa0a-7c01-446d-c1ad-9f3154888218"
      },
      "outputs": [
        {
          "output_type": "stream",
          "name": "stdout",
          "text": [
            "Drive already mounted at /content/drive; to attempt to forcibly remount, call drive.mount(\"/content/drive\", force_remount=True).\n"
          ]
        }
      ],
      "source": [
        "from google.colab import drive\n",
        "drive.mount('/content/drive')"
      ]
    },
    {
      "cell_type": "markdown",
      "metadata": {
        "id": "VnTQEmsWSDlR"
      },
      "source": [
        "# Import Libraries and Spark Session\n"
      ]
    },
    {
      "cell_type": "code",
      "execution_count": 12,
      "metadata": {
        "id": "x9QExASLHUfg"
      },
      "outputs": [],
      "source": [
        "import pandas as pd\n",
        "import io\n",
        "import matplotlib.pyplot as plt\n",
        "from pyspark.rdd import RDD\n",
        "from pyspark.sql import Row\n",
        "from pyspark.sql import DataFrame\n",
        "from pyspark.sql import SparkSession\n",
        "from pyspark.sql.functions import lit\n",
        "from pyspark.sql.functions import desc\n",
        "from pyspark.ml.evaluation import RegressionEvaluator\n",
        "from pyspark.ml.recommendation import ALS\n",
        "from pyspark.sql.functions import sum,avg,max,min,mean,count,sqrt\n",
        "from pyspark.sql.functions import col,when\n",
        "from pyspark.sql import functions as F \n",
        "from pyspark.sql.functions import col,isnan, when, count\n",
        "from pyspark.ml.evaluation import RegressionEvaluator\n",
        "import seaborn as sns"
      ]
    },
    {
      "cell_type": "code",
      "execution_count": 13,
      "metadata": {
        "id": "5N4VD6nLFvS8"
      },
      "outputs": [],
      "source": [
        "#Initialize a spark session.\n",
        "def spark_intialization():\n",
        "    spark = SparkSession \\\n",
        "        .builder \\\n",
        "        .appName(\"Pyspark Project\") \\\n",
        "        .config(\"spark.some.config.option\", \"some-value\") \\\n",
        "        .getOrCreate()\n",
        "    return spark"
      ]
    },
    {
      "cell_type": "code",
      "execution_count": 14,
      "metadata": {
        "colab": {
          "base_uri": "https://localhost:8080/",
          "height": 219
        },
        "id": "zLSQuPcCGSFU",
        "outputId": "69da7d1f-348a-4775-80bf-258917b2cd0d"
      },
      "outputs": [
        {
          "output_type": "execute_result",
          "data": {
            "text/plain": [
              "<pyspark.sql.session.SparkSession at 0x7f5045e38070>"
            ],
            "text/html": [
              "\n",
              "            <div>\n",
              "                <p><b>SparkSession - in-memory</b></p>\n",
              "                \n",
              "        <div>\n",
              "            <p><b>SparkContext</b></p>\n",
              "\n",
              "            <p><a href=\"http://65b90d6895a5:4040\">Spark UI</a></p>\n",
              "\n",
              "            <dl>\n",
              "              <dt>Version</dt>\n",
              "                <dd><code>v3.3.2</code></dd>\n",
              "              <dt>Master</dt>\n",
              "                <dd><code>local[*]</code></dd>\n",
              "              <dt>AppName</dt>\n",
              "                <dd><code>Pyspark Project</code></dd>\n",
              "            </dl>\n",
              "        </div>\n",
              "        \n",
              "            </div>\n",
              "        "
            ]
          },
          "metadata": {},
          "execution_count": 14
        }
      ],
      "source": [
        "# Initialise spark object\n",
        "spark = spark_intialization()\n",
        "spark"
      ]
    },
    {
      "cell_type": "markdown",
      "metadata": {
        "id": "UC080uvRq5ms"
      },
      "source": [
        "# DATA PREPROCESSING"
      ]
    },
    {
      "cell_type": "code",
      "execution_count": 15,
      "metadata": {
        "colab": {
          "base_uri": "https://localhost:8080/"
        },
        "id": "WPfylbNUGzMD",
        "outputId": "3f1203c3-7266-4476-ca19-3c426356832a"
      },
      "outputs": [
        {
          "output_type": "stream",
          "name": "stdout",
          "text": [
            "+---------+--------------------+--------------+------------+\n",
            "|  USER_ID|          Steam_Game|Behaviour_Name|Hours_played|\n",
            "+---------+--------------------+--------------+------------+\n",
            "|151603712|The Elder Scrolls...|      purchase|         1.0|\n",
            "|151603712|The Elder Scrolls...|          play|       273.0|\n",
            "|151603712|           Fallout 4|      purchase|         1.0|\n",
            "|151603712|           Fallout 4|          play|        87.0|\n",
            "|151603712|               Spore|      purchase|         1.0|\n",
            "|151603712|               Spore|          play|        14.9|\n",
            "|151603712|   Fallout New Vegas|      purchase|         1.0|\n",
            "|151603712|   Fallout New Vegas|          play|        12.1|\n",
            "|151603712|       Left 4 Dead 2|      purchase|         1.0|\n",
            "|151603712|       Left 4 Dead 2|          play|         8.9|\n",
            "+---------+--------------------+--------------+------------+\n",
            "only showing top 10 rows\n",
            "\n"
          ]
        }
      ],
      "source": [
        "from pyspark.sql import functions as pyspark_functions\n",
        "from pyspark.sql.types import *\n",
        "schema = StructType([ \\\n",
        "                     StructField(\"USER_ID\", IntegerType(), True), \\\n",
        "                     StructField(\"Steam_Game\", StringType(), True),\\\n",
        "                     StructField(\"Behaviour_Name\", StringType(), True),\\\n",
        "                    StructField(\"Hours_played\", FloatType(), True)])\n",
        "dataframes = spark.read.schema(schema).csv(\"/content/drive/MyDrive/GOOGLE_COLAB/BigData/steam-200k.csv\", header=False)\n",
        "dataframes.show(10)"
      ]
    },
    {
      "cell_type": "code",
      "execution_count": 16,
      "metadata": {
        "colab": {
          "base_uri": "https://localhost:8080/"
        },
        "id": "jtemtFTjJtDy",
        "outputId": "e5ca7232-8d4a-4d28-d85a-ddff55e93e74"
      },
      "outputs": [
        {
          "output_type": "stream",
          "name": "stdout",
          "text": [
            "+---------+--------------------+--------------+------------+\n",
            "|  USER_ID|          Steam_Game|Behaviour_Name|Hours_played|\n",
            "+---------+--------------------+--------------+------------+\n",
            "|151603712|The Elder Scrolls...|      purchase|         1.0|\n",
            "|151603712|The Elder Scrolls...|          play|       273.0|\n",
            "|151603712|           Fallout 4|      purchase|         1.0|\n",
            "|151603712|           Fallout 4|          play|        87.0|\n",
            "|151603712|               Spore|      purchase|         1.0|\n",
            "|151603712|               Spore|          play|        14.9|\n",
            "|151603712|   Fallout New Vegas|      purchase|         1.0|\n",
            "|151603712|   Fallout New Vegas|          play|        12.1|\n",
            "|151603712|       Left 4 Dead 2|      purchase|         1.0|\n",
            "|151603712|       Left 4 Dead 2|          play|         8.9|\n",
            "+---------+--------------------+--------------+------------+\n",
            "only showing top 10 rows\n",
            "\n"
          ]
        }
      ],
      "source": [
        "dataframes = dataframes.withColumnRenamed(\"_c0\",\"USER_ID\").withColumnRenamed(\"_c1\",\"Steam_Game\").withColumnRenamed(\"_c2\",\"Behaviour_Name\").withColumnRenamed(\"_c3\",\"Hours_played\")\n",
        "dataframes = dataframes.drop(\"_c4\")\n",
        "dataframes.show(10)"
      ]
    },
    {
      "cell_type": "markdown",
      "source": [
        "**Exploratory Data Analysis**"
      ],
      "metadata": {
        "id": "-IjBkFQjUdLX"
      }
    },
    {
      "cell_type": "code",
      "source": [
        "total_records = dataframes.count()\n",
        "print(\"Total records in dataframe\", total_records)\n",
        "# Find Count of Null, None, NaN of All DataFrame Columns\n",
        "from pyspark.sql.functions import col,isnan, when, count\n",
        "dataframes.select([count(when(isnan(c) | col(c).isNull(), c)).alias(c) for c in dataframes.columns]\n",
        "   ).show(truncate=False)"
      ],
      "metadata": {
        "colab": {
          "base_uri": "https://localhost:8080/"
        },
        "id": "ViAYKABTUP6b",
        "outputId": "e64b2c2c-4312-43a7-e467-3825a175b489"
      },
      "execution_count": 17,
      "outputs": [
        {
          "output_type": "stream",
          "name": "stdout",
          "text": [
            "Total records in dataframe 200000\n",
            "+-------+----------+--------------+------------+\n",
            "|USER_ID|Steam_Game|Behaviour_Name|Hours_played|\n",
            "+-------+----------+--------------+------------+\n",
            "|0      |0         |0             |0           |\n",
            "+-------+----------+--------------+------------+\n",
            "\n"
          ]
        }
      ]
    },
    {
      "cell_type": "code",
      "source": [
        "#checking for duplicate values\n",
        "#Hours if behavior is play, 1.0 if behavior is purchase\n",
        "dataframes.groupBy(\"USER_ID\",\"Steam_Game\",\"Behaviour_Name\", \"Hours_played\").count().filter(\"count > 1\").show(5)\n",
        "#no of duplicate rows \n",
        "print(\"Duplicate Values Count\",dataframes.groupBy(\"USER_ID\",\"Steam_Game\",\"Behaviour_Name\", \"Hours_played\").count().filter(\"count > 1\").count())\n",
        "#storing distinct datapoints of our dataset in distinctDF\n",
        "df = dataframes.distinct()\n",
        "print(\"Distinct count: \"+str(df.count()))"
      ],
      "metadata": {
        "colab": {
          "base_uri": "https://localhost:8080/"
        },
        "id": "Wd3834rPUloV",
        "outputId": "636607f0-ce9f-4bb9-fe03-e59b98c447cf"
      },
      "execution_count": 20,
      "outputs": [
        {
          "output_type": "stream",
          "name": "stdout",
          "text": [
            "+---------+--------------------+--------------+------------+-----+\n",
            "|  USER_ID|          Steam_Game|Behaviour_Name|Hours_played|count|\n",
            "+---------+--------------------+--------------+------------+-----+\n",
            "| 71411882|Grand Theft Auto ...|      purchase|         1.0|    2|\n",
            "| 53091150|Grand Theft Auto III|      purchase|         1.0|    2|\n",
            "| 65152385|Sid Meier's Civil...|      purchase|         1.0|    2|\n",
            "|101695880|Grand Theft Auto ...|      purchase|         1.0|    2|\n",
            "| 73721802|Sid Meier's Civil...|      purchase|         1.0|    2|\n",
            "+---------+--------------------+--------------+------------+-----+\n",
            "only showing top 5 rows\n",
            "\n",
            "Duplicate Values Count 707\n",
            "Distinct count: 199293\n"
          ]
        }
      ]
    },
    {
      "cell_type": "code",
      "source": [
        "#counting distinct users and games on the platform.\n",
        "total_users = df.select(['USER_ID']).distinct().count()\n",
        "total_games = df.select(['Steam_Game']).distinct().count()\n",
        "total_hours = df.select(['Hours_played']).distinct().count()\n",
        "print(\"Total No of Users  :\", total_users)\n",
        "print(\"Total No of Games :\", total_games)\n",
        "print(\"Total No of hours played by user :\", total_hours)"
      ],
      "metadata": {
        "colab": {
          "base_uri": "https://localhost:8080/"
        },
        "id": "FfoX3GbsVszd",
        "outputId": "d733cb88-100b-48ee-d2b8-d8f566a0e14a"
      },
      "execution_count": 21,
      "outputs": [
        {
          "output_type": "stream",
          "name": "stdout",
          "text": [
            "Total No of Users  : 12393\n",
            "Total No of Games : 5155\n",
            "Total No of hours played by user : 1593\n"
          ]
        }
      ]
    },
    {
      "cell_type": "code",
      "source": [
        "def sparsity(df):\n",
        "    # Count the number of ratings in the rating dataframe\n",
        "    hours_played = df.select(\"Hours_played\").count()\n",
        "    \n",
        "    # Total Number of distinct users and animes\n",
        "    total_element = total_users*total_games\n",
        "    #print(total_element)\n",
        "    # Calculate  % Sparsity of Matrix Fomrula (1-(rating_count)/(total_element))*100\n",
        "    sparsity = (1-(hours_played)/total_element)*100\n",
        "    print(\" The dataframe is \", \"%.2f\" % sparsity +\"% sparse\")\n",
        "sparsity(df)"
      ],
      "metadata": {
        "colab": {
          "base_uri": "https://localhost:8080/"
        },
        "id": "KBZuX4EDV9Bv",
        "outputId": "d17850ac-89bf-4296-d7c7-c1253d2fe04f"
      },
      "execution_count": 22,
      "outputs": [
        {
          "output_type": "stream",
          "name": "stdout",
          "text": [
            " The dataframe is  99.69% sparse\n"
          ]
        }
      ]
    },
    {
      "cell_type": "code",
      "source": [
        "#Most number of hours played Games\n",
        "topGames=df.groupBy(\"Steam_Game\") \\\n",
        "    .agg(count(\"Hours_played\").alias(\"Hours\")) \\\n",
        "    .sort(desc(\"Hours\"))\n",
        "topGames.show(10)"
      ],
      "metadata": {
        "colab": {
          "base_uri": "https://localhost:8080/"
        },
        "id": "fLV7h307WCuJ",
        "outputId": "d554069c-2984-48a4-d91b-67c7a37d08a2"
      },
      "execution_count": 23,
      "outputs": [
        {
          "output_type": "stream",
          "name": "stdout",
          "text": [
            "+--------------------+-----+\n",
            "|          Steam_Game|Hours|\n",
            "+--------------------+-----+\n",
            "|              Dota 2| 9682|\n",
            "|     Team Fortress 2| 4646|\n",
            "|Counter-Strike Gl...| 2789|\n",
            "|            Unturned| 2632|\n",
            "|       Left 4 Dead 2| 1752|\n",
            "|Counter-Strike So...| 1693|\n",
            "|      Counter-Strike| 1424|\n",
            "|         Garry's Mod| 1397|\n",
            "|The Elder Scrolls...| 1394|\n",
            "|            Warframe| 1271|\n",
            "+--------------------+-----+\n",
            "only showing top 10 rows\n",
            "\n"
          ]
        }
      ]
    },
    {
      "cell_type": "code",
      "source": [
        "#Top paid Games \n",
        "topPurchaseGames = df.filter(\"Behaviour_Name == 'purchase'\").groupBy(\"Steam_Game\",\"Behaviour_Name\").count().sort(desc(\"count\"))\n",
        "topPurchaseGames.show(10)"
      ],
      "metadata": {
        "colab": {
          "base_uri": "https://localhost:8080/"
        },
        "id": "j_AeI4c5WIFe",
        "outputId": "d53f1e73-4113-4247-9a6c-953c59167b12"
      },
      "execution_count": 25,
      "outputs": [
        {
          "output_type": "stream",
          "name": "stdout",
          "text": [
            "+--------------------+--------------+-----+\n",
            "|          Steam_Game|Behaviour_Name|count|\n",
            "+--------------------+--------------+-----+\n",
            "|              Dota 2|      purchase| 4841|\n",
            "|     Team Fortress 2|      purchase| 2323|\n",
            "|            Unturned|      purchase| 1563|\n",
            "|Counter-Strike Gl...|      purchase| 1412|\n",
            "|Half-Life 2 Lost ...|      purchase|  981|\n",
            "|Counter-Strike So...|      purchase|  978|\n",
            "|       Left 4 Dead 2|      purchase|  951|\n",
            "|      Counter-Strike|      purchase|  856|\n",
            "|            Warframe|      purchase|  847|\n",
            "|Half-Life 2 Death...|      purchase|  823|\n",
            "+--------------------+--------------+-----+\n",
            "only showing top 10 rows\n",
            "\n"
          ]
        }
      ]
    },
    {
      "cell_type": "code",
      "source": [
        "#Top played Games \n",
        "topPlayedGames = df.filter(\"Behaviour_Name == 'play'\").groupBy(\"Steam_Game\",\"Behaviour_Name\").count().sort(desc(\"count\"))\n",
        "topPlayedGames.show(10)"
      ],
      "metadata": {
        "colab": {
          "base_uri": "https://localhost:8080/"
        },
        "id": "U1Ib4r8CWRda",
        "outputId": "47219dfc-cd06-46ef-ab6a-f826b0f4536e"
      },
      "execution_count": 27,
      "outputs": [
        {
          "output_type": "stream",
          "name": "stdout",
          "text": [
            "+--------------------+--------------+-----+\n",
            "|          Steam_Game|Behaviour_Name|count|\n",
            "+--------------------+--------------+-----+\n",
            "|              Dota 2|          play| 4841|\n",
            "|     Team Fortress 2|          play| 2323|\n",
            "|Counter-Strike Gl...|          play| 1377|\n",
            "|            Unturned|          play| 1069|\n",
            "|       Left 4 Dead 2|          play|  801|\n",
            "|Counter-Strike So...|          play|  715|\n",
            "|The Elder Scrolls...|          play|  677|\n",
            "|         Garry's Mod|          play|  666|\n",
            "|      Counter-Strike|          play|  568|\n",
            "|Sid Meier's Civil...|          play|  554|\n",
            "+--------------------+--------------+-----+\n",
            "only showing top 10 rows\n",
            "\n"
          ]
        }
      ]
    },
    {
      "cell_type": "code",
      "source": [
        "dataframes.select(\"Hours_played\").describe().show()"
      ],
      "metadata": {
        "colab": {
          "base_uri": "https://localhost:8080/"
        },
        "id": "E_QvTQOEWjSy",
        "outputId": "e3daa114-3f96-4899-e3fe-68809e0c1b8c"
      },
      "execution_count": 28,
      "outputs": [
        {
          "output_type": "stream",
          "name": "stdout",
          "text": [
            "+-------+------------------+\n",
            "|summary|      Hours_played|\n",
            "+-------+------------------+\n",
            "|  count|            200000|\n",
            "|   mean|17.874384000420385|\n",
            "| stddev| 138.0569516508248|\n",
            "|    min|               0.1|\n",
            "|    max|           11754.0|\n",
            "+-------+------------------+\n",
            "\n"
          ]
        }
      ]
    },
    {
      "cell_type": "markdown",
      "source": [
        "**Outlier Analysis**"
      ],
      "metadata": {
        "id": "kuN65V5SXtWm"
      }
    },
    {
      "cell_type": "code",
      "source": [
        "#Calculate Upper, Lower and InterQuartlie Range\n",
        "def calculate_bounds(df):\n",
        "  c = \"Hours_played\"\n",
        "  bounds = {\n",
        "        c: dict(\n",
        "            zip([\"q1\", \"q3\"], df.approxQuantile(c, [0.25, 0.75], 0))\n",
        "        )\n",
        "      \n",
        "    }\n",
        "  iqr = bounds[c]['q3'] - bounds[c]['q1']\n",
        "  bounds[c]['min'] = bounds[c]['q1'] - (iqr * 1.5)\n",
        "  bounds[c]['max'] = bounds[c]['q3'] + (iqr * 1.5)\n",
        "  return bounds\n",
        "#Indicate the presence of Outlier in the specic Column\n",
        "def flag_outliers(df, id_col):\n",
        "  bounds = calculate_bounds(df)\n",
        "  outliers = {}\n",
        "  c = \"Hours_played\"\n",
        "  return df.select(c, id_col,\n",
        "        *[\n",
        "            F.when(\n",
        "                ~F.col(c).between(bounds[c]['min'], bounds[c]['max']),\n",
        "                \"yes\"\n",
        "            ).otherwise(\"no\").alias(c+'_outlier')\n",
        "        ]\n",
        "  )\n",
        "#Columns Containing Outliers\n",
        "outlier_data = flag_outliers(df,'USER_ID')\n",
        "outlier_data.show(10)"
      ],
      "metadata": {
        "colab": {
          "base_uri": "https://localhost:8080/"
        },
        "id": "hOizSyl7Xs6_",
        "outputId": "c3a301d5-1166-4aeb-fa6e-1b7832f116f6"
      },
      "execution_count": 29,
      "outputs": [
        {
          "output_type": "stream",
          "name": "stdout",
          "text": [
            "+------------+---------+--------------------+\n",
            "|Hours_played|  USER_ID|Hours_played_outlier|\n",
            "+------------+---------+--------------------+\n",
            "|        11.2| 53875128|                 yes|\n",
            "|         1.0| 53875128|                  no|\n",
            "|         1.9| 53875128|                  no|\n",
            "|         1.4| 53875128|                  no|\n",
            "|         0.4| 53875128|                 yes|\n",
            "|         1.0|126340495|                  no|\n",
            "|         9.2| 97298878|                 yes|\n",
            "|         0.9| 97298878|                  no|\n",
            "|       211.0| 48845802|                 yes|\n",
            "|         1.0| 62923086|                  no|\n",
            "+------------+---------+--------------------+\n",
            "only showing top 10 rows\n",
            "\n"
          ]
        }
      ]
    },
    {
      "cell_type": "code",
      "source": [
        "panda_df= df.toPandas()\n",
        "sns.set()\n",
        "ax = sns.boxplot(x=panda_df['Hours_played'])"
      ],
      "metadata": {
        "colab": {
          "base_uri": "https://localhost:8080/",
          "height": 285
        },
        "id": "EJNarhsFYp7t",
        "outputId": "6be27f74-9f91-4919-e2e7-34ac874ba09b"
      },
      "execution_count": 30,
      "outputs": [
        {
          "output_type": "display_data",
          "data": {
            "text/plain": [
              "<Figure size 432x288 with 1 Axes>"
            ],
            "image/png": "[encoded data removed]"
          },
          "metadata": {}
        }
      ]
    },
    {
      "cell_type": "markdown",
      "metadata": {
        "id": "vxkTgK7zvZ4Y"
      },
      "source": [
        "# FEATURE ADDITION"
      ]
    },
    {
      "cell_type": "code",
      "execution_count": 32,
      "metadata": {
        "colab": {
          "base_uri": "https://localhost:8080/"
        },
        "id": "sX3kuthhvXiJ",
        "outputId": "d3e64884-b2d7-498e-9497-0c6ca1ff8fd4"
      },
      "outputs": [
        {
          "output_type": "stream",
          "name": "stdout",
          "text": [
            "+--------------------+---------+--------------+------------+------------------+\n",
            "|          Steam_Game|  USER_ID|Behaviour_Name|Hours_played|   mean_Hourplayed|\n",
            "+--------------------+---------+--------------+------------+------------------+\n",
            "|The Elder Scrolls...|151603712|      purchase|         1.0|   52.523330890249|\n",
            "|The Elder Scrolls...|151603712|          play|       273.0|   52.523330890249|\n",
            "|           Fallout 4|151603712|      purchase|         1.0| 32.92108433971922|\n",
            "|           Fallout 4|151603712|          play|        87.0| 32.92108433971922|\n",
            "|               Spore|151603712|      purchase|         1.0|15.251724126010105|\n",
            "|               Spore|151603712|          play|        14.9|15.251724126010105|\n",
            "|   Fallout New Vegas|151603712|      purchase|         1.0| 25.46907563369815|\n",
            "|   Fallout New Vegas|151603712|          play|        12.1| 25.46907563369815|\n",
            "|       Left 4 Dead 2|151603712|      purchase|         1.0|20.613739546054582|\n",
            "|       Left 4 Dead 2|151603712|          play|         8.9|20.613739546054582|\n",
            "+--------------------+---------+--------------+------------+------------------+\n",
            "only showing top 10 rows\n",
            "\n"
          ]
        }
      ],
      "source": [
        "new_feature =dataframes.filter(\"Hours_played >= 1\")\n",
        "new_feature.select(\"Behaviour_Name\").distinct().collect()\n",
        "new_feature.select('Steam_Game').distinct().count()\n",
        "average = new_feature.groupBy(\"Steam_Game\") \\\n",
        "             .agg(mean(\"Hours_played\").alias(\"mean_Hourplayed\")) \\\n",
        "             .select(\"Steam_Game\", \"mean_Hourplayed\")\n",
        "newfeature = new_feature.join(average, on=\"Steam_Game\", how=\"inner\")\n",
        "newfeature.show(10)"
      ]
    },
    {
      "cell_type": "code",
      "source": [
        "# datapoints with less than 1 hour played games. We wont consider 16792 datapoints \n",
        "new_feature1 =dataframes.filter(\"Hours_played < 1\")\n",
        "new_feature1.count()"
      ],
      "metadata": {
        "colab": {
          "base_uri": "https://localhost:8080/"
        },
        "id": "xKM6Dago4002",
        "outputId": "5f5c436e-47c1-4de7-cc79-133459124402"
      },
      "execution_count": 33,
      "outputs": [
        {
          "output_type": "execute_result",
          "data": {
            "text/plain": [
              "16792"
            ]
          },
          "metadata": {},
          "execution_count": 33
        }
      ]
    },
    {
      "cell_type": "code",
      "execution_count": 34,
      "metadata": {
        "id": "GQLkmbDk93Xi",
        "colab": {
          "base_uri": "https://localhost:8080/"
        },
        "outputId": "fbebc784-6a62-4f4a-be6b-8be732312c04"
      },
      "outputs": [
        {
          "output_type": "stream",
          "name": "stdout",
          "text": [
            "+--------------------+---------+--------------+------------+------------------+------+\n",
            "|          Steam_Game|  USER_ID|Behaviour_Name|Hours_played|   mean_Hourplayed|rating|\n",
            "+--------------------+---------+--------------+------------+------------------+------+\n",
            "|The Elder Scrolls...|151603712|      purchase|         1.0|   52.523330890249|     1|\n",
            "|The Elder Scrolls...|151603712|          play|       273.0|   52.523330890249|     5|\n",
            "|           Fallout 4|151603712|      purchase|         1.0| 32.92108433971922|     1|\n",
            "|           Fallout 4|151603712|          play|        87.0| 32.92108433971922|     5|\n",
            "|               Spore|151603712|      purchase|         1.0|15.251724126010105|     1|\n",
            "|               Spore|151603712|          play|        14.9|15.251724126010105|     5|\n",
            "|   Fallout New Vegas|151603712|      purchase|         1.0| 25.46907563369815|     1|\n",
            "|   Fallout New Vegas|151603712|          play|        12.1| 25.46907563369815|     3|\n",
            "|       Left 4 Dead 2|151603712|      purchase|         1.0|20.613739546054582|     1|\n",
            "|       Left 4 Dead 2|151603712|          play|         8.9|20.613739546054582|     3|\n",
            "|            HuniePop|151603712|      purchase|         1.0|10.673170741011457|     1|\n",
            "|            HuniePop|151603712|          play|         8.5|10.673170741011457|     4|\n",
            "|       Path of Exile|151603712|      purchase|         1.0|21.525819676088506|     1|\n",
            "|       Path of Exile|151603712|          play|         8.1|21.525819676088506|     2|\n",
            "|         Poly Bridge|151603712|      purchase|         1.0|3.1916666428248086|     1|\n",
            "|         Poly Bridge|151603712|          play|         7.5|3.1916666428248086|     5|\n",
            "|         Left 4 Dead|151603712|      purchase|         1.0|19.208172040344568|     1|\n",
            "|         Left 4 Dead|151603712|          play|         3.3|19.208172040344568|     2|\n",
            "|     Team Fortress 2|151603712|      purchase|         1.0|  43.1118253197181|     1|\n",
            "|     Team Fortress 2|151603712|          play|         2.8|  43.1118253197181|     2|\n",
            "+--------------------+---------+--------------+------------+------------------+------+\n",
            "only showing top 20 rows\n",
            "\n"
          ]
        }
      ],
      "source": [
        "from pyspark.sql.functions import when\n",
        "newfeature = newfeature.withColumn(\"rating\", \n",
        "                  when(newfeature[\"Hours_played\"] == 1.0, 1)\n",
        "                  .when(newfeature[\"Hours_played\"] >= 0.9 * newfeature[\"mean_Hourplayed\"], 5)\n",
        "                   .when((newfeature[\"Hours_played\"] >= 0.7 * newfeature[\"mean_Hourplayed\"]) & (newfeature[\"Hours_played\"] < 0.9 * newfeature[\"mean_Hourplayed\"]), 4)\n",
        "                   .when((newfeature[\"Hours_played\"] >= 0.4 * newfeature[\"mean_Hourplayed\"]) & (newfeature[\"Hours_played\"] < 0.7 * newfeature[\"mean_Hourplayed\"]), 3)\n",
        "                   .when((newfeature[\"Hours_played\"] >= 0.1 * newfeature[\"mean_Hourplayed\"]) & (newfeature[\"Hours_played\"] < 0.4 * newfeature[\"mean_Hourplayed\"]), 2)\n",
        "                   .otherwise(2))\n",
        "newfeature.show()"
      ]
    },
    {
      "cell_type": "code",
      "execution_count": 35,
      "metadata": {
        "id": "BAjp4n-3-aDy",
        "colab": {
          "base_uri": "https://localhost:8080/"
        },
        "outputId": "2c1723b5-6e3d-48e5-b2bc-13f2fb5e391b"
      },
      "outputs": [
        {
          "output_type": "stream",
          "name": "stdout",
          "text": [
            "+------+------+\n",
            "|rating| count|\n",
            "+------+------+\n",
            "|     1|130569|\n",
            "|     3|  6185|\n",
            "|     5| 29421|\n",
            "|     4|  3181|\n",
            "|     2| 13852|\n",
            "+------+------+\n",
            "\n"
          ]
        }
      ],
      "source": [
        "newfeature.groupBy(\"rating\").count().show()"
      ]
    },
    {
      "cell_type": "markdown",
      "metadata": {
        "id": "9Qnof28E9qsP"
      },
      "source": [
        "## VISUALIZATION"
      ]
    },
    {
      "cell_type": "code",
      "source": [
        "trainpd = newfeature.toPandas()\n",
        "no_of_ratings_per_game = trainpd.groupby(by='USER_ID')['rating'].count().sort_values(ascending=False)\n",
        "\n",
        "fig = plt.figure(figsize = (12, 6))\n",
        "ax = plt.gca()\n",
        "plt.plot(no_of_ratings_per_game.values)\n",
        "plt.title('# Ratings/Game')\n",
        "plt.xlabel('Games')\n",
        "plt.ylabel('No of Users who rated Games')\n",
        "ax.set_xticklabels([])\n",
        "plt.show()\n",
        "\n",
        "# It is very skewed, just like the number of ratings given per user.\n",
        "# There are some Games (which are very popular) which are rated by huge number of users.\n",
        "# But most of the Games(like 90%) got some 0-100 of user ratings only."
      ],
      "metadata": {
        "colab": {
          "base_uri": "https://localhost:8080/",
          "height": 400
        },
        "id": "FSA_5UcaZhCT",
        "outputId": "03f0ab48-481f-4799-cdd7-ccf564557ffe"
      },
      "execution_count": 37,
      "outputs": [
        {
          "output_type": "display_data",
          "data": {
            "text/plain": [
              "<Figure size 864x432 with 1 Axes>"
            ],
            "image/png": "[encoded data removed]"
          },
          "metadata": {}
        }
      ]
    },
    {
      "cell_type": "markdown",
      "source": [
        "Vishanth Model Implementation"
      ],
      "metadata": {
        "id": "RTAB9tBS5Xr2"
      }
    },
    {
      "cell_type": "code",
      "source": [
        "newfeature.count()"
      ],
      "metadata": {
        "id": "7OL-Zwfs5XOv",
        "colab": {
          "base_uri": "https://localhost:8080/"
        },
        "outputId": "b5556a4c-3f6a-4ee3-913a-e3162e9b6468"
      },
      "execution_count": 38,
      "outputs": [
        {
          "output_type": "execute_result",
          "data": {
            "text/plain": [
              "183208"
            ]
          },
          "metadata": {},
          "execution_count": 38
        }
      ]
    },
    {
      "cell_type": "markdown",
      "source": [
        "**ALS IMPLEMENTATION**"
      ],
      "metadata": {
        "id": "tizCxhmbASJm"
      }
    },
    {
      "cell_type": "code",
      "source": [
        "from pyspark.ml.feature import VectorAssembler\n",
        "from pyspark.ml.feature import Normalizer\n",
        "from pyspark.ml.feature import MinMaxScaler\n",
        "from pyspark.ml.feature import StringIndexer\n",
        "from pyspark.ml.recommendation import ALS\n",
        "from pyspark.ml.evaluation import RegressionEvaluator\n"
      ],
      "metadata": {
        "id": "Rrhz4gZA6PhS"
      },
      "execution_count": 40,
      "outputs": []
    },
    {
      "cell_type": "code",
      "source": [
        "newfeature.printSchema()\n",
        "pandasdf = newfeature.toPandas()\n",
        "pandasdf['Steam_Game'] = pandasdf['Steam_Game'].astype('category')\n",
        "d = dict(enumerate(pandasdf['Steam_Game'].cat.categories))\n",
        "pandasdf['GAME_ID'] = pandasdf['Steam_Game'].cat.codes\n",
        "pandasdf.head(10)"
      ],
      "metadata": {
        "id": "W8vFEJoJ6Q8z",
        "colab": {
          "base_uri": "https://localhost:8080/",
          "height": 501
        },
        "outputId": "af41f9b7-607d-433b-8a7d-debb5a137634"
      },
      "execution_count": 44,
      "outputs": [
        {
          "output_type": "stream",
          "name": "stdout",
          "text": [
            "root\n",
            " |-- Steam_Game: string (nullable = true)\n",
            " |-- USER_ID: integer (nullable = true)\n",
            " |-- Behaviour_Name: string (nullable = true)\n",
            " |-- Hours_played: float (nullable = true)\n",
            " |-- mean_Hourplayed: double (nullable = true)\n",
            " |-- rating: integer (nullable = false)\n",
            "\n"
          ]
        },
        {
          "output_type": "execute_result",
          "data": {
            "text/plain": [
              "                   Steam_Game    USER_ID Behaviour_Name  Hours_played  \\\n",
              "0  The Elder Scrolls V Skyrim  151603712       purchase           1.0   \n",
              "1  The Elder Scrolls V Skyrim  151603712           play         273.0   \n",
              "2                   Fallout 4  151603712       purchase           1.0   \n",
              "3                   Fallout 4  151603712           play          87.0   \n",
              "4                       Spore  151603712       purchase           1.0   \n",
              "5                       Spore  151603712           play          14.9   \n",
              "6           Fallout New Vegas  151603712       purchase           1.0   \n",
              "7           Fallout New Vegas  151603712           play          12.1   \n",
              "8               Left 4 Dead 2  151603712       purchase           1.0   \n",
              "9               Left 4 Dead 2  151603712           play           8.9   \n",
              "\n",
              "   mean_Hourplayed  rating  GAME_ID  \n",
              "0        52.523331       1     4364  \n",
              "1        52.523331       5     4364  \n",
              "2        32.921084       1     1678  \n",
              "3        32.921084       5     1678  \n",
              "4        15.251724       1     3997  \n",
              "5        15.251724       5     3997  \n",
              "6        25.469076       1     1679  \n",
              "7        25.469076       3     1679  \n",
              "8        20.613740       1     2475  \n",
              "9        20.613740       3     2475  "
            ],
            "text/html": [
              "\n",
              "  <div id=\"df-ba5371e5-ed88-415c-98aa-381a530c96dd\">\n",
              "    <div class=\"colab-df-container\">\n",
              "      <div>\n",
              "<style scoped>\n",
              "    .dataframe tbody tr th:only-of-type {\n",
              "        vertical-align: middle;\n",
              "    }\n",
              "\n",
              "    .dataframe tbody tr th {\n",
              "        vertical-align: top;\n",
              "    }\n",
              "\n",
              "    .dataframe thead th {\n",
              "        text-align: right;\n",
              "    }\n",
              "</style>\n",
              "<table border=\"1\" class=\"dataframe\">\n",
              "  <thead>\n",
              "    <tr style=\"text-align: right;\">\n",
              "      <th></th>\n",
              "      <th>Steam_Game</th>\n",
              "      <th>USER_ID</th>\n",
              "      <th>Behaviour_Name</th>\n",
              "      <th>Hours_played</th>\n",
              "      <th>mean_Hourplayed</th>\n",
              "      <th>rating</th>\n",
              "      <th>GAME_ID</th>\n",
              "    </tr>\n",
              "  </thead>\n",
              "  <tbody>\n",
              "    <tr>\n",
              "      <th>0</th>\n",
              "      <td>The Elder Scrolls V Skyrim</td>\n",
              "      <td>151603712</td>\n",
              "      <td>purchase</td>\n",
              "      <td>1.0</td>\n",
              "      <td>52.523331</td>\n",
              "      <td>1</td>\n",
              "      <td>4364</td>\n",
              "    </tr>\n",
              "    <tr>\n",
              "      <th>1</th>\n",
              "      <td>The Elder Scrolls V Skyrim</td>\n",
              "      <td>151603712</td>\n",
              "      <td>play</td>\n",
              "      <td>273.0</td>\n",
              "      <td>52.523331</td>\n",
              "      <td>5</td>\n",
              "      <td>4364</td>\n",
              "    </tr>\n",
              "    <tr>\n",
              "      <th>2</th>\n",
              "      <td>Fallout 4</td>\n",
              "      <td>151603712</td>\n",
              "      <td>purchase</td>\n",
              "      <td>1.0</td>\n",
              "      <td>32.921084</td>\n",
              "      <td>1</td>\n",
              "      <td>1678</td>\n",
              "    </tr>\n",
              "    <tr>\n",
              "      <th>3</th>\n",
              "      <td>Fallout 4</td>\n",
              "      <td>151603712</td>\n",
              "      <td>play</td>\n",
              "      <td>87.0</td>\n",
              "      <td>32.921084</td>\n",
              "      <td>5</td>\n",
              "      <td>1678</td>\n",
              "    </tr>\n",
              "    <tr>\n",
              "      <th>4</th>\n",
              "      <td>Spore</td>\n",
              "      <td>151603712</td>\n",
              "      <td>purchase</td>\n",
              "      <td>1.0</td>\n",
              "      <td>15.251724</td>\n",
              "      <td>1</td>\n",
              "      <td>3997</td>\n",
              "    </tr>\n",
              "    <tr>\n",
              "      <th>5</th>\n",
              "      <td>Spore</td>\n",
              "      <td>151603712</td>\n",
              "      <td>play</td>\n",
              "      <td>14.9</td>\n",
              "      <td>15.251724</td>\n",
              "      <td>5</td>\n",
              "      <td>3997</td>\n",
              "    </tr>\n",
              "    <tr>\n",
              "      <th>6</th>\n",
              "      <td>Fallout New Vegas</td>\n",
              "      <td>151603712</td>\n",
              "      <td>purchase</td>\n",
              "      <td>1.0</td>\n",
              "      <td>25.469076</td>\n",
              "      <td>1</td>\n",
              "      <td>1679</td>\n",
              "    </tr>\n",
              "    <tr>\n",
              "      <th>7</th>\n",
              "      <td>Fallout New Vegas</td>\n",
              "      <td>151603712</td>\n",
              "      <td>play</td>\n",
              "      <td>12.1</td>\n",
              "      <td>25.469076</td>\n",
              "      <td>3</td>\n",
              "      <td>1679</td>\n",
              "    </tr>\n",
              "    <tr>\n",
              "      <th>8</th>\n",
              "      <td>Left 4 Dead 2</td>\n",
              "      <td>151603712</td>\n",
              "      <td>purchase</td>\n",
              "      <td>1.0</td>\n",
              "      <td>20.613740</td>\n",
              "      <td>1</td>\n",
              "      <td>2475</td>\n",
              "    </tr>\n",
              "    <tr>\n",
              "      <th>9</th>\n",
              "      <td>Left 4 Dead 2</td>\n",
              "      <td>151603712</td>\n",
              "      <td>play</td>\n",
              "      <td>8.9</td>\n",
              "      <td>20.613740</td>\n",
              "      <td>3</td>\n",
              "      <td>2475</td>\n",
              "    </tr>\n",
              "  </tbody>\n",
              "</table>\n",
              "</div>\n",
              "      <button class=\"colab-df-convert\" onclick=\"convertToInteractive('df-ba5371e5-ed88-415c-98aa-381a530c96dd')\"\n",
              "              title=\"Convert this dataframe to an interactive table.\"\n",
              "              style=\"display:none;\">\n",
              "        \n",
              "  <svg xmlns=\"http://www.w3.org/2000/svg\" height=\"24px\"viewBox=\"0 0 24 24\"\n",
              "       width=\"24px\">\n",
              "    <path d=\"M0 0h24v24H0V0z\" fill=\"none\"/>\n",
              "    <path d=\"M18.56 5.44l.94 2.06.94-2.06 2.06-.94-2.06-.94-.94-2.06-.94 2.06-2.06.94zm-11 1L8.5 8.5l.94-2.06 2.06-.94-2.06-.94L8.5 2.5l-.94 2.06-2.06.94zm10 10l.94 2.06.94-2.06 2.06-.94-2.06-.94-.94-2.06-.94 2.06-2.06.94z\"/><path d=\"M17.41 7.96l-1.37-1.37c-.4-.4-.92-.59-1.43-.59-.52 0-1.04.2-1.43.59L10.3 9.45l-7.72 7.72c-.78.78-.78 2.05 0 2.83L4 21.41c.39.39.9.59 1.41.59.51 0 1.02-.2 1.41-.59l7.78-7.78 2.81-2.81c.8-.78.8-2.07 0-2.86zM5.41 20L4 18.59l7.72-7.72 1.47 1.35L5.41 20z\"/>\n",
              "  </svg>\n",
              "      </button>\n",
              "      \n",
              "  <style>\n",
              "    .colab-df-container {\n",
              "      display:flex;\n",
              "      flex-wrap:wrap;\n",
              "      gap: 12px;\n",
              "    }\n",
              "\n",
              "    .colab-df-convert {\n",
              "      background-color: #E8F0FE;\n",
              "      border: none;\n",
              "      border-radius: 50%;\n",
              "      cursor: pointer;\n",
              "      display: none;\n",
              "      fill: #1967D2;\n",
              "      height: 32px;\n",
              "      padding: 0 0 0 0;\n",
              "      width: 32px;\n",
              "    }\n",
              "\n",
              "    .colab-df-convert:hover {\n",
              "      background-color: #E2EBFA;\n",
              "      box-shadow: 0px 1px 2px rgba(60, 64, 67, 0.3), 0px 1px 3px 1px rgba(60, 64, 67, 0.15);\n",
              "      fill: #174EA6;\n",
              "    }\n",
              "\n",
              "    [theme=dark] .colab-df-convert {\n",
              "      background-color: #3B4455;\n",
              "      fill: #D2E3FC;\n",
              "    }\n",
              "\n",
              "    [theme=dark] .colab-df-convert:hover {\n",
              "      background-color: #434B5C;\n",
              "      box-shadow: 0px 1px 3px 1px rgba(0, 0, 0, 0.15);\n",
              "      filter: drop-shadow(0px 1px 2px rgba(0, 0, 0, 0.3));\n",
              "      fill: #FFFFFF;\n",
              "    }\n",
              "  </style>\n",
              "\n",
              "      <script>\n",
              "        const buttonEl =\n",
              "          document.querySelector('#df-ba5371e5-ed88-415c-98aa-381a530c96dd button.colab-df-convert');\n",
              "        buttonEl.style.display =\n",
              "          google.colab.kernel.accessAllowed ? 'block' : 'none';\n",
              "\n",
              "        async function convertToInteractive(key) {\n",
              "          const element = document.querySelector('#df-ba5371e5-ed88-415c-98aa-381a530c96dd');\n",
              "          const dataTable =\n",
              "            await google.colab.kernel.invokeFunction('convertToInteractive',\n",
              "                                                     [key], {});\n",
              "          if (!dataTable) return;\n",
              "\n",
              "          const docLinkHtml = 'Like what you see? Visit the ' +\n",
              "            '<a target=\"_blank\" href=https://colab.research.google.com/notebooks/data_table.ipynb>data table notebook</a>'\n",
              "            + ' to learn more about interactive tables.';\n",
              "          element.innerHTML = '';\n",
              "          dataTable['output_type'] = 'display_data';\n",
              "          await google.colab.output.renderOutput(dataTable, element);\n",
              "          const docLink = document.createElement('div');\n",
              "          docLink.innerHTML = docLinkHtml;\n",
              "          element.appendChild(docLink);\n",
              "        }\n",
              "      </script>\n",
              "    </div>\n",
              "  </div>\n",
              "  "
            ]
          },
          "metadata": {},
          "execution_count": 44
        }
      ]
    },
    {
      "cell_type": "code",
      "source": [
        "newfeature = spark.createDataFrame(pandasdf)\n",
        "newfeature.show(10)"
      ],
      "metadata": {
        "id": "csWKpZ0aM-ta",
        "colab": {
          "base_uri": "https://localhost:8080/"
        },
        "outputId": "44ee70ca-f37e-49a0-d27d-e8ff40034f81"
      },
      "execution_count": 45,
      "outputs": [
        {
          "output_type": "stream",
          "name": "stdout",
          "text": [
            "+--------------------+---------+--------------+------------------+------------------+------+-------+\n",
            "|          Steam_Game|  USER_ID|Behaviour_Name|      Hours_played|   mean_Hourplayed|rating|GAME_ID|\n",
            "+--------------------+---------+--------------+------------------+------------------+------+-------+\n",
            "|The Elder Scrolls...|151603712|      purchase|               1.0|   52.523330890249|     1|   4364|\n",
            "|The Elder Scrolls...|151603712|          play|             273.0|   52.523330890249|     5|   4364|\n",
            "|           Fallout 4|151603712|      purchase|               1.0| 32.92108433971922|     1|   1678|\n",
            "|           Fallout 4|151603712|          play|              87.0| 32.92108433971922|     5|   1678|\n",
            "|               Spore|151603712|      purchase|               1.0|15.251724126010105|     1|   3997|\n",
            "|               Spore|151603712|          play|14.899999618530273|15.251724126010105|     5|   3997|\n",
            "|   Fallout New Vegas|151603712|      purchase|               1.0| 25.46907563369815|     1|   1679|\n",
            "|   Fallout New Vegas|151603712|          play|12.100000381469727| 25.46907563369815|     3|   1679|\n",
            "|       Left 4 Dead 2|151603712|      purchase|               1.0|20.613739546054582|     1|   2475|\n",
            "|       Left 4 Dead 2|151603712|          play| 8.899999618530273|20.613739546054582|     3|   2475|\n",
            "+--------------------+---------+--------------+------------------+------------------+------+-------+\n",
            "only showing top 10 rows\n",
            "\n"
          ]
        }
      ]
    },
    {
      "cell_type": "code",
      "source": [
        "train, test = newfeature.randomSplit([0.8, 0.2])"
      ],
      "metadata": {
        "id": "oTLuyHowJNnG"
      },
      "execution_count": 46,
      "outputs": []
    },
    {
      "cell_type": "code",
      "source": [
        "from pyspark.sql.functions import avg\n",
        "## Calculating user-item interaction\n",
        "# Calculate User Mean\n",
        "userMeanDF = train.groupBy('USER_ID').agg({'rating': 'mean'}).withColumnRenamed(\"avg(rating)\", \"user_mean\")\n",
        "# Calculate Anime Mean\n",
        "itemMeanDF = train.groupBy('GAME_ID').agg({'rating': 'mean'}).withColumnRenamed(\"avg(rating)\", \"item_mean\")\n",
        "# Calculate Global Average in Train set\n",
        "globalAverageDF = train.select(avg('rating'))\n",
        "globalAverage = globalAverageDF.collect()[0]['avg(rating)']\n",
        "# Adding the mean columns to train DF\n",
        "meanDF = train.join(userMeanDF, ['USER_ID'], \"inner\").join(itemMeanDF, ['GAME_ID'], \"inner\")\n",
        "#create final DF with user-item interaction column\n",
        "interactionDF = meanDF.withColumn('user_item_interaction', meanDF['rating']-(meanDF['user_mean'] + meanDF['item_mean'] - globalAverage))\n",
        "interactionDF.show(5)"
      ],
      "metadata": {
        "id": "jVdrqdJ_IxQi",
        "colab": {
          "base_uri": "https://localhost:8080/"
        },
        "outputId": "5d046337-c5fa-49e7-819a-1674161800c5"
      },
      "execution_count": 47,
      "outputs": [
        {
          "output_type": "stream",
          "name": "stdout",
          "text": [
            "+-------+---------+--------------------+--------------+-----------------+------------------+------+------------------+-----------------+---------------------+\n",
            "|GAME_ID|  USER_ID|          Steam_Game|Behaviour_Name|     Hours_played|   mean_Hourplayed|rating|         user_mean|        item_mean|user_item_interaction|\n",
            "+-------+---------+--------------------+--------------+-----------------+------------------+------+------------------+-----------------+---------------------+\n",
            "|     81|158159336|        APB Reloaded|          play|              5.5|25.836784740884557|     2|1.3076923076923077|1.564625850340136|   0.9641509845126135|\n",
            "|     81|158159336|        APB Reloaded|      purchase|              1.0|25.836784740884557|     1|1.3076923076923077|1.564625850340136| -0.03584901548738...|\n",
            "|    109|142799594|AdVenture Capitalist|      purchase|              1.0|19.304923077363235|     1|1.8571428571428572|1.745019920318725|  -0.7656936349165246|\n",
            "|    109|158159336|AdVenture Capitalist|          play|6.699999809265137|19.304923077363235|     2|1.3076923076923077|1.745019920318725|   0.7837569145340246|\n",
            "|    109|158159336|AdVenture Capitalist|      purchase|              1.0|19.304923077363235|     1|1.3076923076923077|1.745019920318725| -0.21624308546597537|\n",
            "+-------+---------+--------------------+--------------+-----------------+------------------+------+------------------+-----------------+---------------------+\n",
            "only showing top 5 rows\n",
            "\n"
          ]
        }
      ]
    },
    {
      "cell_type": "code",
      "source": [
        "interactionDF.drop(\"Steam_Game\",\"Behaviour_Name\",\"Hours_played\",\"mean_Hourplayed\") \\\n",
        "    .printSchema()\n",
        "als = ALS(maxIter=5, regParam=0.01, userCol=\"USER_ID\", itemCol=\"GAME_ID\", ratingCol=\"user_item_interaction\",\n",
        "          coldStartStrategy=\"drop\")\n",
        "model = als.fit(interactionDF)\n",
        "predictions = model.transform(test)\n",
        "predictions.show(5)"
      ],
      "metadata": {
        "id": "jGW5DtxuQ15b",
        "colab": {
          "base_uri": "https://localhost:8080/"
        },
        "outputId": "8c59eb8b-3e69-453c-9265-9c05655e1d94"
      },
      "execution_count": 48,
      "outputs": [
        {
          "output_type": "stream",
          "name": "stdout",
          "text": [
            "root\n",
            " |-- GAME_ID: long (nullable = true)\n",
            " |-- USER_ID: long (nullable = true)\n",
            " |-- rating: long (nullable = true)\n",
            " |-- user_mean: double (nullable = true)\n",
            " |-- item_mean: double (nullable = true)\n",
            " |-- user_item_interaction: double (nullable = true)\n",
            "\n",
            "+--------------------+---------+--------------+------------+------------------+------+-------+-----------+\n",
            "|          Steam_Game|  USER_ID|Behaviour_Name|Hours_played|   mean_Hourplayed|rating|GAME_ID| prediction|\n",
            "+--------------------+---------+--------------+------------+------------------+------+-------+-----------+\n",
            "|12 Labours of Her...| 84471496|      purchase|         1.0|2.6588234971551334|     1|      8| -0.6716606|\n",
            "|              Arma 2|119310413|      purchase|         1.0|3.0581661859009532|     1|    322|  1.1206747|\n",
            "|Arma Cold War Ass...| 84471496|      purchase|         1.0|1.2727272727272727|     1|    334|-0.32367003|\n",
            "|  Bejeweled 2 Deluxe| 35264447|      purchase|         1.0|              1.25|     1|    495| 0.09746783|\n",
            "|      Blade Symphony| 84471496|      purchase|         1.0| 6.640909070318395|     1|    553| -1.3919821|\n",
            "+--------------------+---------+--------------+------------+------------------+------+-------+-----------+\n",
            "only showing top 5 rows\n",
            "\n"
          ]
        }
      ]
    },
    {
      "cell_type": "code",
      "source": [
        "evaluator = RegressionEvaluator(metricName=\"rmse\", labelCol=\"rating\", predictionCol=\"prediction\")\n",
        "rmse = evaluator.evaluate(predictions)\n",
        "print(\"Root-mean-square error = \" + str(rmse))\n",
        "nrecommendations = model.recommendForAllUsers(5)\n",
        "nrecommendations.show(10)\n",
        "import pyspark.sql.functions as F\n",
        "nrecommendations = nrecommendations.withColumn(\"rec_exp\", F.explode(\"recommendations\"))\\\n",
        "    .select('USER_ID', F.col(\"rec_exp.GAME_ID\"), F.col(\"rec_exp.rating\"))\n",
        "nrecommendations.show(10)"
      ],
      "metadata": {
        "id": "wPyW1NobEo4f",
        "colab": {
          "base_uri": "https://localhost:8080/"
        },
        "outputId": "6cecf067-e0dc-4a52-99e6-b0711d68ccd3"
      },
      "execution_count": 50,
      "outputs": [
        {
          "output_type": "stream",
          "name": "stdout",
          "text": [
            "Root-mean-square error = 2.657371237851994\n",
            "+-------+--------------------+\n",
            "|USER_ID|     recommendations|\n",
            "+-------+--------------------+\n",
            "|  76767|[{1721, 8.060619}...|\n",
            "|  86540|[{5098, 3.4420786...|\n",
            "| 144736|[{1340, 4.582475}...|\n",
            "| 181212|[{3732, 4.389769}...|\n",
            "| 229911|[{2718, 7.5866976...|\n",
            "| 299153|[{3732, 4.8445687...|\n",
            "| 554278|[{2422, 5.667162}...|\n",
            "| 604988|[{1340, 4.8362274...|\n",
            "| 835015|[{1340, 4.5138464...|\n",
            "| 861238|[{1340, 4.2698274...|\n",
            "+-------+--------------------+\n",
            "only showing top 10 rows\n",
            "\n",
            "+-------+-------+---------+\n",
            "|USER_ID|GAME_ID|   rating|\n",
            "+-------+-------+---------+\n",
            "|  76767|   1721| 8.060619|\n",
            "|  76767|   4304|7.8003187|\n",
            "|  76767|   4235|  6.45822|\n",
            "|  76767|   3117| 6.437958|\n",
            "|  76767|   4241|6.3683524|\n",
            "|  86540|   5098|3.4420786|\n",
            "|  86540|   4371|2.5971277|\n",
            "|  86540|   2437|2.4138412|\n",
            "|  86540|   3940|2.2863338|\n",
            "|  86540|   4423| 2.279375|\n",
            "+-------+-------+---------+\n",
            "only showing top 10 rows\n",
            "\n"
          ]
        }
      ]
    },
    {
      "cell_type": "code",
      "source": [
        "Games = spark.read.schema(schema).csv(\"/content/drive/MyDrive/GOOGLE_COLAB/BigData/steam-200k.csv\", header=False)\n",
        "Gamesdf = Games.toPandas()\n",
        "Gamesdf['Steam_Game'] = Gamesdf['Steam_Game'].astype('category')\n",
        "Gamesdf['GAME_ID'] = Gamesdf['Steam_Game'].cat.codes\n",
        "Games = spark.createDataFrame(Gamesdf)\n",
        "Games = Games.select(F.col(\"USER_ID\"))"
      ],
      "metadata": {
        "id": "Oftz5akIEosl"
      },
      "execution_count": 51,
      "outputs": []
    },
    {
      "cell_type": "code",
      "source": [
        "# User’s ALS Recommendations:\n",
        "\n",
        "# Joining recommended movies for the given user_id with anime dataframe to display recommendations in more readable format\n",
        "int_df = nrecommendations.join(Games, on='USER_ID').filter('user_id = 151603712')\n",
        "int_df = int_df.distinct()\n",
        "int_df.count()\n",
        "int_df.show()\n",
        "int_df = int_df.toPandas()\n",
        "d[3881]\n",
        "int_df = int_df.sort_values(['rating'], ascending=[False])\n",
        "int_df['Game_Name'] = int_df['GAME_ID'].map(d)\n",
        "int_df"
      ],
      "metadata": {
        "id": "DyZNZWX9Eol8",
        "colab": {
          "base_uri": "https://localhost:8080/",
          "height": 379
        },
        "outputId": "4c7d161c-5d62-44ba-9d81-002da7355f3a"
      },
      "execution_count": 52,
      "outputs": [
        {
          "output_type": "stream",
          "name": "stdout",
          "text": [
            "+---------+-------+---------+\n",
            "|  USER_ID|GAME_ID|   rating|\n",
            "+---------+-------+---------+\n",
            "|151603712|   4284| 3.730401|\n",
            "|151603712|     59| 3.805622|\n",
            "|151603712|   4980|  5.62144|\n",
            "|151603712|   2352| 4.632932|\n",
            "|151603712|   3631|3.7350686|\n",
            "+---------+-------+---------+\n",
            "\n"
          ]
        },
        {
          "output_type": "execute_result",
          "data": {
            "text/plain": [
              "     USER_ID  GAME_ID    rating                    Game_Name\n",
              "2  151603712     4980  5.621440                Wings of Prey\n",
              "3  151603712     2352  4.632932                        Kairo\n",
              "1  151603712       59  3.805622  A New Beginning - Final Cut\n",
              "4  151603712     3631  3.735069                         SNOW\n",
              "0  151603712     4284  3.730401       Test Drive Unlimited 2"
            ],
            "text/html": [
              "\n",
              "  <div id=\"df-5b5e4de9-d589-40bf-b55e-38cf38f97900\">\n",
              "    <div class=\"colab-df-container\">\n",
              "      <div>\n",
              "<style scoped>\n",
              "    .dataframe tbody tr th:only-of-type {\n",
              "        vertical-align: middle;\n",
              "    }\n",
              "\n",
              "    .dataframe tbody tr th {\n",
              "        vertical-align: top;\n",
              "    }\n",
              "\n",
              "    .dataframe thead th {\n",
              "        text-align: right;\n",
              "    }\n",
              "</style>\n",
              "<table border=\"1\" class=\"dataframe\">\n",
              "  <thead>\n",
              "    <tr style=\"text-align: right;\">\n",
              "      <th></th>\n",
              "      <th>USER_ID</th>\n",
              "      <th>GAME_ID</th>\n",
              "      <th>rating</th>\n",
              "      <th>Game_Name</th>\n",
              "    </tr>\n",
              "  </thead>\n",
              "  <tbody>\n",
              "    <tr>\n",
              "      <th>2</th>\n",
              "      <td>151603712</td>\n",
              "      <td>4980</td>\n",
              "      <td>5.621440</td>\n",
              "      <td>Wings of Prey</td>\n",
              "    </tr>\n",
              "    <tr>\n",
              "      <th>3</th>\n",
              "      <td>151603712</td>\n",
              "      <td>2352</td>\n",
              "      <td>4.632932</td>\n",
              "      <td>Kairo</td>\n",
              "    </tr>\n",
              "    <tr>\n",
              "      <th>1</th>\n",
              "      <td>151603712</td>\n",
              "      <td>59</td>\n",
              "      <td>3.805622</td>\n",
              "      <td>A New Beginning - Final Cut</td>\n",
              "    </tr>\n",
              "    <tr>\n",
              "      <th>4</th>\n",
              "      <td>151603712</td>\n",
              "      <td>3631</td>\n",
              "      <td>3.735069</td>\n",
              "      <td>SNOW</td>\n",
              "    </tr>\n",
              "    <tr>\n",
              "      <th>0</th>\n",
              "      <td>151603712</td>\n",
              "      <td>4284</td>\n",
              "      <td>3.730401</td>\n",
              "      <td>Test Drive Unlimited 2</td>\n",
              "    </tr>\n",
              "  </tbody>\n",
              "</table>\n",
              "</div>\n",
              "      <button class=\"colab-df-convert\" onclick=\"convertToInteractive('df-5b5e4de9-d589-40bf-b55e-38cf38f97900')\"\n",
              "              title=\"Convert this dataframe to an interactive table.\"\n",
              "              style=\"display:none;\">\n",
              "        \n",
              "  <svg xmlns=\"http://www.w3.org/2000/svg\" height=\"24px\"viewBox=\"0 0 24 24\"\n",
              "       width=\"24px\">\n",
              "    <path d=\"M0 0h24v24H0V0z\" fill=\"none\"/>\n",
              "    <path d=\"M18.56 5.44l.94 2.06.94-2.06 2.06-.94-2.06-.94-.94-2.06-.94 2.06-2.06.94zm-11 1L8.5 8.5l.94-2.06 2.06-.94-2.06-.94L8.5 2.5l-.94 2.06-2.06.94zm10 10l.94 2.06.94-2.06 2.06-.94-2.06-.94-.94-2.06-.94 2.06-2.06.94z\"/><path d=\"M17.41 7.96l-1.37-1.37c-.4-.4-.92-.59-1.43-.59-.52 0-1.04.2-1.43.59L10.3 9.45l-7.72 7.72c-.78.78-.78 2.05 0 2.83L4 21.41c.39.39.9.59 1.41.59.51 0 1.02-.2 1.41-.59l7.78-7.78 2.81-2.81c.8-.78.8-2.07 0-2.86zM5.41 20L4 18.59l7.72-7.72 1.47 1.35L5.41 20z\"/>\n",
              "  </svg>\n",
              "      </button>\n",
              "      \n",
              "  <style>\n",
              "    .colab-df-container {\n",
              "      display:flex;\n",
              "      flex-wrap:wrap;\n",
              "      gap: 12px;\n",
              "    }\n",
              "\n",
              "    .colab-df-convert {\n",
              "      background-color: #E8F0FE;\n",
              "      border: none;\n",
              "      border-radius: 50%;\n",
              "      cursor: pointer;\n",
              "      display: none;\n",
              "      fill: #1967D2;\n",
              "      height: 32px;\n",
              "      padding: 0 0 0 0;\n",
              "      width: 32px;\n",
              "    }\n",
              "\n",
              "    .colab-df-convert:hover {\n",
              "      background-color: #E2EBFA;\n",
              "      box-shadow: 0px 1px 2px rgba(60, 64, 67, 0.3), 0px 1px 3px 1px rgba(60, 64, 67, 0.15);\n",
              "      fill: #174EA6;\n",
              "    }\n",
              "\n",
              "    [theme=dark] .colab-df-convert {\n",
              "      background-color: #3B4455;\n",
              "      fill: #D2E3FC;\n",
              "    }\n",
              "\n",
              "    [theme=dark] .colab-df-convert:hover {\n",
              "      background-color: #434B5C;\n",
              "      box-shadow: 0px 1px 3px 1px rgba(0, 0, 0, 0.15);\n",
              "      filter: drop-shadow(0px 1px 2px rgba(0, 0, 0, 0.3));\n",
              "      fill: #FFFFFF;\n",
              "    }\n",
              "  </style>\n",
              "\n",
              "      <script>\n",
              "        const buttonEl =\n",
              "          document.querySelector('#df-5b5e4de9-d589-40bf-b55e-38cf38f97900 button.colab-df-convert');\n",
              "        buttonEl.style.display =\n",
              "          google.colab.kernel.accessAllowed ? 'block' : 'none';\n",
              "\n",
              "        async function convertToInteractive(key) {\n",
              "          const element = document.querySelector('#df-5b5e4de9-d589-40bf-b55e-38cf38f97900');\n",
              "          const dataTable =\n",
              "            await google.colab.kernel.invokeFunction('convertToInteractive',\n",
              "                                                     [key], {});\n",
              "          if (!dataTable) return;\n",
              "\n",
              "          const docLinkHtml = 'Like what you see? Visit the ' +\n",
              "            '<a target=\"_blank\" href=https://colab.research.google.com/notebooks/data_table.ipynb>data table notebook</a>'\n",
              "            + ' to learn more about interactive tables.';\n",
              "          element.innerHTML = '';\n",
              "          dataTable['output_type'] = 'display_data';\n",
              "          await google.colab.output.renderOutput(dataTable, element);\n",
              "          const docLink = document.createElement('div');\n",
              "          docLink.innerHTML = docLinkHtml;\n",
              "          element.appendChild(docLink);\n",
              "        }\n",
              "      </script>\n",
              "    </div>\n",
              "  </div>\n",
              "  "
            ]
          },
          "metadata": {},
          "execution_count": 52
        }
      ]
    }
  ],
  "metadata": {
    "colab": {
      "provenance": []
    },
    "kernelspec": {
      "display_name": "Python 3",
      "name": "python3"
    },
    "language_info": {
      "name": "python"
    },
    "accelerator": "GPU",
    "gpuClass": "standard"
  },
  "nbformat": 4,
  "nbformat_minor": 0
}